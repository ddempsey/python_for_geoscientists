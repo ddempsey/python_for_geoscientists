{
 "cells": [
  {
   "cell_type": "markdown",
   "metadata": {},
   "source": [
    "# Python 101"
   ]
  },
  {
   "cell_type": "markdown",
   "metadata": {},
   "source": [
    "The purpose of this notebook is to give you the **very basics** of Python (and computer code in general). You will not be an expert by the end. But you will be on the path."
   ]
  },
  {
   "cell_type": "markdown",
   "metadata": {},
   "source": [
    "When writing computer code, there are ***rules*** and there are ***conventions***.\n",
    "\n",
    "- If you break a ***rule***, the code will not work.\n",
    "- If you break a ***convention***, someone, somewhere puts a mark against your name in a book. At the end of times, there will be a final accounting. \n",
    "\n",
    "Some Python rules:\n",
    "\n",
    "- ***Syntax*** - we have *very* precise expectations about how you write computer code. If you type an opening a bracket, $($, you must close it again later, $)$. Some control structures are terminated by a colon, $:$ - if you omit this, the code will not work. ***Learning syntax for a new code is very pedantic and a total pain.*** But you have to do it anyway, and at least Python returns readable error messages to help you understand your missteps...\n",
    "- ***Indentation*** - Python uses this to determine when control structures begin and end. More on what a **control structure** is later. \n",
    "\n",
    "Some Python conventions:\n",
    "\n",
    "- ***Commenting*** - it is helpful for the poor soul who has to read your poorly written Python (sometimes that is you, weeks or months later) if you have included little **'sign-posts'** in the code, articulating what you are doing. These are called comments. They begin with a $#$ symbol, after which you can write whatever you like and it will not be executed as a command.\n",
    "- ***Sensible variable names*** - relating to the thing the variable represents but not too long. For example, if a variable contains the mean temperature, then `Tmean` is a sensible variable name, where as `the_mean_temperature_of_the_profile` or `a1` are not sensible variable names.\n",
    "\n",
    "Hang-on, what's a 'variable'?\n",
    "\n",
    "**Execute the cell below by clicking inside it and hitting Ctrl+Enter**"
   ]
  },
  {
   "cell_type": "code",
   "execution_count": null,
   "metadata": {},
   "outputs": [],
   "source": [
    "# this is a comment, nothing happens when Python reads this line\n",
    "hello_string = 'Hello, world'\n",
    "print(hello_string)"
   ]
  },
  {
   "cell_type": "markdown",
   "metadata": {},
   "source": [
    "The snippet of Python code above does a number of things.\n",
    "\n",
    "1. The first **line** is a comment - Python sees the $#$ symbol and ignores everything that follows **on that line**.\n",
    "2. The second line creates a **variable** called `hello_string` and **assigns to it** the ***value*** `'Hello, world'`.\n",
    "3. The third line uses a **function** called `print` to display the value of `hello_string` to the screen. `hello_string` was **passed** to `print` as an **input** or **argument**.\n",
    "\n",
    "Ooooooh. LOTS of terminology there. Let's list and define the terms:\n",
    "\n",
    "- ***line*** - just as you read a book one sentence at a time, Python executes a computer program one line at a time. If Python is executing the 4th line of a program, it *will* have knowledge of the three lines preceding it, *but no* knowledge of the lines that follow.\n",
    "- ***variable*** - think of this as a 'container' inside the computer code. A variable has a **name** (in this case, `hello_string`) and a **value**.\n",
    "- ***value*** - the thing sitting inside the 'container', in this case it is `'Hello, world'`, which is a particular **type** of variable called a string.\n",
    "- ***type*** - a classification of the variable, e.g., `'hi'` and `'Hello, world'` are both *strings*, `3.2`, `5.0` and `-0.12e5` are *floats*, and `2`, `-3412` and `0` are *integers*. There are other types, we will get to some of them later.\n",
    "- ***assign to*** - the act of giving a *value* to a *variable*, usually accomplished by an 'equals sign', e.g., `variable = value`.\n",
    "- ***function*** - a sequence of Python commands, written down somewhere else, to achieve some small (or large) task. Some functions are given to you as part of Python and its modules. Others you will have to define yourself. Functions inputs are passed inside of **round brackets**.\n",
    "- ***input/argument*** - a variable that is used by a function as it executes its tasks."
   ]
  },
  {
   "cell_type": "markdown",
   "metadata": {},
   "source": [
    "## Learning by doing"
   ]
  },
  {
   "cell_type": "markdown",
   "metadata": {},
   "source": [
    "Obviously, the best way to master any new skill is to practice it. Work your way through the cells below to grow your Python foundation."
   ]
  },
  {
   "cell_type": "markdown",
   "metadata": {},
   "source": [
    "### We can use Python as a glorified calculator"
   ]
  },
  {
   "cell_type": "markdown",
   "metadata": {},
   "source": [
    "In the example below, we create a few variables, assign them some simple numbers, and confirm that Python can manage basic arithmetic."
   ]
  },
  {
   "cell_type": "code",
   "execution_count": null,
   "metadata": {},
   "outputs": [],
   "source": [
    "a = 2           # a variable named a, assigned a value of 2, which is of type 'integer'\n",
    "b = 3\n",
    "c = a+b         # adding two variables together to create a third one\n",
    "print(c)\n",
    "\n",
    "# Can you make a change? Define the variable d as the sum of a and b and c. Print it out."
   ]
  },
  {
   "cell_type": "markdown",
   "metadata": {},
   "source": [
    "See also"
   ]
  },
  {
   "cell_type": "code",
   "execution_count": null,
   "metadata": {},
   "outputs": [],
   "source": [
    "print(a-b)      # Python does subtraction\n",
    "print(a*b)      # and multiplication\n",
    "print(a/b)      # and division\n",
    "print(a**b)     # and exponentiation\n",
    "\n",
    "# Can you make a change? Print the value of b minus a, instead of a minus b ."
   ]
  },
  {
   "cell_type": "markdown",
   "metadata": {},
   "source": [
    "There are heaps of other mathematical operations we can perform with Python, many of which are made available through the NumPy module."
   ]
  },
  {
   "cell_type": "code",
   "execution_count": null,
   "metadata": {},
   "outputs": [],
   "source": [
    "import numpy as np\n",
    "print(np.sin(a))"
   ]
  },
  {
   "cell_type": "markdown",
   "metadata": {},
   "source": [
    "In the cell above we **imported** `numpy` and told Python to make the module available as a variable called `np`. Then, if I want to use one of its special functions, I use the **syntax** `module.function`.\n",
    "\n",
    "Some more examples below"
   ]
  },
  {
   "cell_type": "code",
   "execution_count": null,
   "metadata": {},
   "outputs": [],
   "source": [
    "print(np.cos(b))\n",
    "print(np.log(a))\n",
    "print(np.log10(b))\n",
    "print(np.sinh(a))\n",
    "print(np.arctan2(a,b))"
   ]
  },
  {
   "cell_type": "markdown",
   "metadata": {},
   "source": [
    "Not sure what a particular function does? Write it down and replace the round brackets with a question mark `?`"
   ]
  },
  {
   "cell_type": "code",
   "execution_count": null,
   "metadata": {},
   "outputs": [],
   "source": [
    "np.arctan2?"
   ]
  },
  {
   "cell_type": "markdown",
   "metadata": {},
   "source": [
    "### Whoops!"
   ]
  },
  {
   "cell_type": "markdown",
   "metadata": {},
   "source": [
    "I have replicated the very first example in this notebook, **except** that the variable names have been changed AND I have **reversed the order** of the commands.\n",
    "\n",
    "***Run the cell below***"
   ]
  },
  {
   "cell_type": "code",
   "execution_count": null,
   "metadata": {},
   "outputs": [],
   "source": [
    "# this is a comment, nothing happens when Python reads this line\n",
    "print(night_string)\n",
    "night_string = 'Good night, world'"
   ]
  },
  {
   "cell_type": "markdown",
   "metadata": {},
   "source": [
    "What you see above is a Python error message. ***Reading these messages and using them to debug your code is an invaluable skill.***\n",
    "\n",
    "There are two key pieces of information:\n",
    "\n",
    "1. **WHERE** is the error. In this case, the problem occurs on Line 2. We know this, because there is an arrow pointing to it, i.e., `----> 2 print(night_string)`\n",
    "2. **WHAT** is the error. In this case, it is that we are attempting to use a variable called `night_string` before it has been created. We know this from the very last piece of information in the error message, i.e., `name 'night_string' is not defined`.\n",
    "\n",
    "Deciphering these errors **gets easier with practice**, because there are a handful of easy-to-make mistakes that will crop up frequently. \n",
    "\n",
    "Another tip, sometimes the error is not on the line that `---->` points to, but instead the command immediately above or below it.\n",
    "\n",
    "***Fix the error above so that the cell runs correctly.***\n",
    "\n",
    "To do this, swap the order of the two commands. The key here is that `night_string` has to be defined (`night_string = 'Good night, world'`) before it can be used in a function (`print(night_string)`)."
   ]
  },
  {
   "cell_type": "markdown",
   "metadata": {},
   "source": [
    "***See if you can fix the errors in the code below.***"
   ]
  },
  {
   "cell_type": "code",
   "execution_count": null,
   "metadata": {},
   "outputs": [],
   "source": [
    "# calculate the harmonic average of the numbers a and b\n",
    "hamonic_avg = 2/(1/a+1/b\n",
    "a = 2\n",
    "b = 3\n",
    "print(hamonic_avg)"
   ]
  },
  {
   "cell_type": "markdown",
   "metadata": {},
   "source": [
    "### Lists and arrays"
   ]
  },
  {
   "cell_type": "markdown",
   "metadata": {},
   "source": [
    "There are these things called lists. They are as you would expect, literally a list of ordered items. An example is given below."
   ]
  },
  {
   "cell_type": "code",
   "execution_count": null,
   "metadata": {},
   "outputs": [],
   "source": [
    "my_list = [1,2,3]                                            # this list has three items\n",
    "empty_list = []                                              # this list has no items\n",
    "mixed_list = [-0.2, 300, 'a string', 5.3, True, my_list]     # this list has four items of different types, one is another list\n",
    "\n",
    "print(mixed_list)"
   ]
  },
  {
   "cell_type": "markdown",
   "metadata": {},
   "source": [
    "Note, lists use square brackets [] whereas functions use round brackets () - ***syntax!***\n",
    "\n",
    "We can **access** the items of a list by passing an **index** to the variable name. The indices begin at 0 (the first item in a list) and increment by 1. For example"
   ]
  },
  {
   "cell_type": "code",
   "execution_count": null,
   "metadata": {},
   "outputs": [],
   "source": [
    "print(my_list[0])"
   ]
  },
  {
   "cell_type": "code",
   "execution_count": null,
   "metadata": {},
   "outputs": [],
   "source": [
    "print(my_list[1]+my_list[2])"
   ]
  },
  {
   "cell_type": "markdown",
   "metadata": {},
   "source": [
    "We can also use indices to 'count backward' from the end of the list, for example"
   ]
  },
  {
   "cell_type": "code",
   "execution_count": null,
   "metadata": {},
   "outputs": [],
   "source": [
    "print(my_list[2], my_list[-1])                 # these access the same element of the list\n",
    "print(my_list[1], my_list[-2])                 # so do these"
   ]
  },
  {
   "cell_type": "markdown",
   "metadata": {},
   "source": [
    "We can pull out a smaller list from the list using **index slicing**. This uses the colon, $:$, which essentially says 'and everything in between'. For example, "
   ]
  },
  {
   "cell_type": "code",
   "execution_count": null,
   "metadata": {},
   "outputs": [],
   "source": [
    "print(mixed_list)\n",
    "print(mixed_list[1:3])                         # all items between index 1 and 3 NOT including 3\n",
    "print(mixed_list[:3])                          # all items from the START of the list up to index 3 NOT including 3\n",
    "print(mixed_list[3:])                          # all items from index 3 up to the END of the list"
   ]
  },
  {
   "cell_type": "markdown",
   "metadata": {},
   "source": [
    "An **array** is a list of numbers. It has special properties"
   ]
  },
  {
   "cell_type": "code",
   "execution_count": null,
   "metadata": {},
   "outputs": [],
   "source": [
    "a1 = np.array([1,2,3])\n",
    "a2 = np.array([0.1, 0.1, -0.1])\n",
    "print(a1+a2)\n",
    "print(a1*a2)"
   ]
  },
  {
   "cell_type": "markdown",
   "metadata": {},
   "source": [
    "Make sure your arrays are the same length though! ***Execute the cell below and interpret the error message***"
   ]
  },
  {
   "cell_type": "code",
   "execution_count": null,
   "metadata": {},
   "outputs": [],
   "source": [
    "b1 = np.array([4,5,6])\n",
    "b2 = np.array([0.1,-0.1])\n",
    "print(b1+b2)"
   ]
  },
  {
   "cell_type": "markdown",
   "metadata": {},
   "source": [
    "### Doing things over and over"
   ]
  },
  {
   "cell_type": "markdown",
   "metadata": {},
   "source": [
    "Scripting is useful to automate tasks that have to be performed over and over. For instance, consider calculating the value of $e$ using the exponential series\n",
    "\n",
    "$$ e = 1+\\frac{1}{1!}+\\frac{1}{2!}+\\frac{1}{3!}+\\frac{1}{4!}+\\cdots $$"
   ]
  },
  {
   "cell_type": "markdown",
   "metadata": {},
   "source": [
    "We could do it the long way..."
   ]
  },
  {
   "cell_type": "code",
   "execution_count": null,
   "metadata": {},
   "outputs": [],
   "source": [
    "from math import factorial\n",
    "e = 1 + 1/factorial(1) + 1/factorial(2) + 1/factorial(3) + 1/factorial(4) + 1/factorial(5)    # I got tired and gave up here\n",
    "print(e)"
   ]
  },
  {
   "cell_type": "markdown",
   "metadata": {},
   "source": [
    "Or we could write a **for loop** to do it for us."
   ]
  },
  {
   "cell_type": "code",
   "execution_count": null,
   "metadata": {},
   "outputs": [],
   "source": [
    "e = 1        # the initial value\n",
    "for i in range(1,20):        # create a variable called i, initially assign it the value of 1, then 2, then 3, ... then 20\n",
    "    e = e + 1/factorial(i)   # each time the loop 'goes around', execute the commands 'in the loop'\n",
    "print(e)"
   ]
  },
  {
   "cell_type": "markdown",
   "metadata": {},
   "source": [
    "What's happening above? The loop we have written is identical to the sequence of commands below"
   ]
  },
  {
   "cell_type": "code",
   "execution_count": null,
   "metadata": {},
   "outputs": [],
   "source": [
    "e = 1\n",
    "i = 1\n",
    "e = e + 1/factorial(i)\n",
    "i = 2\n",
    "e = e + 1/factorial(i)\n",
    "i = 3\n",
    "e = e + 1/factorial(i)\n",
    "i = 4\n",
    "e = e + 1/factorial(i)\n",
    "i = 5\n",
    "e = e + 1/factorial(i)\n",
    "i = 6\n",
    "e = e + 1/factorial(i)\n",
    "i = 7\n",
    "e = e + 1/factorial(i)\n",
    "i = 8\n",
    "e = e + 1/factorial(i)\n",
    "i = 9\n",
    "e = e + 1/factorial(i)\n",
    "i = 10\n",
    "e = e + 1/factorial(i)\n",
    "i = 11\n",
    "e = e + 1/factorial(i)\n",
    "i = 12\n",
    "e = e + 1/factorial(i)\n",
    "i = 13\n",
    "e = e + 1/factorial(i)\n",
    "i = 14\n",
    "e = e + 1/factorial(i)\n",
    "i = 15\n",
    "e = e + 1/factorial(i)\n",
    "i = 16\n",
    "e = e + 1/factorial(i)\n",
    "i = 17\n",
    "e = e + 1/factorial(i)\n",
    "i = 18\n",
    "e = e + 1/factorial(i)\n",
    "i = 19\n",
    "e = e + 1/factorial(i)\n",
    "i = 20\n",
    "e = e + 1/factorial(i)\n",
    "print(e)"
   ]
  },
  {
   "cell_type": "markdown",
   "metadata": {},
   "source": [
    "but with A LOT less repetition. Can you see which command is 'inside the loop' and gets executed over and over? Can you see which variable has its value changed with each iteration of the loop?\n",
    "\n",
    "***In the cell below, write a for loop to calculate the \"sum of squares\" of a list of numbers.***"
   ]
  },
  {
   "cell_type": "code",
   "execution_count": null,
   "metadata": {},
   "outputs": [],
   "source": [
    "a = [1,2,3,4,5,6,7,8,9,10]\n",
    "sum_squares = 0\n",
    "# **your code here**"
   ]
  },
  {
   "cell_type": "markdown",
   "metadata": {},
   "source": [
    "### Making the computer program a little bit smart"
   ]
  },
  {
   "cell_type": "markdown",
   "metadata": {},
   "source": [
    "Humans are (allegedly) an intelligent species. One aspect of this intelligence is the ability to **see how things are and act accordingly**. What?\n",
    "\n",
    "As an example, to cross a busy street, you first check for cars. ***If*** there is a car coming, you do not cross, ***else*** you do. \n",
    "\n",
    "We can write this in Python."
   ]
  },
  {
   "cell_type": "code",
   "execution_count": null,
   "metadata": {},
   "outputs": [],
   "source": [
    "street = 'busy'\n",
    "if street == 'busy':\n",
    "    print('dont cross the street')\n",
    "else:\n",
    "    print('cross the street')"
   ]
  },
  {
   "cell_type": "markdown",
   "metadata": {},
   "source": [
    "The `if` statement above evaluates a **condition** (essentially a question asked of Python, is the 'value' of `street` equal to `'busy'`). \n",
    "\n",
    "If the condition evaluates to `True`, then the command `print('dont cross the street')` is executed. If it evaluates to `'False'`, then the command `print('cross the street')` is executed instead. \n",
    "\n",
    "The key here though is that it is **one or the other** and the outcome depends on stuff that happened earlier in the code (in this case, on the first line when I assigned a value to the variable `street`).\n",
    "\n",
    "Have another play with the example below."
   ]
  },
  {
   "cell_type": "code",
   "execution_count": null,
   "metadata": {},
   "outputs": [],
   "source": [
    "street = 'busy'\n",
    "attempt_to_cross = True     # this is a type of variable called a 'boolean' - it is either True or False, no other options\n",
    "\n",
    "if street == 'busy' and attempt_to_cross is False:      # the first condition to check\n",
    "    print('dont cross, good decision')\n",
    "elif street != 'busy' and attempt_to_cross is True:     # if the first condition is False, then check this one\n",
    "    print('safe to cross, well done')\n",
    "elif street == 'busy' and attempt_to_cross is True:     # if the first AND second conditions are False, check this one\n",
    "    print('you dead')"
   ]
  },
  {
   "cell_type": "markdown",
   "metadata": {},
   "source": [
    "In the example above, we see that the **special statement**, `and`, allows us to evaluate two conditions at once and require that they BOTH be true. Alternatively, we could have used `or`, which allows either one, or both to be true.\n",
    "\n",
    "***Make changes to the cell above to generate a \"successful crossing\" outcome.***\n",
    "\n",
    "The example demonstrates different conditions and combinations of conditions"
   ]
  },
  {
   "cell_type": "code",
   "execution_count": null,
   "metadata": {},
   "outputs": [],
   "source": [
    "print('1',True and True)\n",
    "print('2',True and False)\n",
    "print('3',True or False)\n",
    "print('4',False or False)\n",
    "print('5',not False)\n",
    "print('6', False or not False)\n",
    "print('6b', False or not (True or not True))\n",
    "print('7', 3>4)\n",
    "print('8', 3<4)\n",
    "print('9', 4<4)\n",
    "print('10', 4<=4)\n",
    "print('11', 4==4)\n",
    "a = 4\n",
    "print('12', a>3 and a<5)\n",
    "print('13', 3<a<5)"
   ]
  },
  {
   "cell_type": "markdown",
   "metadata": {},
   "source": [
    "# What now?"
   ]
  },
  {
   "cell_type": "markdown",
   "metadata": {},
   "source": [
    "There you go. That's your crash course in computer coding and Python. Obviously, we're only scraping the surface, and you shouldn't expect to really feel like you \"*know what you're doing*\" until you've been writing Python for a month. \n",
    "\n",
    "The rewards though. So great.\n",
    "\n",
    "Let's **open the [Data](module 1 - data/Data.ipynb) notebook in the module 1 folder** (you can do this in the main Jupyter tab or just click the link to the left). "
   ]
  }
 ],
 "metadata": {
  "kernelspec": {
   "display_name": "Python [default]",
   "language": "python",
   "name": "python3"
  },
  "language_info": {
   "codemirror_mode": {
    "name": "ipython",
    "version": 3
   },
   "file_extension": ".py",
   "mimetype": "text/x-python",
   "name": "python",
   "nbconvert_exporter": "python",
   "pygments_lexer": "ipython3",
   "version": "3.5.3"
  }
 },
 "nbformat": 4,
 "nbformat_minor": 2
}
