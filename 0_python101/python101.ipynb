{
 "cells": [
  {
   "cell_type": "markdown",
   "metadata": {},
   "source": [
    "# 0 Python 101"
   ]
  },
  {
   "cell_type": "markdown",
   "metadata": {},
   "source": [
    "The purpose of this notebook is to give you the **very basics** of Python (and computer code in general). You will not be an expert by the end. But you will be on [The Path](https://zen-of-python.info/)."
   ]
  },
  {
   "cell_type": "markdown",
   "metadata": {},
   "source": [
    "When writing computer code, there are ***rules*** and there are ***conventions***.\n",
    "\n",
    "- If you break a ***rule***, the code will not work.\n",
    "- If you break a ***convention***, someone, somewhere puts a mark against your name in a book. At the end of times, there will be a final accounting. \n",
    "\n",
    "Some Python rules:\n",
    "\n",
    "- ***Syntax*** - we have *very* precise expectations about how you write computer code. If you type an opening a bracket, $($, you must close it again later, $)$. Some control structures are terminated by a colon, $:$ - if you omit this, the code will not work. ***Learning syntax for a new code is very pedantic and a total pain.*** But you have to do it anyway, and at least Python returns readable error messages to help you understand your missteps...\n",
    "- ***Indentation*** - Python uses this to determine when control structures begin and end. More on what a **control structure** is later. \n",
    "\n",
    "Some Python conventions:\n",
    "\n",
    "- ***Commenting*** - it is helpful for the poor soul who has to read your poorly written Python (sometimes that is you, weeks or months later) if you have included little **'sign-posts'** in the code, articulating what you are doing. These are called comments. They begin with a $#$ symbol, after which you can write whatever you like and it will not be executed as a command.\n",
    "- ***Sensible variable names*** - relating to the thing the variable represents but not too long. For example, if a variable contains the mean temperature, then `Tmean` is a sensible variable name, where as `the_mean_temperature_of_the_profile` or `a1` are not sensible variable names.\n",
    "\n",
    "Hang-on, what's a 'variable'?\n",
    "\n",
    "**Execute the cell below by clicking inside it and hitting Ctrl+Enter**"
   ]
  },
  {
   "cell_type": "code",
   "execution_count": null,
   "metadata": {},
   "outputs": [],
   "source": [
    "# this is a comment, nothing happens when Python reads this line\n",
    "hello_string = 'Hello, world'\n",
    "print(hello_string)"
   ]
  },
  {
   "cell_type": "markdown",
   "metadata": {},
   "source": [
    "The snippet of Python code above does a number of things.\n",
    "\n",
    "1. The first **line** is a comment - Python sees the $#$ symbol and ignores everything that follows **on that line**.\n",
    "2. The second line creates a **variable** called `hello_string` and **assigns to it** the ***value*** `'Hello, world'`.\n",
    "3. The third line uses a **function** called `print` to display the value of `hello_string` to the screen. `hello_string` was **passed** to `print` as an **input** or **argument**.\n",
    "\n",
    "Ooooooh. LOTS of terminology there. Let's list and define the terms:\n",
    "\n",
    "- ***line*** - just as you read a book one sentence at a time, Python executes a computer program one line at a time. If Python is executing the 4th line of a program, it *will* have knowledge of the three lines preceding it, *but no* knowledge of the lines that follow.\n",
    "- ***variable*** - think of this as a 'container' inside the computer code. A variable has a **name** (in this case, `hello_string`) and a **value**.\n",
    "- ***value*** - the thing sitting inside the 'container', in this case it is `'Hello, world'`, which is a particular **type** of variable called a string.\n",
    "- ***type*** - a classification of the variable, e.g., `'hi'` and `'Hello, world'` are both *strings*, `3.2`, `5.0` and `-0.12e5` are *floats*, and `2`, `-3412` and `0` are *integers*. There are other types, we will get to some of them later.\n",
    "- ***assign to*** - the act of giving a *value* to a *variable*, usually accomplished by an 'equals sign', e.g., `variable = value`.\n",
    "- ***function*** - a sequence of Python commands, written down somewhere else, to achieve some small (or large) task. Some functions are given to you as part of Python and its modules. Others you will have to define yourself. Functions inputs are passed inside of **round brackets**.\n",
    "- ***input/argument*** - a variable that is used by a function as it executes its tasks."
   ]
  },
  {
   "cell_type": "markdown",
   "metadata": {},
   "source": [
    "## Learning by doing"
   ]
  },
  {
   "cell_type": "markdown",
   "metadata": {},
   "source": [
    "Obviously, the best way to master any new skill is to practice it. Work your way through the cells and exercises below to grow your Python foundation."
   ]
  },
  {
   "cell_type": "markdown",
   "metadata": {},
   "source": [
    "## 0.1 We can use Python as a glorified calculator"
   ]
  },
  {
   "cell_type": "markdown",
   "metadata": {},
   "source": [
    "In the example below, we create a few variables, assign them some simple numbers, and confirm that Python can manage basic arithmetic."
   ]
  },
  {
   "cell_type": "code",
   "execution_count": null,
   "metadata": {},
   "outputs": [],
   "source": [
    "a = 2           # a variable named a, assigned a value of 2, which is of type 'integer'\n",
    "b = 3\n",
    "c = a+b         # adding two variables together to create a third one\n",
    "print(c)\n",
    "\n",
    "# **to do**\n",
    "# Define the variable d as the sum of a and b and c. Print it out."
   ]
  },
  {
   "cell_type": "markdown",
   "metadata": {},
   "source": [
    "See also"
   ]
  },
  {
   "cell_type": "code",
   "execution_count": null,
   "metadata": {},
   "outputs": [],
   "source": [
    "print(a-b)      # Python does subtraction\n",
    "print(a*b)      # and multiplication\n",
    "print(a/b)      # and division\n",
    "print(a**b)     # and exponentiation\n",
    "\n",
    "# **to do**\n",
    "# Print the value of b minus a, instead of a minus b ."
   ]
  },
  {
   "cell_type": "markdown",
   "metadata": {},
   "source": [
    "There are heaps of other mathematical operations we can perform with Python, many of which are made available through the NumPy module."
   ]
  },
  {
   "cell_type": "code",
   "execution_count": null,
   "metadata": {},
   "outputs": [],
   "source": [
    "import numpy as np\n",
    "print(np.sin(a))"
   ]
  },
  {
   "cell_type": "markdown",
   "metadata": {},
   "source": [
    "In the cell above we **imported** `numpy` and told Python to make the module available as a variable called `np`. Then, if I want to use one of its special functions, I use the **syntax** `module.function`.\n",
    "\n",
    "Some more examples below"
   ]
  },
  {
   "cell_type": "code",
   "execution_count": null,
   "metadata": {},
   "outputs": [],
   "source": [
    "print(np.cos(b))\n",
    "print(np.log(a))\n",
    "print(np.log10(b))\n",
    "print(np.sinh(a))\n",
    "print(np.sqrt(c))\n",
    "print(np.arctan2(a,b))\n",
    "\n",
    "# **to do**\n",
    "# What mathematical operation do each of the functions above correspond to?"
   ]
  },
  {
   "cell_type": "markdown",
   "metadata": {},
   "source": [
    "Not sure what a particular function does? Write it down and replace the round brackets with a question mark `?`"
   ]
  },
  {
   "cell_type": "code",
   "execution_count": null,
   "metadata": {},
   "outputs": [],
   "source": [
    "np.arctan2?\n",
    "\n",
    "# **to do**\n",
    "# What does np.exp do?"
   ]
  },
  {
   "cell_type": "markdown",
   "metadata": {},
   "source": [
    "#### &lt;homework&gt;"
   ]
  },
  {
   "cell_type": "markdown",
   "metadata": {},
   "source": [
    "Calculate the mass flow coming out of a well using an elliptical wellhead pressure law with linear decline over time.\n",
    "\n",
    "\\begin{equation}\n",
    "mf = \\sqrt{a -b\\times whp^2} + c\\times t,\n",
    "\\end{equation}\n",
    "\n",
    "where $a$, $b$ and $c$ are parameters, $t$ is time (in days), $whp$ is wellhead pressure (in bar), and $mf$ is mass flow (in kg/s)."
   ]
  },
  {
   "cell_type": "code",
   "execution_count": null,
   "metadata": {},
   "outputs": [],
   "source": [
    "# **to do**\n",
    "# calculate mass flow.\n",
    "whp = 12.\n",
    "t = 365.\n",
    "a = 1.e6\n",
    "b = 4.7e3\n",
    "c = -0.1\n",
    "# mf = \n",
    "\n",
    "# **to do**\n",
    "# calculate mass flow for an array of wellhead pressures\n",
    "whp = np.linspace(8,15,21)\n",
    "print(whp)\n",
    "# mf = \n",
    "\n",
    "# **to do**\n",
    "# calculate mass flow for whp = 12 and an array of 100 times between 0 and 2*365 (2 years)\n",
    "# t = \n",
    "# mf = "
   ]
  },
  {
   "cell_type": "markdown",
   "metadata": {},
   "source": [
    "Calculate viscosity according to [Costa et al. [2007]](http://onlinelibrary.wiley.com/doi/10.1029/2008GC002138/abstract)\n",
    "\n",
    "\\begin{equation}\n",
    "\\eta(\\phi) = \\frac{1+\\varphi^\\delta}{\\left[1-F(\\varphi, \\varepsilon, \\gamma)^{B\\cdot\\phi_*}\\right]},\\quad\\text{where}\\quad F=(1-\\xi)\\cdot\\text{erf}\\left[\\frac{\\sqrt{\\pi}}{2\\cdot(1-\\xi)}\\varphi\\cdot(1+\\varphi^\\gamma)\\right]\\quad\\text{with}\\quad\\varphi=\\frac{\\phi}{\\phi_*}.\n",
    "\\end{equation}"
   ]
  },
  {
   "cell_type": "code",
   "execution_count": null,
   "metadata": {},
   "outputs": [],
   "source": [
    "# parameters\n",
    "phi = 0.5\n",
    "phi_star = 0.66\n",
    "pi = 3.14159\n",
    "xi = 0.0009\n",
    "gamma = 9.8\n",
    "B = 2.5          # Einstein coefficient\n",
    "delta = 1.3\n",
    "\n",
    "# note, the error function is given by erf(x)\n",
    "from scipy.special import erf           # call this as a function, e.g., erf(2)\n",
    "\n",
    "# **complete the code below**\n",
    "# uncomment the partially written code below\n",
    "# calculate viscosity in three steps\n",
    "# - calculate new variable phi_scaled\n",
    "# - calculate F\n",
    "# - calculate viscosity\n",
    "\n",
    "#phi_scaled = phi/phi_star\n",
    "\n",
    "#F = ____\n",
    "\n",
    "#print(visc)\n"
   ]
  },
  {
   "cell_type": "markdown",
   "metadata": {},
   "source": [
    "***How does increasing each of the parameters, $\\phi$, $\\phi_*$, $\\xi$ (`xi`), $\\gamma$, $B$, $\\delta$, change the viscosity, $\\eta$?***"
   ]
  },
  {
   "cell_type": "markdown",
   "metadata": {},
   "source": [
    "#### &lt;/homework&gt;"
   ]
  },
  {
   "cell_type": "markdown",
   "metadata": {},
   "source": [
    "## 0.2 Whoops!"
   ]
  },
  {
   "cell_type": "markdown",
   "metadata": {},
   "source": [
    "I have replicated the very first example in this notebook, **except** that the variable names have been changed AND I have **reversed the order** of the commands.\n",
    "\n",
    "***Run the cell below***"
   ]
  },
  {
   "cell_type": "code",
   "execution_count": null,
   "metadata": {},
   "outputs": [],
   "source": [
    "# this is a comment, nothing happens when Python reads this line\n",
    "print(night_string)\n",
    "night_string = 'Good night, world'"
   ]
  },
  {
   "cell_type": "markdown",
   "metadata": {},
   "source": [
    "What you see above is a Python error message. ***Reading these messages and using them to debug your code is an invaluable skill.***\n",
    "\n",
    "There are two key pieces of information:\n",
    "\n",
    "1. **WHERE** is the error. In this case, the problem occurs on Line 2. We know this, because there is an arrow pointing to it, i.e., `----> 2 print(night_string)`\n",
    "2. **WHAT** is the error. In this case, it is that we are attempting to use a variable called `night_string` before it has been created. We know this from the very last piece of information in the error message, i.e., `name 'night_string' is not defined`.\n",
    "\n",
    "Deciphering these errors **gets easier with practice**, because there are a handful of easy-to-make mistakes that will crop up frequently. \n",
    "\n",
    "Another tip, sometimes the error is not on the line that `---->` points to, but instead the command immediately above or below it.\n",
    "\n",
    "***Fix the error above so that the cell runs correctly.***\n",
    "\n",
    "To do this, swap the order of the two commands. The key here is that `night_string` has to be defined (`night_string = 'Good night, world'`) before it can be used in a function (`print(night_string)`)."
   ]
  },
  {
   "cell_type": "markdown",
   "metadata": {},
   "source": [
    "***See if you can fix the errors in the code below.***"
   ]
  },
  {
   "cell_type": "code",
   "execution_count": null,
   "metadata": {},
   "outputs": [],
   "source": [
    "# calculate the harmonic average of the numbers a and b\n",
    "hamonic_avg = 2/(1/a+1/b\n",
    "a = 2\n",
    "b = 3\n",
    "print(hamonic_avg)"
   ]
  },
  {
   "cell_type": "markdown",
   "metadata": {},
   "source": [
    "#### &lt;neat&gt; try/except"
   ]
  },
  {
   "cell_type": "markdown",
   "metadata": {},
   "source": [
    "One way to deal with Python errors is to **fix them** - we saw that above.\n",
    "\n",
    "Another way is to **handle them**. The philosophy of error handling is different. It accepts that errors can occur, that they communicate useful information, but that we nevertheless might like to proceed with our computations. \n",
    "\n",
    "Consider the example below:"
   ]
  },
  {
   "cell_type": "code",
   "execution_count": null,
   "metadata": {},
   "outputs": [],
   "source": [
    "a = 1\n",
    "b = 0\n",
    "c = a/b\n",
    "d = b/a\n",
    "print(d)"
   ]
  },
  {
   "cell_type": "markdown",
   "metadata": {},
   "source": [
    "The offending variable value, `b=0`, may occur only very rarely, but at unexpected times. It is inconvenient for the code to fail each time this happens.\n",
    "\n",
    "We could check the case that `b` is zero using an `if` statement (more on that below), but for now, we'll catch it with a `try/except` block."
   ]
  },
  {
   "cell_type": "code",
   "execution_count": null,
   "metadata": {},
   "outputs": [],
   "source": [
    "a = 1\n",
    "b = 0\n",
    "try:               # everything indented below this statement are commands that will be 'monitored' for errors\n",
    "    c = a/b\n",
    "except:            # if an error is detected, execute these commands instead, and then proceed with the code\n",
    "    print('whoops, an error occurred')\n",
    "d = b/a            \n",
    "print(d)"
   ]
  },
  {
   "cell_type": "markdown",
   "metadata": {},
   "source": [
    "In this case, when the division error occurred, `try` caught the problem, then handed it off to `except` to 'do additional stuff'.\n",
    "\n",
    "A more robust way to do this, when you have an idea of the **[type](https://docs.python.org/3/library/exceptions.html#exception-hierarchy)** of error that could occur, is to catch it specifically and allow all other errors to be raised."
   ]
  },
  {
   "cell_type": "code",
   "execution_count": null,
   "metadata": {},
   "outputs": [],
   "source": [
    "a = 1\n",
    "b = 0\n",
    "try:               \n",
    "    #print(c)           # will raise a NameError\n",
    "    c = a/b            # will raise a ZeroDivisionError\n",
    "except ZeroDivisionError:  # if an error is detected, execute these commands instead, and then proceed with the code\n",
    "    print('whoops, a divide by zero error occurred')\n",
    "d = b/a            \n",
    "print(d)"
   ]
  },
  {
   "cell_type": "markdown",
   "metadata": {},
   "source": [
    "***What happens when you uncomment the print command in the code above?*** "
   ]
  },
  {
   "cell_type": "markdown",
   "metadata": {},
   "source": [
    "You can **raise your own errors**."
   ]
  },
  {
   "cell_type": "code",
   "execution_count": null,
   "metadata": {},
   "outputs": [],
   "source": [
    "a = 2               # a is a user-defined parameter, but for physical consistency, it should be less than zero\n",
    "\n",
    "if a>=0:\n",
    "    raise ValueError('variable \\'a\\' must be less than zero')"
   ]
  },
  {
   "cell_type": "markdown",
   "metadata": {
    "heading_collapsed": true
   },
   "source": [
    "#### &lt;/neat&gt;"
   ]
  },
  {
   "cell_type": "markdown",
   "metadata": {},
   "source": [
    "## 0.3 Lists and arrays"
   ]
  },
  {
   "cell_type": "markdown",
   "metadata": {},
   "source": [
    "There are these things called lists. They are as you would expect, literally a list of ordered items. An example is given below."
   ]
  },
  {
   "cell_type": "code",
   "execution_count": null,
   "metadata": {},
   "outputs": [],
   "source": [
    "my_list = [1,2,3]                                            # this list has three items\n",
    "empty_list = []                                              # this list has no items\n",
    "mixed_list = [-0.2, 300, 'a string', 5.3, True, my_list]     # this list has four items of different types, one is another list\n",
    "\n",
    "print(mixed_list)"
   ]
  },
  {
   "cell_type": "markdown",
   "metadata": {},
   "source": [
    "Note, lists use square brackets [] whereas functions use round brackets () - ***syntax!***\n",
    "\n",
    "We can **access** the items of a list by passing an **index** to the variable name. The indices begin at 0 (the first item in a list) and increment by 1. For example"
   ]
  },
  {
   "cell_type": "code",
   "execution_count": null,
   "metadata": {},
   "outputs": [],
   "source": [
    "print(my_list[0])"
   ]
  },
  {
   "cell_type": "code",
   "execution_count": null,
   "metadata": {},
   "outputs": [],
   "source": [
    "print(my_list[1]+my_list[2])"
   ]
  },
  {
   "cell_type": "markdown",
   "metadata": {},
   "source": [
    "We can also use indices to 'count backward' from the end of the list, for example"
   ]
  },
  {
   "cell_type": "code",
   "execution_count": null,
   "metadata": {},
   "outputs": [],
   "source": [
    "print(my_list[2], my_list[-1])                 # these access the same element of the list\n",
    "print(my_list[1], my_list[-2])                 # so do these"
   ]
  },
  {
   "cell_type": "markdown",
   "metadata": {},
   "source": [
    "We can pull out a smaller list from the list using **index slicing**. This uses the colon, $:$, which essentially says 'and everything in between'. For example, "
   ]
  },
  {
   "cell_type": "code",
   "execution_count": null,
   "metadata": {},
   "outputs": [],
   "source": [
    "print(mixed_list)\n",
    "print(mixed_list[1:3])                         # all items between index 1 and 3 NOT including 3\n",
    "print(mixed_list[:3])                          # all items from the START of the list up to index 3 NOT including 3\n",
    "print(mixed_list[3:])                          # all items from index 3 up to the END of the list"
   ]
  },
  {
   "cell_type": "markdown",
   "metadata": {},
   "source": [
    "Or we can even reverse a list."
   ]
  },
  {
   "cell_type": "code",
   "execution_count": null,
   "metadata": {},
   "outputs": [],
   "source": [
    "print(mixed_list[::-1])"
   ]
  },
  {
   "cell_type": "markdown",
   "metadata": {},
   "source": [
    "An **array** is a list of numbers. It has special properties"
   ]
  },
  {
   "cell_type": "code",
   "execution_count": null,
   "metadata": {},
   "outputs": [],
   "source": [
    "T = np.array([1,2,3])                          # array of 1st order temperature measurements\n",
    "dT = np.array([0.1, 0.1, -0.1])                # array of corresponding 2nd order temperature deviation\n",
    "print(T+dT)                                   # total temperature change\n",
    "print(T*dT)                                   # product of 1st and 2nd order effects"
   ]
  },
  {
   "cell_type": "markdown",
   "metadata": {},
   "source": [
    "Make sure your arrays are the same length though! ***Execute the cell below and interpret the error message***"
   ]
  },
  {
   "cell_type": "code",
   "execution_count": null,
   "metadata": {},
   "outputs": [],
   "source": [
    "b1 = np.array([4,5,6])\n",
    "b2 = np.array([0.1,-0.1])\n",
    "print(b1+b2)"
   ]
  },
  {
   "cell_type": "markdown",
   "metadata": {},
   "source": [
    "#### &lt;homework&gt;"
   ]
  },
  {
   "cell_type": "markdown",
   "metadata": {},
   "source": [
    "Often we'll work with lists or arrays of unknown length. This is where backward indexing shines."
   ]
  },
  {
   "cell_type": "code",
   "execution_count": null,
   "metadata": {},
   "outputs": [],
   "source": [
    "# **execute this cell to see some mass flow data**\n",
    "\n",
    "# extract time and mass flow data from a text file \n",
    "# (we'll revisit the details of this command later)\n",
    "import numpy as np\n",
    "time, mf = np.genfromtxt('../data/PW1.dat',delimiter=',',skip_header=True).T\n",
    "# print the first 10 values\n",
    "print(mf[:10])"
   ]
  },
  {
   "cell_type": "markdown",
   "metadata": {},
   "source": [
    "Say we want to know the *last value* of mass flow that was measured?\n",
    "\n",
    "***Use backward indexing to print the last value of the array, `mf`.***"
   ]
  },
  {
   "cell_type": "code",
   "execution_count": null,
   "metadata": {},
   "outputs": [],
   "source": [
    "# **to do**\n",
    "# uncomment and complete the commands below\n",
    "#mf_last_val = mf[???\n",
    "#print(mf_last_val)"
   ]
  },
  {
   "cell_type": "markdown",
   "metadata": {},
   "source": [
    "Say we want to know *how many* measurements have been made?\n",
    "\n",
    "***Use the `len` function to get the length of `mf`.***"
   ]
  },
  {
   "cell_type": "code",
   "execution_count": null,
   "metadata": {},
   "outputs": [],
   "source": [
    "# **to do**\n",
    "# uncomment and complete the commands below\n",
    "#N = len(???\n",
    "#print(???"
   ]
  },
  {
   "cell_type": "markdown",
   "metadata": {},
   "source": [
    "Say we want to get the *middle value* of `mf`?\n",
    "\n",
    "***Use your knowledge of the length of `mf` and indexing to get the middle value.*** "
   ]
  },
  {
   "cell_type": "code",
   "execution_count": null,
   "metadata": {},
   "outputs": [],
   "source": [
    "# **to do**\n",
    "# uncomment and complete the commands below\n",
    "#imid = ???\n",
    "#mf_mid_val = ???"
   ]
  },
  {
   "cell_type": "markdown",
   "metadata": {},
   "source": [
    "#### &lt;/homework&gt;"
   ]
  },
  {
   "cell_type": "markdown",
   "metadata": {},
   "source": [
    "#### &lt;neat&gt; Reversing a List"
   ]
  },
  {
   "cell_type": "markdown",
   "metadata": {},
   "source": [
    "A list can be sliced using a step, e.g., \"extract every *second* item between the third and second to last\""
   ]
  },
  {
   "cell_type": "code",
   "execution_count": null,
   "metadata": {},
   "outputs": [],
   "source": [
    "a = [21,22,23,24,25,26,27,28,29,30]\n",
    "print(a[1:-2:2])"
   ]
  },
  {
   "cell_type": "markdown",
   "metadata": {},
   "source": [
    "and we can extend this idea to **reverse** a list (extract every item, stepping backward by 1 each time)"
   ]
  },
  {
   "cell_type": "code",
   "execution_count": null,
   "metadata": {},
   "outputs": [],
   "source": [
    "print(a[::-1])"
   ]
  },
  {
   "cell_type": "markdown",
   "metadata": {
    "heading_collapsed": true
   },
   "source": [
    "#### &lt;/neat&gt;"
   ]
  },
  {
   "cell_type": "markdown",
   "metadata": {},
   "source": [
    "## 0.4 Doing things over and over"
   ]
  },
  {
   "cell_type": "markdown",
   "metadata": {},
   "source": [
    "Scripting is useful to automate tasks that have to be performed over and over. For instance, consider calculating the value of $e$ using the exponential series\n",
    "\n",
    "$$ e = 1+\\frac{1}{1!}+\\frac{1}{2!}+\\frac{1}{3!}+\\frac{1}{4!}+\\cdots $$"
   ]
  },
  {
   "cell_type": "markdown",
   "metadata": {},
   "source": [
    "We could do it the long way..."
   ]
  },
  {
   "cell_type": "code",
   "execution_count": null,
   "metadata": {},
   "outputs": [],
   "source": [
    "from math import factorial\n",
    "e = 1 + 1/factorial(1) + 1/factorial(2) + 1/factorial(3) + 1/factorial(4) + 1/factorial(5)    # I got tired and gave up here\n",
    "print(e)"
   ]
  },
  {
   "cell_type": "markdown",
   "metadata": {},
   "source": [
    "Or we could write a **for loop** to do it for us."
   ]
  },
  {
   "cell_type": "code",
   "execution_count": null,
   "metadata": {},
   "outputs": [],
   "source": [
    "e = 1        # the initial value\n",
    "for i in range(1,20):        # create a variable called i, initially assign it the value of 1, then 2, then 3, ... then 20\n",
    "    e = e + 1/factorial(i)   # each time the loop 'goes around', execute the commands 'in the loop'\n",
    "print(e)"
   ]
  },
  {
   "cell_type": "markdown",
   "metadata": {},
   "source": [
    "What's happening above? The loop we have written is identical to the sequence of commands below"
   ]
  },
  {
   "cell_type": "code",
   "execution_count": null,
   "metadata": {},
   "outputs": [],
   "source": [
    "e = 1\n",
    "i = 1\n",
    "e = e + 1/factorial(i)\n",
    "i = 2\n",
    "e = e + 1/factorial(i)\n",
    "i = 3\n",
    "e = e + 1/factorial(i)\n",
    "i = 4\n",
    "e = e + 1/factorial(i)\n",
    "i = 5\n",
    "e = e + 1/factorial(i)\n",
    "i = 6\n",
    "e = e + 1/factorial(i)\n",
    "i = 7\n",
    "e = e + 1/factorial(i)\n",
    "i = 8\n",
    "e = e + 1/factorial(i)\n",
    "i = 9\n",
    "e = e + 1/factorial(i)\n",
    "i = 10\n",
    "e = e + 1/factorial(i)\n",
    "i = 11\n",
    "e = e + 1/factorial(i)\n",
    "i = 12\n",
    "e = e + 1/factorial(i)\n",
    "i = 13\n",
    "e = e + 1/factorial(i)\n",
    "i = 14\n",
    "e = e + 1/factorial(i)\n",
    "i = 15\n",
    "e = e + 1/factorial(i)\n",
    "i = 16\n",
    "e = e + 1/factorial(i)\n",
    "i = 17\n",
    "e = e + 1/factorial(i)\n",
    "i = 18\n",
    "e = e + 1/factorial(i)\n",
    "i = 19\n",
    "e = e + 1/factorial(i)\n",
    "i = 20\n",
    "e = e + 1/factorial(i)\n",
    "print(e)"
   ]
  },
  {
   "cell_type": "markdown",
   "metadata": {},
   "source": [
    "but with A LOT less repetition. Can you see which command is 'inside the loop' and gets executed over and over? Can you see which variable has its value changed with each iteration of the loop?\n",
    "\n",
    "***In the cell below, write a for loop to calculate the \"sum of squares\" of the list of pressure observations.***"
   ]
  },
  {
   "cell_type": "code",
   "execution_count": null,
   "metadata": {},
   "outputs": [],
   "source": [
    "dP = [7,3,-2,0,4.5,9.0,-1,-1,15,0.1]              # pressure deviations (in kPa), from p0 = 101 kPa\n",
    "sum_squares = 0\n",
    "# **your code here**\n",
    "#for ???"
   ]
  },
  {
   "cell_type": "markdown",
   "metadata": {},
   "source": [
    "## 0.5 Making the computer program a little bit smart"
   ]
  },
  {
   "cell_type": "markdown",
   "metadata": {},
   "source": [
    "Humans are allegedly an intelligent species. One aspect of this intelligence is the ability to **see how things are and act accordingly**. What?\n",
    "\n",
    "As an example, to cross a busy street, you first check for cars. ***If*** there is a car coming, you do not cross, ***else*** you do. \n",
    "\n",
    "We can write this in Python."
   ]
  },
  {
   "cell_type": "code",
   "execution_count": null,
   "metadata": {},
   "outputs": [],
   "source": [
    "street = 'busy'\n",
    "if street == 'busy':\n",
    "    print('dont cross the street')\n",
    "else:\n",
    "    print('cross the street')"
   ]
  },
  {
   "cell_type": "markdown",
   "metadata": {},
   "source": [
    "The `if` statement above evaluates a **condition** (essentially a question asked of Python, is the 'value' of `street` equal to `'busy'`). \n",
    "\n",
    "If the condition evaluates to `True`, then the command `print('dont cross the street')` is executed. If it evaluates to `'False'`, then the command `print('cross the street')` is executed instead. \n",
    "\n",
    "The key here though is that it is **one or the other** and the outcome depends on stuff that happened earlier in the code (in this case, on the first line when I assigned a value to the variable `street`).\n",
    "\n",
    "Have another play with the example below."
   ]
  },
  {
   "cell_type": "code",
   "execution_count": null,
   "metadata": {},
   "outputs": [],
   "source": [
    "street = 'busy'\n",
    "attempt_to_cross = True     # this is a type of variable called a 'boolean' - it is either True or False, no other options\n",
    "\n",
    "if street == 'busy' and attempt_to_cross is False:      # the first condition to check\n",
    "    print('dont cross, good decision')\n",
    "elif street != 'busy' and attempt_to_cross is True:     # if the first condition is False, then check this one\n",
    "    print('safe to cross, well done')\n",
    "elif street == 'busy' and attempt_to_cross is True:     # if the first AND second conditions are False, check this one\n",
    "    print('you dead')"
   ]
  },
  {
   "cell_type": "markdown",
   "metadata": {},
   "source": [
    "In the example above, we see that the **special statement**, `and`, allows us to evaluate two conditions at once and require that they BOTH be true. Alternatively, we could have used `or`, which allows either one, or both to be true.\n",
    "\n",
    "***Make changes to the cell above to generate a \"successful crossing\" outcome.***"
   ]
  },
  {
   "cell_type": "markdown",
   "metadata": {},
   "source": [
    "The example below demonstrates different conditions and combinations of conditions:"
   ]
  },
  {
   "cell_type": "code",
   "execution_count": null,
   "metadata": {},
   "outputs": [],
   "source": [
    "print('1',True and True)\n",
    "print('2',True and False)\n",
    "print('3',True or False)\n",
    "print('4',False or False)\n",
    "print('5',not False)\n",
    "print('6', False or not False)\n",
    "print('6b', False or not (True or not True))\n",
    "print('7', 3>4)\n",
    "print('8', 3<4)\n",
    "print('9', 4<4)\n",
    "print('10', 4<=4)\n",
    "print('11', 4==4)\n",
    "density = 2650.\n",
    "print('12', density>2400. and density<2800.)\n",
    "print('13', 2400.<density<2800.)"
   ]
  },
  {
   "cell_type": "markdown",
   "metadata": {},
   "source": [
    "#### &lt;homework&gt;"
   ]
  },
  {
   "cell_type": "markdown",
   "metadata": {},
   "source": [
    "Let's consider performing a pressure calculation, which needs to be different depending on the type of data being received.\n",
    "\n",
    "\\begin{equation}\n",
    "P_{DH} = P_{WH} + \\rho g z,\n",
    "\\end{equation}\n",
    "\n",
    "where $P_{DH}$ is the downhole pressure (in MPa) at depth, $z$, $P_{WH}$ is the wellhead pressure (in MPa), $g$ is gravity (always `9.81`) and $\\rho$ is the density of fluid in a well.\n",
    "\n",
    "**IF** the well is producing liquid water at 150$^{\\circ}$C, then $rho=915$ kg$\\,$m$^{-3}$, **ELSE** it must be reinjecting waste fluid at 50$^{\\circ}$C, with $rho=988$ kg$\\,$m$^{-3}$.\n",
    "\n",
    "Wellhead pressure is variably reported by two engineers, either in terms of MPa or bar. *For this exercise*, calculations should be made in MPa."
   ]
  },
  {
   "cell_type": "code",
   "execution_count": null,
   "metadata": {},
   "outputs": [],
   "source": [
    "# **execute the cell below to see a sample calculation**\n",
    "# parameters\n",
    "dens = 988.\n",
    "g = 9.81\n",
    "z = 1300.            # feedzone at 1.3km depth\n",
    "whp = 1.2            # MPa\n",
    "\n",
    "# calculation, converting to MPa\n",
    "dhp = whp+dens*g*z/1.e6\n",
    "print(dhp)"
   ]
  },
  {
   "cell_type": "markdown",
   "metadata": {},
   "source": [
    "***Use `if/else` and `and` conditions to implement a general downhole pressure calculation, given the values of `pressure_units` and `producing`.***"
   ]
  },
  {
   "cell_type": "code",
   "execution_count": null,
   "metadata": {},
   "outputs": [],
   "source": [
    "# some parameters\n",
    "whp = 12.5\n",
    "pressure_units = 'bar'     # indicates whether whp is in 'bar' or 'MPa'\n",
    "producing = False          # indicates whether the well is producing (True) or injecting (False)\n",
    "\n",
    "# **to do**\n",
    "# uncomment and complete the commands below\n",
    "\n",
    "#if\n",
    "#else\n",
    "#dens=\n",
    "#whp=\n",
    "#dhp="
   ]
  },
  {
   "cell_type": "markdown",
   "metadata": {},
   "source": [
    "#### &lt;/homework&gt;"
   ]
  },
  {
   "cell_type": "markdown",
   "metadata": {},
   "source": [
    "#### &lt;neat&gt; List Comprehension"
   ]
  },
  {
   "cell_type": "markdown",
   "metadata": {},
   "source": [
    "This concept is subtle, and you should ideally be already quite comfortable with for loops before experimenting with [list comprehensions](http://treyhunner.com/2015/12/python-list-comprehensions-now-in-color/). \n",
    "\n",
    "Compare the following snippets of codes and verify that they generate the same output. "
   ]
  },
  {
   "cell_type": "code",
   "execution_count": null,
   "metadata": {},
   "outputs": [],
   "source": [
    "a1 = []                 # an empty list\n",
    "for i in range(10):     # for all integers up to (but not including) ten\n",
    "    a1.append(i**2)           # append to the end of the list, the integer**2\n",
    "print(a1)\n",
    "\n",
    "a2 = [i**2 for i in range(10)]   # the same list, now constructed using list comprehension (one line!)\n",
    "print(a2)"
   ]
  },
  {
   "cell_type": "markdown",
   "metadata": {},
   "source": [
    "\"*Can you make it fancier?*\"\n",
    "\n",
    "Oh, yes. Consider the following, equivalent, list transformations."
   ]
  },
  {
   "cell_type": "code",
   "execution_count": null,
   "metadata": {},
   "outputs": [],
   "source": [
    "b1 = []\n",
    "for ai in a1:\n",
    "    if (ai%2 == 1):        # if the value is odd, append it to the new list\n",
    "        b1.append(ai)      #  (% is the 'remainder' operator, i.e., what is the remainder when ai is divided by 2)\n",
    "    else:\n",
    "        b1.append(-ai)     # otherwise, make the value negative and append it\n",
    "print(b1)\n",
    "\n",
    "b2 = [ai if ai%2 == 1 else -ai for ai in a1]    # (one line!)\n",
    "print(b2)\n",
    "\n",
    "# or if there's not 'else' case to worry about, the if condition comes at the end\n",
    "# e.g., just keep the odd numbers\n",
    "# b3 = [ai for ai in a1 if ai%2 == 1]\n",
    "# print(b3)"
   ]
  },
  {
   "cell_type": "markdown",
   "metadata": {},
   "source": [
    "#### &lt;/neat&gt;"
   ]
  },
  {
   "cell_type": "markdown",
   "metadata": {},
   "source": [
    "### 0.5.1 Making a loop a little bit smart"
   ]
  },
  {
   "cell_type": "markdown",
   "metadata": {},
   "source": [
    "We have [seen](python101.ipynb#0.4-Doing-things-over-and-over) how a for loop can be used to repeat a computation over and over a **fixed number of times**. But what if we don't know ahead of time how many times a loop should go around?\n",
    "\n",
    "Taking the example from before, say we want to calculate the value of $e$ to a fixed level of accuracy, say 4 decimal places. That is, as soon as the next term in the series - $1/i!$ - is smaller than $10^{-5}$, we should stop the loop.\n",
    "\n",
    "To do this, we can use a **while loop**, which makes use of a condition to determine when the loop should stop."
   ]
  },
  {
   "cell_type": "code",
   "execution_count": null,
   "metadata": {},
   "outputs": [],
   "source": [
    "e = 1        # the initial value\n",
    "i = 1        # unlike the for loop, we have to initialise and increment the counter manually\n",
    "de = 1/factorial(i)   # calculate the update to e\n",
    "\n",
    "# initialise the while loop with a condition, each time the loop goes around the value of de changes, \n",
    "# and the condition is rechecked. The loop stops when the condition evaluates to False.\n",
    "\n",
    "while de > 1.e-4:                 # check the condition\n",
    "    e = e + de                    # update the estimate of e\n",
    "    i = i + 1                     # increment the counter\n",
    "    de = 1/factorial(i)           # calculate a new value for de\n",
    "    print('i =',i,', e =', e)     # print progress so far\n",
    "    \n",
    "# MAKE A CHANGE\n",
    "# - modify the loop so that it exits when e has been calculated to 6 decimal places\n",
    "# - modify the loop so that it exits when e has been calculated to 8 decimal places, or when 12 terms \n",
    "# have been calculated, whichever comes first"
   ]
  },
  {
   "cell_type": "markdown",
   "metadata": {},
   "source": [
    "## 0.6 Classes, objects, attributes and methods"
   ]
  },
  {
   "cell_type": "markdown",
   "metadata": {},
   "source": [
    "Python is an [**object-oriented**](https://en.wikipedia.org/wiki/Object-oriented_programming) programming language. Most people initially become familiar with **procedural, structured programming**, computer code organised into a logical procession of statements, loops, control blocks and functions. We can build on that understanding and introduce the idea of **objects, with attributes and methods**.\n",
    "\n",
    "The best introduction is perhaps a direct demonstration.\n",
    "\n",
    "**Execute the cell below to define a new *Class* for a geothermal well.**"
   ]
  },
  {
   "cell_type": "code",
   "execution_count": null,
   "metadata": {},
   "outputs": [],
   "source": [
    "class Well(object):          # defining a class is similar to defining a function in that there is precise syntax\n",
    "    ''' An object to represent an arbitrary Well.\n",
    "    '''\n",
    "    def __init__(self):\n",
    "        ''' Define what properties the object should have when it is brought into existence\n",
    "        '''\n",
    "        self.location = []                  # these are called attributes, we have defined 3: location, name and depth\n",
    "        self.name = 'unnamed'               # they are like variables, but they *belong* to the object\n",
    "        self.depth = None                   # we can access and change them using the notation OBJECT.ATTRIBUTE"
   ]
  },
  {
   "cell_type": "markdown",
   "metadata": {},
   "source": [
    "Think of the **Class** as a new \"kind\" or a \"type\" of object (along with floats, integers, strings, and arrays). Much like a function, once it is defined, we can begin to use it."
   ]
  },
  {
   "cell_type": "code",
   "execution_count": null,
   "metadata": {},
   "outputs": [],
   "source": [
    "# Create an *instance* of the Animal object. A duplicate, to be modified independently of other instances.\n",
    "well1 = Well()               # note the use of brackets in creating the object\n",
    "well2 = Well()               # now we have two 'instances' of the Well object\n",
    "\n",
    "print(well1.name, well2.name)"
   ]
  },
  {
   "cell_type": "markdown",
   "metadata": {},
   "source": [
    "We can modify their **attributes** in the usual way a variable is modified."
   ]
  },
  {
   "cell_type": "code",
   "execution_count": null,
   "metadata": {},
   "outputs": [],
   "source": [
    "# let's make the first object personal (change for yourself)\n",
    "well1.location = [0.5, 8.2]\n",
    "well1.name = 'tvz25'\n",
    "well1.depth = 2305.\n",
    "\n",
    "# let's make the second object a beloved pet (change for yourself)\n",
    "well2.location = [6.3, -2.4]\n",
    "well2.name = 'tvz32'\n",
    "well2.depth = 1680.\n",
    "\n",
    "print(well1.name, well2.name)               # verifying we have changed the attributes\n",
    "print(well1.depth > well2.depth)            # verifying attributes are subject to the usual computer arithmetic"
   ]
  },
  {
   "cell_type": "markdown",
   "metadata": {},
   "source": [
    "#### &lt;neat&gt; `__repr__`"
   ]
  },
  {
   "cell_type": "markdown",
   "metadata": {},
   "source": [
    "Try **printing** an object directly."
   ]
  },
  {
   "cell_type": "code",
   "execution_count": null,
   "metadata": {},
   "outputs": [],
   "source": [
    "print(well2)"
   ]
  },
  {
   "cell_type": "markdown",
   "metadata": {},
   "source": [
    "The standard output is not very **informative**...\n",
    "\n",
    "We can modify this by including a **specialised method** called '__repr__' in the class definition"
   ]
  },
  {
   "cell_type": "code",
   "execution_count": null,
   "metadata": {},
   "outputs": [],
   "source": [
    "class Well(object):          \n",
    "    ''' An object to represent an arbitrary Well.\n",
    "    '''\n",
    "    def __init__(self):\n",
    "        ''' Define what properties the object should have when it is brought into existence\n",
    "        '''\n",
    "        self.location = []    \n",
    "        self.name = 'unnamed'               \n",
    "        self.depth = None                   \n",
    "    def __repr__(self):\n",
    "        ''' What information to print to the screen when the object is printed.\n",
    "        '''\n",
    "        return '{:s}'.format(self.name)\n",
    "    \n",
    "# create and print the new object\n",
    "well2 = Well()\n",
    "well2.location = [6.3, -2.4]\n",
    "well2.name = 'tvz32'\n",
    "well2.depth = 1680.\n",
    "print(well2)"
   ]
  },
  {
   "cell_type": "markdown",
   "metadata": {},
   "source": [
    "#### &lt;/neat&gt;"
   ]
  },
  {
   "cell_type": "markdown",
   "metadata": {},
   "source": [
    "An object's attributes are **specific** to it. For example, "
   ]
  },
  {
   "cell_type": "code",
   "execution_count": null,
   "metadata": {},
   "outputs": [],
   "source": [
    "print(well1.name)                   # the 'name' *attribute* has been defined for the well1 object\n",
    "print(well2.name)                   # the 'name' *attribute* has been defined for the well2 object\n",
    "print(name)                         # 'name' on its own is a *variable* that has yet to be defined"
   ]
  },
  {
   "cell_type": "markdown",
   "metadata": {},
   "source": [
    "In much the same way that attributes are just variables **specific to an object**, we can define **methods**, which are functions **specific to an object**.\n",
    "\n",
    "***Execute the cell below to update the Well class with a method `bhp` that computes bottomhole pressure.***"
   ]
  },
  {
   "cell_type": "code",
   "execution_count": null,
   "metadata": {},
   "outputs": [],
   "source": [
    "class Well(object):          \n",
    "    ''' An object to represent an arbitrary Well.\n",
    "    '''\n",
    "    def __init__(self):\n",
    "        ''' Define what properties the object should have when it is brought into existence\n",
    "        '''\n",
    "        self.location = []    \n",
    "        self.name = 'unnamed'               \n",
    "        self.depth = None                   \n",
    "    def __repr__(self):\n",
    "        ''' What information to print to the screen when the object is printed.\n",
    "        '''\n",
    "        return '{:s}'.format(self.name)\n",
    "    \n",
    "    def bhp(self, density=1000., whp=0.1):\n",
    "        ''' Computes the bottomhole pressure (in MPa) for given fluid density and wellhead pressure.\n",
    "        '''\n",
    "        # set gravity\n",
    "        g = 9.81\n",
    "        # compute pressure due to water column, in Pa\n",
    "        dP = density*self.depth*g\n",
    "        # convert to MPa\n",
    "        dP = dP/1.e6\n",
    "        # add wellhead pressure\n",
    "        bhp = whp + dP\n",
    "        # return value\n",
    "        return bhp"
   ]
  },
  {
   "cell_type": "markdown",
   "metadata": {},
   "source": [
    "***Execute the cell below to call the `bhp` method for a range of inputs.***"
   ]
  },
  {
   "cell_type": "code",
   "execution_count": null,
   "metadata": {},
   "outputs": [],
   "source": [
    "# define a well\n",
    "well2 = Well()\n",
    "well2.location = [6.3, -2.4]\n",
    "well2.name = 'tvz32'\n",
    "well2.depth = 1680.\n",
    "\n",
    "# compute downhole pressure assuming density of 1000. and whp of 12 bar (1.2 MPa)\n",
    "bottomholepressure = well2.bhp(density=1000., whp=1.2)\n",
    "print('at 1000 kg/m^3 and 12 bar WHP, the BHP is', bottomholepressure)\n",
    "\n",
    "# compute downhole pressure with density of 980 and atmospheric pressure (default 0.1)\n",
    "bottomholepressure = well2.bhp(density=980.)\n",
    "print('at 980 kg/m^3 and open, the BHP is', bottomholepressure)\n",
    "\n",
    "# compute downhole pressure using all defaults\n",
    "bottomholepressure = well2.bhp()\n",
    "print('at 1000 kg/m^3 and open, the BHP is', bottomholepressure)"
   ]
  },
  {
   "cell_type": "markdown",
   "metadata": {},
   "source": [
    "# What now?"
   ]
  },
  {
   "cell_type": "markdown",
   "metadata": {},
   "source": [
    "There you go. That's your crash course in computer coding and Python. Obviously, we're only scraping the surface, and you shouldn't expect to really feel like you \"*know what you're doing*\" until you've been writing Python for a month or so. \n",
    "\n",
    "The rewards though. So great.\n",
    "\n",
    "Let's now **open the [Data](../1_data/Data.ipynb) notebook in the `1_data` folder** (you can do this in the main Jupyter tab or just click the link to the left). "
   ]
  }
 ],
 "metadata": {
  "kernelspec": {
   "display_name": "Python 3",
   "language": "python",
   "name": "python3"
  },
  "language_info": {
   "codemirror_mode": {
    "name": "ipython",
    "version": 3
   },
   "file_extension": ".py",
   "mimetype": "text/x-python",
   "name": "python",
   "nbconvert_exporter": "python",
   "pygments_lexer": "ipython3",
   "version": "3.6.4"
  }
 },
 "nbformat": 4,
 "nbformat_minor": 2
}
