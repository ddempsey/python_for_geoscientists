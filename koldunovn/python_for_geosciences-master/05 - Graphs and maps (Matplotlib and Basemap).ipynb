{
 "cells": [
  {
   "cell_type": "markdown",
   "metadata": {},
   "source": [
    "# Graphs and maps (Matplotlib and Basemap)"
   ]
  },
  {
   "cell_type": "markdown",
   "metadata": {},
   "source": [
    "Nikolay Koldunov\n",
    "\n",
    "koldunovn@gmail.com"
   ]
  },
  {
   "cell_type": "markdown",
   "metadata": {},
   "source": [
    "This is part of [**Python for Geosciences**](https://github.com/koldunovn/python_for_geosciences) notes."
   ]
  },
  {
   "cell_type": "markdown",
   "metadata": {},
   "source": [
    "============="
   ]
  },
  {
   "cell_type": "markdown",
   "metadata": {},
   "source": [
    "[Matplotlib](http://matplotlib.org/) is a python 2D plotting library which produces publication quality figures in a variety of hardcopy formats and interactive environments across platforms.\n",
    "\n",
    "Usually we import `matplotlib` as follows:"
   ]
  },
  {
   "cell_type": "code",
   "execution_count": null,
   "metadata": {},
   "outputs": [],
   "source": [
    "%matplotlib inline\n",
    "import matplotlib.pylab as plt\n",
    "import numpy as np"
   ]
  },
  {
   "cell_type": "markdown",
   "metadata": {},
   "source": [
    "This allows inline graphics in IPython (Jupyter) notebooks and imports functions nessesary for ploting as `plt`. In addition we import `numpy` as `np`."
   ]
  },
  {
   "cell_type": "markdown",
   "metadata": {},
   "source": [
    "Let's prepare some data:"
   ]
  },
  {
   "cell_type": "code",
   "execution_count": null,
   "metadata": {},
   "outputs": [],
   "source": [
    "x = np.linspace(0,10,20)\n",
    "y = x ** 2"
   ]
  },
  {
   "cell_type": "markdown",
   "metadata": {},
   "source": [
    "Plot is as easy as this:"
   ]
  },
  {
   "cell_type": "code",
   "execution_count": null,
   "metadata": {},
   "outputs": [],
   "source": [
    "plt.plot(x,y);"
   ]
  },
  {
   "cell_type": "markdown",
   "metadata": {},
   "source": [
    "Line style and labels are controlled in a way similar to Matlab:"
   ]
  },
  {
   "cell_type": "code",
   "execution_count": null,
   "metadata": {},
   "outputs": [],
   "source": [
    "plt.plot(x, y, 'r--o')\n",
    "plt.xlabel('x')\n",
    "plt.ylabel('y')\n",
    "plt.title('title');"
   ]
  },
  {
   "cell_type": "markdown",
   "metadata": {},
   "source": [
    "You can plot several individual lines at once:"
   ]
  },
  {
   "cell_type": "code",
   "execution_count": null,
   "metadata": {},
   "outputs": [],
   "source": [
    "plt.plot(x, y, 'r--o', x, y ** 1.1, 'bs', x, y ** 1.2, 'g^-' );"
   ]
  },
  {
   "cell_type": "markdown",
   "metadata": {},
   "source": [
    "One more example:"
   ]
  },
  {
   "cell_type": "code",
   "execution_count": null,
   "metadata": {},
   "outputs": [],
   "source": [
    "mu, sigma = 100, 15\n",
    "x = mu + sigma * np.random.randn(10000)\n",
    "\n",
    "# the histogram of the data\n",
    "n, bins, patches = plt.hist(x, 50, normed=1, facecolor='g', alpha=0.75)\n",
    "\n",
    "plt.xlabel('Smarts')\n",
    "plt.ylabel('Probability')\n",
    "plt.title('Histogram of IQ')\n",
    "plt.text(60, .025, r'$\\mu=100,\\ \\sigma=15$')\n",
    "plt.axis([40, 160, 0, 0.03])\n",
    "plt.grid(True)"
   ]
  },
  {
   "cell_type": "markdown",
   "metadata": {},
   "source": [
    "If you feel a bit playful (only in matplotlib > 1.3):"
   ]
  },
  {
   "cell_type": "code",
   "execution_count": null,
   "metadata": {},
   "outputs": [],
   "source": [
    "with plt.xkcd():\n",
    "    x = np.linspace(0, 1)\n",
    "    y = np.sin(4 * np.pi * x) * np.exp(-5 * x)\n",
    "\n",
    "    plt.fill(x, y, 'r')\n",
    "    plt.grid(False)"
   ]
  },
  {
   "cell_type": "markdown",
   "metadata": {},
   "source": [
    "Following example is from [matplotlib - 2D and 3D plotting in Python](http://nbviewer.ipython.org/urls/raw.github.com/jrjohansson/scientific-python-lectures/master/Lecture-4-Matplotlib.ipynb) - great place to start for people interested in matplotlib.\n"
   ]
  },
  {
   "cell_type": "code",
   "execution_count": null,
   "metadata": {},
   "outputs": [],
   "source": [
    "n = np.array([0,1,2,3,4,5])\n",
    "xx = np.linspace(-0.75, 1., 100)\n",
    "x = np.linspace(0, 5, 10)\n",
    "\n",
    "fig, axes = plt.subplots(1, 4, figsize=(12,3))\n",
    "\n",
    "axes[0].scatter(xx, xx + 0.25*np.random.randn(len(xx)))\n",
    "\n",
    "axes[1].step(n, n**2, lw=2)\n",
    "\n",
    "axes[2].bar(n, n**2, align=\"center\", width=0.5, alpha=0.5)\n",
    "\n",
    "axes[3].fill_between(x, x**2, x**3, color=\"green\", alpha=0.5);"
   ]
  },
  {
   "cell_type": "markdown",
   "metadata": {},
   "source": [
    "When you going to plot something more or less complicated in Matplotlib, the first thing you do is open the [Matplotlib example gallery](http://matplotlib.org/gallery.html) and choose example closest to your case."
   ]
  },
  {
   "cell_type": "markdown",
   "metadata": {},
   "source": [
    "You can directly load python code (or basically any text file) to the notebook. This time we download code from the Matplotlib example gallery:"
   ]
  },
  {
   "cell_type": "code",
   "execution_count": null,
   "metadata": {},
   "outputs": [],
   "source": [
    "# %load http://matplotlib.org/mpl_examples/pylab_examples/griddata_demo.py\n",
    "from numpy.random import uniform, seed\n",
    "from matplotlib.mlab import griddata\n",
    "import matplotlib.pyplot as plt\n",
    "import numpy as np\n",
    "# make up data.\n",
    "#npts = int(raw_input('enter # of random points to plot:'))\n",
    "seed(0)\n",
    "npts = 200\n",
    "x = uniform(-2, 2, npts)\n",
    "y = uniform(-2, 2, npts)\n",
    "z = x*np.exp(-x**2 - y**2)\n",
    "# define grid.\n",
    "xi = np.linspace(-2.1, 2.1, 100)\n",
    "yi = np.linspace(-2.1, 2.1, 200)\n",
    "# grid the data.\n",
    "zi = griddata(x, y, z, xi, yi, interp='linear')\n",
    "# contour the gridded data, plotting dots at the nonuniform data points.\n",
    "CS = plt.contour(xi, yi, zi, 15, linewidths=0.5, colors='k')\n",
    "CS = plt.contourf(xi, yi, zi, 15, cmap=plt.cm.rainbow,\n",
    "                  vmax=abs(zi).max(), vmin=-abs(zi).max())\n",
    "plt.colorbar()  # draw colorbar\n",
    "# plot data points.\n",
    "plt.scatter(x, y, marker='o', c='b', s=5, zorder=10)\n",
    "plt.xlim(-2, 2)\n",
    "plt.ylim(-2, 2)\n",
    "plt.title('griddata test (%d points)' % npts)\n",
    "plt.show()\n"
   ]
  },
  {
   "cell_type": "markdown",
   "metadata": {},
   "source": [
    "## Maps"
   ]
  },
  {
   "cell_type": "markdown",
   "metadata": {},
   "source": [
    "In order to create a map we have to first import some data. We are going to use NCEP reanalysis file from previous section:"
   ]
  },
  {
   "cell_type": "code",
   "execution_count": null,
   "metadata": {},
   "outputs": [],
   "source": [
    "from netCDF4 import Dataset"
   ]
  },
  {
   "cell_type": "code",
   "execution_count": null,
   "metadata": {},
   "outputs": [],
   "source": [
    "f =Dataset('air.sig995.2012.nc')"
   ]
  },
  {
   "cell_type": "markdown",
   "metadata": {},
   "source": [
    "Here we create netCDF variable objec for *air* (we would like to have acces to some of the attributes), but from *lat* and *lon* we import only data valies:"
   ]
  },
  {
   "cell_type": "code",
   "execution_count": null,
   "metadata": {},
   "outputs": [],
   "source": [
    "air = f.variables['air']\n",
    "lat = f.variables['lat'][:]\n",
    "lon = f.variables['lon'][:]"
   ]
  },
  {
   "cell_type": "markdown",
   "metadata": {},
   "source": [
    "Easiest way to look at the array is imshow:"
   ]
  },
  {
   "cell_type": "code",
   "execution_count": null,
   "metadata": {},
   "outputs": [],
   "source": [
    "plt.imshow(air[0,:,:])\n",
    "plt.colorbar();"
   ]
  },
  {
   "cell_type": "markdown",
   "metadata": {},
   "source": [
    "But we want some real map :) First convert data from *air*:"
   ]
  },
  {
   "cell_type": "code",
   "execution_count": null,
   "metadata": {},
   "outputs": [],
   "source": [
    "air_c = air[:]  - 273.15"
   ]
  },
  {
   "cell_type": "markdown",
   "metadata": {},
   "source": [
    "Our coordinate variables are vectors:"
   ]
  },
  {
   "cell_type": "code",
   "execution_count": null,
   "metadata": {},
   "outputs": [],
   "source": [
    "lat.shape"
   ]
  },
  {
   "cell_type": "markdown",
   "metadata": {},
   "source": [
    "For the map we need 2d coordinate arrays. Convert lot lan to 2d:"
   ]
  },
  {
   "cell_type": "code",
   "execution_count": null,
   "metadata": {},
   "outputs": [],
   "source": [
    "lon2, lat2 = np.meshgrid(lon,lat)"
   ]
  },
  {
   "cell_type": "markdown",
   "metadata": {},
   "source": [
    "Import Basemap - library for plotting 2D data on maps:"
   ]
  },
  {
   "cell_type": "code",
   "execution_count": null,
   "metadata": {},
   "outputs": [],
   "source": [
    "from mpl_toolkits.basemap import Basemap"
   ]
  },
  {
   "cell_type": "markdown",
   "metadata": {},
   "source": [
    "Create Basemap instance (with certain characteristics) and convert lon lat to map coordinates"
   ]
  },
  {
   "cell_type": "code",
   "execution_count": null,
   "metadata": {},
   "outputs": [],
   "source": [
    "m = Basemap(projection='npstere',boundinglat=60,lon_0=0,resolution='l')\n",
    "x, y = m(lon2, lat2)"
   ]
  },
  {
   "cell_type": "markdown",
   "metadata": {},
   "source": [
    "Creating the map now is only two lines:"
   ]
  },
  {
   "cell_type": "code",
   "execution_count": null,
   "metadata": {},
   "outputs": [],
   "source": [
    "m.drawcoastlines()\n",
    "m.contourf(x,y,air_c[0,:,:])"
   ]
  },
  {
   "cell_type": "markdown",
   "metadata": {},
   "source": [
    "We can make the map look prettier by adding couple of lines:"
   ]
  },
  {
   "cell_type": "code",
   "execution_count": null,
   "metadata": {},
   "outputs": [],
   "source": [
    "fig = plt.figure(figsize=(15,7))\n",
    "m.fillcontinents(color='gray',lake_color='gray')\n",
    "m.drawcoastlines()\n",
    "m.drawparallels(np.arange(-80.,81.,20.))\n",
    "m.drawmeridians(np.arange(-180.,181.,20.))\n",
    "m.drawmapboundary(fill_color='white')\n",
    "m.contourf(x,y,air_c[0,:,:],40)\n",
    "plt.title('Monthly mean SAT')\n",
    "plt.colorbar()"
   ]
  },
  {
   "cell_type": "markdown",
   "metadata": {},
   "source": [
    "You can change map characteristics by changin the Basemap instance:"
   ]
  },
  {
   "cell_type": "code",
   "execution_count": null,
   "metadata": {},
   "outputs": [],
   "source": [
    "m = Basemap(projection='ortho',lat_0=45,lon_0=-100,resolution='l')\n",
    "x, y = m(lon2, lat2)"
   ]
  },
  {
   "cell_type": "markdown",
   "metadata": {},
   "source": [
    "While the rest of the code might be the same:"
   ]
  },
  {
   "cell_type": "code",
   "execution_count": null,
   "metadata": {},
   "outputs": [],
   "source": [
    "fig = plt.figure(figsize=(15,7))\n",
    "#m.fillcontinents(color='gray',lake_color='gray')\n",
    "m.drawcoastlines()\n",
    "m.drawparallels(np.arange(-80.,81.,20.))\n",
    "m.drawmeridians(np.arange(-180.,181.,20.))\n",
    "m.drawmapboundary(fill_color='white')\n",
    "cs = m.contourf(x,y,air_c[0,:,:],20)\n",
    "plt.title('Monthly mean SAT')"
   ]
  },
  {
   "cell_type": "markdown",
   "metadata": {},
   "source": [
    "One more map exampe:"
   ]
  },
  {
   "cell_type": "code",
   "execution_count": null,
   "metadata": {},
   "outputs": [],
   "source": [
    "m = Basemap(projection='cyl',llcrnrlat=-90,urcrnrlat=90,\\\n",
    "            llcrnrlon=0,urcrnrlon=360,resolution='c')\n",
    "x, y = m(lon2, lat2)"
   ]
  },
  {
   "cell_type": "code",
   "execution_count": null,
   "metadata": {},
   "outputs": [],
   "source": [
    "fig = plt.figure(figsize=(15,7))\n",
    "#m.fillcontinents(color='gray',lake_color='gray')\n",
    "m.drawcoastlines()\n",
    "m.drawparallels(np.arange(-80.,81.,20.))\n",
    "m.drawmeridians(np.arange(0.,360.,20.))\n",
    "m.drawmapboundary(fill_color='white')\n",
    "cs = m.contourf(x,y,air[0,:,:],20)\n",
    "plt.title('Monthly mean SAT')"
   ]
  },
  {
   "cell_type": "markdown",
   "metadata": {},
   "source": [
    "## Links:"
   ]
  },
  {
   "cell_type": "markdown",
   "metadata": {},
   "source": [
    "* [Basemap Example Gallery](http://matplotlib.org/basemap/users/examples.html)\n",
    "* [PyNGL Gallery](http://www.pyngl.ucar.edu/Examples/gallery.shtml)\n",
    "* [ggplot for python](http://blog.yhathq.com/posts/ggplot-for-python.html)\n",
    "* [Bokeh](https://github.com/ContinuumIO/Bokeh)\n",
    "* [d3py](https://github.com/mikedewar/d3py)"
   ]
  }
 ],
 "metadata": {
  "kernelspec": {
   "display_name": "Python [conda root]",
   "language": "python",
   "name": "conda-root-py"
  },
  "language_info": {
   "codemirror_mode": {
    "name": "ipython",
    "version": 3
   },
   "file_extension": ".py",
   "mimetype": "text/x-python",
   "name": "python",
   "nbconvert_exporter": "python",
   "pygments_lexer": "ipython3",
   "version": "3.5.2"
  }
 },
 "nbformat": 4,
 "nbformat_minor": 0
}
