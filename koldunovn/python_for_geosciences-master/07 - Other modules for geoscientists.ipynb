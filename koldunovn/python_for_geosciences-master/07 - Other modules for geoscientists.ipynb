{
 "cells": [
  {
   "cell_type": "markdown",
   "metadata": {},
   "source": [
    "# Other modules for geoscientists"
   ]
  },
  {
   "cell_type": "markdown",
   "metadata": {},
   "source": [
    "Nikolay Koldunov\n",
    "\n",
    "koldunovn@gmail.com"
   ]
  },
  {
   "cell_type": "markdown",
   "metadata": {},
   "source": [
    "This is part of [**Python for Geosciences**](https://github.com/koldunovn/python_for_geosciences) notes."
   ]
  },
  {
   "cell_type": "markdown",
   "metadata": {},
   "source": [
    "============="
   ]
  },
  {
   "cell_type": "markdown",
   "metadata": {},
   "source": [
    "Some of the things will not work on ZMAW computers (Iris, Cartopy)."
   ]
  },
  {
   "cell_type": "markdown",
   "metadata": {},
   "source": [
    "## Iris"
   ]
  },
  {
   "cell_type": "markdown",
   "metadata": {},
   "source": [
    " [Iris](http://scitools.org.uk/iris/) seeks to provide a powerful, easy to use, and community-driven Python library for analysing and visualising meteorological and oceanographic data sets. Kind of Ferret replacement. Developed in the Met Office by group of 7 full time developers. There are more than 300 active python users in Met Office.\n",
    "\n",
    "With Iris you can:\n",
    "\n",
    "* Use a single API to work on your data, irrespective of its original format.\n",
    "* Read and write (CF-)netCDF, GRIB, and PP files.\n",
    "* Easily produce graphs and maps via integration with matplotlib and cartopy.\n"
   ]
  },
  {
   "cell_type": "markdown",
   "metadata": {},
   "source": [
    "Here we load data from netCDF file in to *cube* object and plot first time step. Note automatic unpacking, and the title."
   ]
  },
  {
   "cell_type": "code",
   "execution_count": null,
   "metadata": {},
   "outputs": [],
   "source": [
    "import iris\n",
    "import iris.quickplot as qplt\n",
    "\n",
    "temperature = iris.load_cube('air.sig995.2012.nc')\n",
    "\n",
    "qplt.contourf(temperature[0,:,:])\n",
    "gca().coastlines()"
   ]
  },
  {
   "cell_type": "markdown",
   "metadata": {},
   "source": [
    "This is how iris *cube* look like:"
   ]
  },
  {
   "cell_type": "code",
   "execution_count": null,
   "metadata": {},
   "outputs": [],
   "source": [
    "print temperature"
   ]
  },
  {
   "cell_type": "markdown",
   "metadata": {},
   "source": [
    "We can perform different operations on cubes. For example create zonal mean:"
   ]
  },
  {
   "cell_type": "code",
   "execution_count": null,
   "metadata": {},
   "outputs": [],
   "source": [
    "zonal_mean = temperature.collapsed('latitude', iris.analysis.MEAN)"
   ]
  },
  {
   "cell_type": "code",
   "execution_count": null,
   "metadata": {},
   "outputs": [],
   "source": [
    "qplt.contourf(zonal_mean)"
   ]
  },
  {
   "cell_type": "markdown",
   "metadata": {},
   "source": [
    "Here we plot timesiries from one point:"
   ]
  },
  {
   "cell_type": "code",
   "execution_count": null,
   "metadata": {},
   "outputs": [],
   "source": [
    "#Code is a bit more complicated in order to fix issue with dates formating\n",
    "fig = figure()\n",
    "qplt.plot(temperature[:,10,10])\n",
    "fig.autofmt_xdate()"
   ]
  },
  {
   "cell_type": "markdown",
   "metadata": {},
   "source": [
    "Section along longitude:"
   ]
  },
  {
   "cell_type": "code",
   "execution_count": null,
   "metadata": {},
   "outputs": [],
   "source": [
    "qplt.plot(temperature[0,:,10])"
   ]
  },
  {
   "cell_type": "markdown",
   "metadata": {},
   "source": [
    "## Cartopy"
   ]
  },
  {
   "cell_type": "markdown",
   "metadata": {},
   "source": [
    "[Cartopy](http://scitools.org.uk/cartopy/) is a library providing cartographic tools for python.\n",
    "\n",
    "Some of the key features of cartopy are:\n",
    "\n",
    "* object oriented projection definitions\n",
    "* point, line, polygon and image transformations between projections\n",
    "* integration to expose advanced mapping in matplotlib with a simple and intuitive interface"
   ]
  },
  {
   "cell_type": "markdown",
   "metadata": {},
   "source": [
    "Simple plot:"
   ]
  },
  {
   "cell_type": "code",
   "execution_count": null,
   "metadata": {},
   "outputs": [],
   "source": [
    "import cartopy.crs as ccrs"
   ]
  },
  {
   "cell_type": "code",
   "execution_count": null,
   "metadata": {},
   "outputs": [],
   "source": [
    "ax = plt.axes(projection=ccrs.PlateCarree())\n",
    "qplt.contourf(temperature[0,:,:])\n",
    "gca().coastlines()"
   ]
  },
  {
   "cell_type": "markdown",
   "metadata": {},
   "source": [
    "We only change projection:"
   ]
  },
  {
   "cell_type": "code",
   "execution_count": null,
   "metadata": {},
   "outputs": [],
   "source": [
    "ax = plt.axes(projection=ccrs.Mollweide())\n",
    "qplt.contourf(temperature[0,:,:])\n",
    "gca().coastlines()"
   ]
  },
  {
   "cell_type": "code",
   "execution_count": null,
   "metadata": {},
   "outputs": [],
   "source": [
    "ax = plt.axes(projection=ccrs.Robinson())\n",
    "qplt.contourf(temperature[0,:,:])\n",
    "gca().coastlines()"
   ]
  },
  {
   "cell_type": "code",
   "execution_count": null,
   "metadata": {},
   "outputs": [],
   "source": [
    "fig = figure(figsize=(7,7))\n",
    "ax = plt.axes(projection=ccrs.NorthPolarStereo())\n",
    "ax.set_extent([0, 360, 50, 90], crs=ccrs.PlateCarree())\n",
    "qplt.contourf(temperature[0,:,:])\n",
    "gca().coastlines()"
   ]
  },
  {
   "cell_type": "markdown",
   "metadata": {},
   "source": [
    "One of the things it was originally created for is to handle datelines properly. Below is an example form the [post by Filipe Fernandes](http://ocefpaf.github.io/blog/2013/09/23/cartopy/), that demonstrate this feature. He show how to plot Challenger Expedition track in Basemap and Cartopy."
   ]
  },
  {
   "cell_type": "markdown",
   "metadata": {},
   "source": [
    "First download the data:"
   ]
  },
  {
   "cell_type": "code",
   "execution_count": null,
   "metadata": {},
   "outputs": [],
   "source": [
    "!wget https://raw.github.com/ocefpaf/ocefpaf.github.io/master/downloads/notebooks/data/challenger_path.csv"
   ]
  },
  {
   "cell_type": "markdown",
   "metadata": {},
   "source": [
    "#### Basemap version:"
   ]
  },
  {
   "cell_type": "code",
   "execution_count": null,
   "metadata": {},
   "outputs": [],
   "source": [
    "kw = dict(color='#FF9900', linestyle='-', linewidth=1.5)\n",
    "lon, lat = np.loadtxt('./challenger_path.csv', delimiter=',', unpack=True)"
   ]
  },
  {
   "cell_type": "code",
   "execution_count": null,
   "metadata": {},
   "outputs": [],
   "source": [
    "from mpl_toolkits.basemap import Basemap\n",
    "\n",
    "def make_basemap(projection='robin', figsize=(10, 5), resolution='c'):\n",
    "    fig, ax = plt.subplots(figsize=figsize)\n",
    "    m = Basemap(projection=projection, resolution=resolution,\n",
    "                lon_0=0, ax=ax)\n",
    "    m.drawcoastlines()\n",
    "    m.fillcontinents(color='0.85')\n",
    "    parallels = np.arange(-60, 90, 30.)\n",
    "    meridians = np.arange(-360, 360, 60.)\n",
    "    m.drawparallels(parallels, labels=[1, 0, 0, 0])\n",
    "    m.drawmeridians(meridians, labels=[0, 0, 1, 0])\n",
    "    return fig, m"
   ]
  },
  {
   "cell_type": "code",
   "execution_count": null,
   "metadata": {},
   "outputs": [],
   "source": [
    "fig, m = make_basemap()\n",
    "_ = m.plot(*m(lon, lat), **kw)"
   ]
  },
  {
   "cell_type": "markdown",
   "metadata": {},
   "source": [
    "#### Cartopy version:"
   ]
  },
  {
   "cell_type": "code",
   "execution_count": null,
   "metadata": {},
   "outputs": [],
   "source": [
    "import cartopy.crs as ccrs\n",
    "import cartopy.feature as cfeature\n",
    "\n",
    "def make_cartopy(projection=ccrs.Robinson(), figsize=(10, 5), resolution='110m'):\n",
    "    fig, ax = plt.subplots(figsize=figsize, subplot_kw=dict(projection=projection))\n",
    "    ax.set_global()\n",
    "    ax.coastlines(resolution=resolution, color='k')\n",
    "    gl = ax.gridlines(draw_labels=False)  # Only PlateCarree and Mercator plots are currently supported.\n",
    "    ax.add_feature(cfeature.LAND, facecolor='0.75')\n",
    "    return fig, ax"
   ]
  },
  {
   "cell_type": "code",
   "execution_count": null,
   "metadata": {},
   "outputs": [],
   "source": [
    "fig, ax = make_cartopy(projection=ccrs.Robinson(), resolution='110m')\n",
    "_ = ax.plot(lon, lat, transform=ccrs.Geodetic(), **kw)"
   ]
  },
  {
   "cell_type": "markdown",
   "metadata": {},
   "source": [
    "# Pydap"
   ]
  },
  {
   "cell_type": "markdown",
   "metadata": {},
   "source": [
    "[Pydap](http://www.pydap.org/) is a pure Python library implementing the Data Access Protocol, also known as DODS or OPeNDAP. You can use Pydap as a client to access hundreds of scientific datasets in a transparent and efficient way through the internet; or as a server to easily distribute your data from a variety of formats."
   ]
  },
  {
   "cell_type": "code",
   "execution_count": null,
   "metadata": {},
   "outputs": [],
   "source": [
    "from pydap.client import open_url"
   ]
  },
  {
   "cell_type": "markdown",
   "metadata": {},
   "source": [
    "We are going to access [sea ice data](http://icdc.zmaw.de/seaiceconcentration_asi_amsre.html?&L=1) from [CliSAP-Integrated Climate Data Center (ICDC)](http://icdc.zmaw.de/)"
   ]
  },
  {
   "cell_type": "code",
   "execution_count": null,
   "metadata": {},
   "outputs": [],
   "source": [
    "dataset = open_url(\"http://icdc.zmaw.de/thredds/dodsC/amsre_asi_nh_2011\")"
   ]
  },
  {
   "cell_type": "code",
   "execution_count": null,
   "metadata": {},
   "outputs": [],
   "source": [
    "print dataset"
   ]
  },
  {
   "cell_type": "code",
   "execution_count": null,
   "metadata": {},
   "outputs": [],
   "source": [
    "ice = dataset['icecon']"
   ]
  },
  {
   "cell_type": "code",
   "execution_count": null,
   "metadata": {},
   "outputs": [],
   "source": [
    "ice.shape"
   ]
  },
  {
   "cell_type": "code",
   "execution_count": null,
   "metadata": {},
   "outputs": [],
   "source": [
    "ice.attributes"
   ]
  },
  {
   "cell_type": "code",
   "execution_count": null,
   "metadata": {},
   "outputs": [],
   "source": [
    "imshow(squeeze(ice[0,:,:])*0.10000000149011612)\n",
    "colorbar()"
   ]
  },
  {
   "cell_type": "markdown",
   "metadata": {},
   "source": [
    "## F2PY"
   ]
  },
  {
   "cell_type": "markdown",
   "metadata": {},
   "source": [
    "The [F2PY](http://www.f2py.com/) project is created to unify the efforts of supporting easy connection between Fortran and Python languages. Example below is from [Using Python and FORTRAN with F2py](http://www.f2py.com/)."
   ]
  },
  {
   "cell_type": "markdown",
   "metadata": {},
   "source": [
    "Create FORTRAN file (use %%file instead of %%writefile if you on IPython < 1.0):"
   ]
  },
  {
   "cell_type": "code",
   "execution_count": null,
   "metadata": {},
   "outputs": [],
   "source": [
    "%%writefile FIB1.F\n",
    "C FILE: FIB1.F\n",
    "      SUBROUTINE FIB(A,N)\n",
    "C\n",
    "C     CALCULATE FIRST N FIBONACCI NUMBERS\n",
    "C\n",
    "      INTEGER N\n",
    "      REAL*8 A(N)\n",
    "      DO I=1,N\n",
    "         IF (I.EQ.1) THEN\n",
    "            A(I) = 0.0D0\n",
    "         ELSEIF (I.EQ.2) THEN\n",
    "            A(I) = 1.0D0\n",
    "         ELSE \n",
    "            A(I) = A(I-1) + A(I-2)\n",
    "         ENDIF\n",
    "      ENDDO\n",
    "      END\n",
    "C END FILE FIB1.F"
   ]
  },
  {
   "cell_type": "markdown",
   "metadata": {},
   "source": [
    "Compile it with f2py:"
   ]
  },
  {
   "cell_type": "code",
   "execution_count": null,
   "metadata": {},
   "outputs": [],
   "source": [
    "!f2py -c -m --fcompiler=gnu95 fib1 FIB1.F"
   ]
  },
  {
   "cell_type": "markdown",
   "metadata": {},
   "source": [
    "Import resulting **fib1.so** as python library:"
   ]
  },
  {
   "cell_type": "code",
   "execution_count": null,
   "metadata": {},
   "outputs": [],
   "source": [
    "import fib1"
   ]
  },
  {
   "cell_type": "markdown",
   "metadata": {},
   "source": [
    "Read some auto generated documentation:"
   ]
  },
  {
   "cell_type": "code",
   "execution_count": null,
   "metadata": {},
   "outputs": [],
   "source": [
    "print fib1.__doc__\n",
    "print fib1.fib.__doc__"
   ]
  },
  {
   "cell_type": "markdown",
   "metadata": {},
   "source": [
    "Use *fib* function:"
   ]
  },
  {
   "cell_type": "code",
   "execution_count": null,
   "metadata": {},
   "outputs": [],
   "source": [
    "import numpy as np"
   ]
  },
  {
   "cell_type": "code",
   "execution_count": null,
   "metadata": {},
   "outputs": [],
   "source": [
    "a=np.zeros(15,'d') \n",
    "fib1.fib(a) \n",
    "print a "
   ]
  },
  {
   "cell_type": "markdown",
   "metadata": {},
   "source": [
    "## netCDF4-python"
   ]
  },
  {
   "cell_type": "markdown",
   "metadata": {},
   "source": [
    "[netCDF4-python](http://netcdf4-python.googlecode.com/svn/trunk/docs/netCDF4-module.html) is advanced Python interface to the netCDF version 4 library."
   ]
  },
  {
   "cell_type": "markdown",
   "metadata": {},
   "source": [
    "Among other features it can read data from a multi-file netCDF dataset."
   ]
  },
  {
   "cell_type": "markdown",
   "metadata": {},
   "source": [
    "Let's download one more file from NCEP reanalysis data: "
   ]
  },
  {
   "cell_type": "code",
   "execution_count": null,
   "metadata": {},
   "outputs": [],
   "source": [
    "!wget ftp://ftp.cdc.noaa.gov/Datasets/ncep.reanalysis/surface/air.sig995.2011.nc"
   ]
  },
  {
   "cell_type": "code",
   "execution_count": null,
   "metadata": {},
   "outputs": [],
   "source": [
    "from netCDF4 import MFDataset\n",
    "f = MFDataset('air.sig995.????.nc')"
   ]
  },
  {
   "cell_type": "code",
   "execution_count": null,
   "metadata": {},
   "outputs": [],
   "source": [
    "f.variables"
   ]
  },
  {
   "cell_type": "code",
   "execution_count": null,
   "metadata": {},
   "outputs": [],
   "source": [
    "air = f.variables['air']\n",
    "time = f.variables['time']\n",
    "lat = f.variables['lat']"
   ]
  },
  {
   "cell_type": "markdown",
   "metadata": {},
   "source": [
    "The *air* variable now have 2 years of data:"
   ]
  },
  {
   "cell_type": "code",
   "execution_count": null,
   "metadata": {},
   "outputs": [],
   "source": [
    "air.shape"
   ]
  },
  {
   "cell_type": "markdown",
   "metadata": {},
   "source": [
    "It also have very nice functions for dates processing:"
   ]
  },
  {
   "cell_type": "code",
   "execution_count": null,
   "metadata": {},
   "outputs": [],
   "source": [
    "from netCDF4 import num2date"
   ]
  },
  {
   "cell_type": "code",
   "execution_count": null,
   "metadata": {},
   "outputs": [],
   "source": [
    "time.units"
   ]
  },
  {
   "cell_type": "markdown",
   "metadata": {},
   "source": [
    "We can convert our *time* values to the *datetime* format, that python can work with:"
   ]
  },
  {
   "cell_type": "code",
   "execution_count": null,
   "metadata": {},
   "outputs": [],
   "source": [
    "time_conv = num2date(time, time.units)"
   ]
  },
  {
   "cell_type": "code",
   "execution_count": null,
   "metadata": {},
   "outputs": [],
   "source": [
    "time_conv"
   ]
  },
  {
   "cell_type": "code",
   "execution_count": null,
   "metadata": {},
   "outputs": [],
   "source": [
    "fig = figure()\n",
    "plot(time_conv, air[:,10,10])\n",
    "fig.autofmt_xdate()"
   ]
  },
  {
   "cell_type": "markdown",
   "metadata": {},
   "source": [
    "Note that we don't have to apply *scale factor* and *add offset*, it's done automatically."
   ]
  },
  {
   "cell_type": "code",
   "execution_count": null,
   "metadata": {},
   "outputs": [],
   "source": [
    "contourf(lat[:],time_conv,air[:,:,10])\n",
    "colorbar()"
   ]
  }
 ],
 "metadata": {
  "kernelspec": {
   "display_name": "Python [conda root]",
   "language": "python",
   "name": "conda-root-py"
  },
  "language_info": {
   "codemirror_mode": {
    "name": "ipython",
    "version": 3
   },
   "file_extension": ".py",
   "mimetype": "text/x-python",
   "name": "python",
   "nbconvert_exporter": "python",
   "pygments_lexer": "ipython3",
   "version": "3.5.2"
  }
 },
 "nbformat": 4,
 "nbformat_minor": 0
}
