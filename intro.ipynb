{
 "cells": [
  {
   "cell_type": "markdown",
   "metadata": {},
   "source": [
    "# Hello"
   ]
  },
  {
   "cell_type": "markdown",
   "metadata": {},
   "source": [
    "Thanks for coming along!\n",
    "\n",
    "The goal of this course is to expose you to the Python programming language and to show you how it can make your life as a geoscientist **easier and more productive**. If it doesn't do those last two things, it's not worth your time."
   ]
  },
  {
   "cell_type": "markdown",
   "metadata": {},
   "source": [
    "## Things this course will attempt to do"
   ]
  },
  {
   "cell_type": "markdown",
   "metadata": {},
   "source": [
    "- Demonstrate some of the main ways I use Python as a practicing (pretending) geoscientist.\n",
    "- Cater to all levels of coding experience by providing a series of examples of stepped difficulty.\n",
    "- Provide code templates that you might later adapt for your own problems.\n",
    "- Show you some of the tricks I use for figuring out Python on my own."
   ]
  },
  {
   "cell_type": "markdown",
   "metadata": {},
   "source": [
    "## Things this course will not do"
   ]
  },
  {
   "cell_type": "markdown",
   "metadata": {},
   "source": [
    "- Turn you into an expert Python programmer in 6-8 hours.\n",
    "- Litigate arguments around why Python is a better programming language than XXX (Matlab is the usual one here, I used it for many years, it's fine). "
   ]
  },
  {
   "cell_type": "markdown",
   "metadata": {},
   "source": [
    "# Let's get into it!"
   ]
  },
  {
   "cell_type": "markdown",
   "metadata": {},
   "source": [
    "Some housekeeping and orientation before I throw you in the deep end."
   ]
  },
  {
   "cell_type": "markdown",
   "metadata": {},
   "source": [
    "## What is a Python?"
   ]
  },
  {
   "cell_type": "markdown",
   "metadata": {},
   "source": [
    "A high-level computing language, ideal for scripting a wide range of everyday tasks of varying complexity. Python is free to download and is open-source. There is a massive online community dedicated to adding new capability and answering your questions."
   ]
  },
  {
   "cell_type": "markdown",
   "metadata": {},
   "source": [
    "## Is this Python?"
   ]
  },
  {
   "cell_type": "markdown",
   "metadata": {},
   "source": [
    "No. Yes. Sort of."
   ]
  },
  {
   "cell_type": "markdown",
   "metadata": {},
   "source": [
    "You're currently reading this text inside of something called a Jupyter Notebook. It enables me to write short explanations, with [web links](http://www.top13.net/wp-content/uploads/2015/10/perfectly-timed-cat-photos-funny-cover.jpg), pictures\n",
    "\n",
    "\\begin{equation}\n",
    "e^{qu}\\times at=i\\left(on\\right)^s\n",
    "\\end{equation}\n",
    "\n",
    "and "
   ]
  },
  {
   "cell_type": "code",
   "execution_count": null,
   "metadata": {},
   "outputs": [],
   "source": [
    "# live modifiable, Python code\n",
    "\n",
    "# run the command below by clicking inside the cell and hitting Ctrl+Enter\n",
    "1+2"
   ]
  },
  {
   "cell_type": "markdown",
   "metadata": {},
   "source": [
    "all inside a single, web-browser document. The Jupyter Notebook **is not** the same thing as Python, but it **is** running Python behind the scenes. \n",
    "\n",
    "The Jupyter Notebook format makes it easier for me to run a *Python for Geoscientists* short course."
   ]
  },
  {
   "cell_type": "markdown",
   "metadata": {},
   "source": [
    "## Can I keep it?"
   ]
  },
  {
   "cell_type": "markdown",
   "metadata": {},
   "source": [
    "Of course! I hope you will take these notebooks away and someday find them useful. There are a few things you will need to do though...\n",
    "\n",
    "### Install Python for yourself!\n",
    "\n",
    "I recommend the Anaconda Python installation, available for download [here](https://www.continuum.io/downloads). There are two flavors: 2.7 and 3.6. Unless someone has told you that you need to use Python 2.X to run their particular code, I recommend going for the later, 3.6 version.\n",
    "\n",
    "### Open the Jupyter Notebook!\n",
    "\n",
    "Same way we did it here:\n",
    "\n",
    "1. `Ctrl + Right-click` in the empty space of a folder then `Open command window here`.\n",
    "2. Type `jupyter notebook`\n",
    "3. Open the notebook.\n",
    "\n",
    "\"*How can I follow those instructions when they are contained in the thing I am being instructed to open?*\" \n",
    "\n",
    "Good point, refer to the PDF quick-start document.\n"
   ]
  },
  {
   "cell_type": "markdown",
   "metadata": {},
   "source": [
    "# HELP!"
   ]
  },
  {
   "cell_type": "markdown",
   "metadata": {},
   "source": [
    "## The code won't work"
   ]
  },
  {
   "cell_type": "markdown",
   "metadata": {},
   "source": [
    "If you're sitting in the course right now, listening to me drone on, please flag down the teaching assistant or catch me during a break. If you're doing this at home, I'm afraid it's off to Google with you..."
   ]
  },
  {
   "cell_type": "markdown",
   "metadata": {},
   "source": [
    "## Surely other folk thought to do a course like this before you?"
   ]
  },
  {
   "cell_type": "markdown",
   "metadata": {},
   "source": [
    "They did! There are some excellent Python for Geoscientists courses out there. Naturally, I have stolen their idea - it is a good one! I have also included one such course ***as is*** in the zip folder you downloaded: [Python for Geosciences](https://github.com/koldunovn/python_for_geosciences) by Nikolay Koldunov. Being Jupyter Notebook based, you should be able to work your way that course semi-independently."
   ]
  },
  {
   "cell_type": "markdown",
   "metadata": {},
   "source": [
    "# Feedback"
   ]
  },
  {
   "cell_type": "markdown",
   "metadata": {},
   "source": [
    "I'm very pleased to hear how this course could be made better so feel free to flick me an email (d.dempsey@auckland.ac.nz). Let me know the things you liked, the things you hated, and what was most useful for your learning."
   ]
  },
  {
   "cell_type": "markdown",
   "metadata": {},
   "source": [
    "# What now?"
   ]
  },
  {
   "cell_type": "markdown",
   "metadata": {},
   "source": [
    "Let's **open the [python101](python101.ipynb) notebook** and look at some of the basics of the code."
   ]
  }
 ],
 "metadata": {
  "kernelspec": {
   "display_name": "Python [default]",
   "language": "python",
   "name": "python3"
  },
  "language_info": {
   "codemirror_mode": {
    "name": "ipython",
    "version": 3
   },
   "file_extension": ".py",
   "mimetype": "text/x-python",
   "name": "python",
   "nbconvert_exporter": "python",
   "pygments_lexer": "ipython3",
   "version": "3.5.3"
  }
 },
 "nbformat": 4,
 "nbformat_minor": 2
}
