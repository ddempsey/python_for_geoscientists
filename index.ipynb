{
 "cells": [
  {
   "cell_type": "markdown",
   "metadata": {},
   "source": [
    "# Index"
   ]
  },
  {
   "cell_type": "markdown",
   "metadata": {},
   "source": [
    "[addition](python101.ipynb#0.1-We-can-use-Python-as-a-glorified-calculator)\n",
    "\n",
    "[archives](module%201%20-%20data/Data.ipynb#Decipher:-Professional-room-tidying-consultant)\n",
    "\n",
    "[arrays](python101.ipynb#0.3-Lists-and-arrays)\n",
    "\n",
    "[axis](module%202%20-%20visualisation/Visualisation.ipynb#2.1.1-The-basics)\n",
    "\n",
    "- [labels](module%202%20-%20visualisation/Visualisation.ipynb#2.1.2-Line-plots)\n",
    "- [title](module%202%20-%20visualisation/Visualisation.ipynb#2.1.2-Line-plots)\n",
    "- [limits](module%202%20-%20visualisation/Visualisation.ipynb#2.1.2-Line-plots)\n",
    "- [twinned](module%203%20-%20models/Models.ipynb#3.2.2-Numerically)"
   ]
  },
  {
   "cell_type": "markdown",
   "metadata": {},
   "source": [
    "[bar plot](module%202%20-%20visualisation/Visualisation.ipynb#2.1.3-Histograms)"
   ]
  },
  {
   "cell_type": "markdown",
   "metadata": {},
   "source": [
    "[cartographic plotting](module%202%20-%20visualisation/Visualisation.ipynb#<neat>-Cartopy)\n",
    "\n",
    "[colorbar](module%202%20-%20visualisation/Visualisation.ipynb#2.2.1-Scatter-plots)\n",
    "\n",
    "[colormap](module%202%20-%20visualisation/Visualisation.ipynb#2.2.1-Scatter-plots)\n",
    "\n",
    "[command line calls](module%202%20-%20visualisation/Visualisation.ipynb#2.4.2-Movies)\n",
    "\n",
    "[conditions](python101.ipynb#0.5-Making-the-computer-program-a-little-bit-smart)\n",
    "\n",
    "[contour plot](module%202%20-%20visualisation/Visualisation.ipynb#2.2.2-Contour-plots)\n",
    "\n",
    "[cosine](python101.ipynb#0.1-We-can-use-Python-as-a-glorified-calculator)\n",
    "\n",
    "[CSV files](module%201%20-%20data/Data.ipynb#1.5.1-Demo:-Kindle-1.0)"
   ]
  },
  {
   "cell_type": "markdown",
   "metadata": {},
   "source": [
    "[datetime/datestring](module%202%20-%20visualisation/Visualisation.ipynb#2.2.1-Scatter-plots)\n",
    "\n",
    "directories\n",
    "\n",
    "- [creating](module%201%20-%20data/Data.ipynb#Demo:-Because-your-Mum-told-you-to)\n",
    "- [deleting](module%201%20-%20data/Data.ipynb#Demo:-Because-your-Mum-told-you-to)\n",
    "\n",
    "[division](python101.ipynb#0.1-We-can-use-Python-as-a-glorified-calculator)\n",
    "\n",
    "[download a file](module%201%20-%20data/Data.ipynb#1.5.2-For-experts-1---download-from-the-web)"
   ]
  },
  {
   "cell_type": "markdown",
   "metadata": {},
   "source": [
    "[errors](python101.ipynb#0.2-Whoops!)\n",
    "\n",
    "- [handling](python101.ipynb#<neat>-try/except)\n",
    "\n",
    "[Excel spreadsheet](module%201%20-%20data/Data.ipynb#<neat>-Reading-from-an-Excel-spreadsheet)\n",
    "\n",
    "[exponentiation](python101.ipynb#0.1-We-can-use-Python-as-a-glorified-calculator)"
   ]
  },
  {
   "cell_type": "markdown",
   "metadata": {},
   "source": [
    "[figure](module%202%20-%20visualisation/Visualisation.ipynb#2.1.1-The-basics)\n",
    "\n",
    "files\n",
    "\n",
    "- [copying](module%201%20-%20data/Data.ipynb#Demo:-Light-copyright-violation)\n",
    "- [deleting](module%201%20-%20data/Data.ipynb#Demo:-Light-copyright-violation)\n",
    "- [moving](module%201%20-%20data/Data.ipynb#Modify-to:-Flagrant-theft)\n",
    "- [reading](module%201%20-%20data/Data.ipynb#1.1-Reading-your-books)\n",
    "- [renaming](module%201%20-%20data/Data.ipynb#DIY:-Outright-plagiarism)\n",
    "- [writing](module%201%20-%20data/Data.ipynb#Demo:-Creative-writing-101)\n",
    "\n",
    "[for loop](python101.ipynb#0.4-Doing-things-over-and-over)\n",
    "\n",
    "[function](module%203%20-%20models/Models.ipynb#3.1.1-A-super-simple-example)"
   ]
  },
  {
   "cell_type": "markdown",
   "metadata": {},
   "source": [
    "[genfromtxt](module%201%20-%20data/Data.ipynb#1.5.1-Demo:-Kindle-1.0)"
   ]
  },
  {
   "cell_type": "markdown",
   "metadata": {},
   "source": [
    "[histogram](module%202%20-%20visualisation/Visualisation.ipynb#2.1.3-Histograms)"
   ]
  },
  {
   "cell_type": "markdown",
   "metadata": {},
   "source": [
    "[if/elif/else](python101.ipynb#0.5-Making-the-computer-program-a-little-bit-smart)\n",
    "\n",
    "[indexing](python101.ipynb#0.3-Lists-and-arrays)\n",
    "\n",
    "[interactive plot](module%202%20-%20visualisation/Visualisation.ipynb#2.4.1-Interact)"
   ]
  },
  {
   "cell_type": "markdown",
   "metadata": {},
   "source": [
    "[kernel density estimator (KDE)](module%202%20-%20visualisation/Visualisation.ipynb#2.2.2-Contour-plots)"
   ]
  },
  {
   "cell_type": "markdown",
   "metadata": {},
   "source": [
    "[least squares residual](module%203%20-%20models/Models.ipynb#Least-squares-residual)\n",
    "\n",
    "[legend](module%202%20-%20visualisation/Visualisation.ipynb#2.1.2-Line-plots)\n",
    "\n",
    "[Line plot](module%202%20-%20visualisation/Visualisation.ipynb#2.1.2-Line-plots)\n",
    "\n",
    "[lists](python101.ipynb#0.3-Lists-and-arrays)\n",
    "\n",
    "- [comprehension](python101.ipynb#<neat>-List-Comprehension)\n",
    "\n",
    "[log](python101.ipynb#0.1-We-can-use-Python-as-a-glorified-calculator)\n",
    "\n",
    "loops\n",
    "\n",
    "- [for](python101.ipynb#0.4-Doing-things-over-and-over)\n",
    "- [while](python101.ipynb#0.5.1-Making-a-loop-a-little-bit-smart)"
   ]
  },
  {
   "cell_type": "markdown",
   "metadata": {},
   "source": [
    "[matplotlib](module%202%20-%20visualisation/Visualisation.ipynb#2.1D---line-plots,-histograms,-subplots)\n",
    "\n",
    "[maximum](module%202%20-%20visualisation/Visualisation.ipynb#2.1.3-Histograms)\n",
    "\n",
    "[mean](module%202%20-%20visualisation/Visualisation.ipynb#2.1.3-Histograms)\n",
    "\n",
    "[mesh plot](module%202%20-%20visualisation/Visualisation.ipynb#2.3D---interactive-view,-meshed-surfaces)\n",
    "\n",
    "[minimum](module%202%20-%20visualisation/Visualisation.ipynb#2.1.3-Histograms)\n",
    "\n",
    "model\n",
    "\n",
    "- [definition](module%203%20-%20models/Models.ipynb#3.1.1-A-super-simple-example)\n",
    "- [analytic solution](module%203%20-%20models/Models.ipynb#3.2.1-Analytically)\n",
    "- [numerical solution](module%203%20-%20models/Models.ipynb#3.2.2-Numerically)\n",
    "- [calibration](module%203%20-%20models/Models.ipynb#3.3-Calibrating-a-model)\n",
    "- [model calibration](module%203%20-%20models/Models.ipynb#3.3.4-Automatic-model-calibration)\n",
    "- [inverse](module%203%20-%20models/Models.ipynb#3.4-Inverse-modelling)\n",
    "- [prediction](module%203%20-%20models/Models.ipynb#3.5-Prediction-with-a-model)\n",
    "- [uncertainty](module%203%20-%20models/Models.ipynb#<neat>-Uncertainty-in-models)\n",
    "\n",
    "[movie](module%202%20-%20visualisation/Visualisation.ipynb#2.4.2-Movies)\n",
    "\n",
    "[multiplication](python101.ipynb#0.1-We-can-use-Python-as-a-glorified-calculator)"
   ]
  },
  {
   "cell_type": "markdown",
   "metadata": {},
   "source": [
    "[ODE solver](module%203%20-%20models/Models.ipynb#3.2.2-Numerically)"
   ]
  },
  {
   "cell_type": "markdown",
   "metadata": {},
   "source": [
    "[Pandas](module%201%20-%20data/Data.ipynb#1.5.3-For-experts-2---Pandas)\n",
    "\n",
    "[percentile](module%202%20-%20visualisation/Visualisation.ipynb#2.1.3-Histograms)\n",
    "\n",
    "[plot annotations](module%202%20-%20visualisation/Visualisation.ipynb#2.1.2-Line-plots)\n",
    "\n",
    "[plot image](module%202%20-%20visualisation/Visualisation.ipynb#2.2.1-Scatter-plots)\n",
    "\n",
    "[plot transparency](module%202%20-%20visualisation/Visualisation.ipynb#2.2.2-Contour-plots)"
   ]
  },
  {
   "cell_type": "markdown",
   "metadata": {},
   "source": [
    "[random numbers](module%202%20-%20visualisation/Visualisation.ipynb#2.1.3-Histograms)"
   ]
  },
  {
   "cell_type": "markdown",
   "metadata": {},
   "source": [
    "[scatter plot](module%202%20-%20visualisation/Visualisation.ipynb#2.2.1-Scatter-plots)\n",
    "\n",
    "[sine](python101.ipynb#0.1-We-can-use-Python-as-a-glorified-calculator)\n",
    "\n",
    "[standard deviation](module%202%20-%20visualisation/Visualisation.ipynb#2.1.3-Histograms)\n",
    "\n",
    "[string formatting](module%201%20-%20data/Data.ipynb#Decipher:-Marking-someone-else's-work-is-not-wildly-fun)\n",
    "\n",
    "[subtraction](python101.ipynb#0.1-We-can-use-Python-as-a-glorified-calculator)\n",
    "\n",
    "[sum](module%202%20-%20visualisation/Visualisation.ipynb#2.1.3-Histograms)"
   ]
  },
  {
   "cell_type": "markdown",
   "metadata": {},
   "source": [
    "[try/except](python101.ipynb#<neat>-try/except)"
   ]
  },
  {
   "cell_type": "markdown",
   "metadata": {},
   "source": [
    "[Wairakei lumped parameter model](module%203%20-%20models/Models.ipynb#3.3.1-A-model-of-Wairakei-geothermal-system)\n",
    "\n",
    "[while loop](python101.ipynb#0.5.1-Making-a-loop-a-little-bit-smart)\n",
    "\n",
    "[wildcards](module%201%20-%20data/Data.ipynb#Modify-to:-Because-you're-an-adult-and-adults-have-tidy-rooms)"
   ]
  },
  {
   "cell_type": "markdown",
   "metadata": {},
   "source": [
    "[XKCD](module%203%20-%20models/Models.ipynb#What-now?)"
   ]
  },
  {
   "cell_type": "markdown",
   "metadata": {},
   "source": [
    "[zip files](module%201%20-%20data/Data.ipynb#Decipher:-Professional-room-tidying-consultant)"
   ]
  }
 ],
 "metadata": {
  "kernelspec": {
   "display_name": "Python [Root]",
   "language": "python",
   "name": "Python [Root]"
  },
  "language_info": {
   "codemirror_mode": {
    "name": "ipython",
    "version": 2
   },
   "file_extension": ".py",
   "mimetype": "text/x-python",
   "name": "python",
   "nbconvert_exporter": "python",
   "pygments_lexer": "ipython2",
   "version": "2.7.12"
  }
 },
 "nbformat": 4,
 "nbformat_minor": 2
}
