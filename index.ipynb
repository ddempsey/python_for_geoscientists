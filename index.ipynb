{
 "cells": [
  {
   "cell_type": "markdown",
   "metadata": {},
   "source": [
    "# Index"
   ]
  },
  {
   "cell_type": "markdown",
   "metadata": {},
   "source": [
    "[addition](python101.ipynb#0.1-We-can-use-Python-as-a-glorified-calculator)\n",
    "\n",
    "[subtraction](python101.ipynb#0.1-We-can-use-Python-as-a-glorified-calculator)\n",
    "\n",
    "[multiplication](python101.ipynb#0.1-We-can-use-Python-as-a-glorified-calculator)\n",
    "\n",
    "[division](python101.ipynb#0.1-We-can-use-Python-as-a-glorified-calculator)\n",
    "\n",
    "[exponentiation](python101.ipynb#0.1-We-can-use-Python-as-a-glorified-calculator)\n",
    "\n",
    "[sine](python101.ipynb#0.1-We-can-use-Python-as-a-glorified-calculator)\n",
    "\n",
    "[cosine](python101.ipynb#0.1-We-can-use-Python-as-a-glorified-calculator)\n",
    "\n",
    "[log](python101.ipynb#0.1-We-can-use-Python-as-a-glorified-calculator)\n",
    "\n",
    "[errors](python101.ipynb#0.2-Whoops!)\n",
    "\n",
    "[error handling](python101.ipynb#<neato>-try/except)\n",
    "\n",
    "[try/except](python101.ipynb#<neato>-try/except)\n",
    "\n",
    "[lists](python101.ipynb#0.3-Lists-and-arrays)\n",
    "\n",
    "[arrays](python101.ipynb#0.3-Lists-and-arrays)\n",
    "\n",
    "[indexing](python101.ipynb#0.3-Lists-and-arrays)\n",
    "\n",
    "[for loop](python101.ipynb#0.4-Doing-things-over-and-over)\n",
    "\n",
    "[while loop](python101.ipynb#0.5.1-Making-a-loop-a-little-bit-smart)\n",
    "\n",
    "[conditions](python101.ipynb#0.5-Making-the-computer-program-a-little-bit-smart)\n",
    "\n",
    "[if/elif/else](python101.ipynb#0.5-Making-the-computer-program-a-little-bit-smart)\n",
    "\n",
    "[list comprehension](python101.ipynb#<neato>-List-Comprehension)\n"
   ]
  }
 ],
 "metadata": {
  "kernelspec": {
   "display_name": "Python 3",
   "language": "python",
   "name": "python3"
  },
  "language_info": {
   "codemirror_mode": {
    "name": "ipython",
    "version": 3
   },
   "file_extension": ".py",
   "mimetype": "text/x-python",
   "name": "python",
   "nbconvert_exporter": "python",
   "pygments_lexer": "ipython3",
   "version": "3.6.0"
  }
 },
 "nbformat": 4,
 "nbformat_minor": 2
}
