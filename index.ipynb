{
 "cells": [
  {
   "cell_type": "markdown",
   "metadata": {},
   "source": [
    "# Index"
   ]
  },
  {
   "cell_type": "markdown",
   "metadata": {},
   "source": [
    "[addition](0_python101/python101.ipynb#0.1-We-can-use-Python-as-a-glorified-calculator)  \n",
    "[archives](1_data/Data.ipynb#1.4.3-Keeping-everything-in-overly-large-zip-files)  \n",
    "[arrays](0_python101/python101.ipynb#0.3-Lists-and-arrays)  \n",
    "[attributes](0_python101/python101.ipynb#0.6-Classes,-objects,-attributes-and-methods)  \n",
    "[axis](2_visualisation/Visualisation.ipynb#2.1.1-The-basics)  \n",
    "- [labels](2_visualisation/Visualisation.ipynb#2.1.2-Line-plots)\n",
    "- [title](2_visualisation/Visualisation.ipynb#2.1.2-Line-plots)\n",
    "- [limits](2_visualisation/Visualisation.ipynb#2.1.2-Line-plots)\n",
    "- [twinned](3_models/Models.ipynb#3.2.2-Numerically)"
   ]
  },
  {
   "cell_type": "markdown",
   "metadata": {},
   "source": [
    "[bar plot](2_visualisation/Visualisation.ipynb#2.1.3-Histograms)"
   ]
  },
  {
   "cell_type": "markdown",
   "metadata": {},
   "source": [
    "[cartographic plotting](2_visualisation/Visualisation.ipynb#<neat>-Cartopy)  \n",
    "[classes](0_python101/python101.ipynb#0.6-Classes,-objects,-attributes-and-methods)  \n",
    "[colorbar](2_visualisation/Visualisation.ipynb#2.2.1-Scatter-plots)  \n",
    "[colormap](2_visualisation/Visualisation.ipynb#2.2.1-Scatter-plots)  \n",
    "[command line calls](2_visualisation/Visualisation.ipynb#2.4.2-Movies)  \n",
    "[conditions](0_python101/python101.ipynb#0.5-Making-the-computer-program-a-little-bit-smart)  \n",
    "[contour plot](2_visualisation/Visualisation.ipynb#2.2.2-Contour-plots)  \n",
    "[cosine](0_python101/python101.ipynb#0.1-We-can-use-Python-as-a-glorified-calculator)  \n",
    "[CSV files](1_data/Data.ipynb#1.5.1-Easy-reading-of-text-column-data)"
   ]
  },
  {
   "cell_type": "markdown",
   "metadata": {},
   "source": [
    "[datetime/datestring](2_visualisation/Visualisation.ipynb#2.2.1-Scatter-plots)  \n",
    "directories  \n",
    "- [creating](1_data/Data.ipynb#1.4.1-Putting-stuff-in-folders)\n",
    "- [deleting](1_data/Data.ipynb#1.4.1-Putting-stuff-in-folders)  \n",
    "\n",
    "[division](0_python101/python101.ipynb#0.1-We-can-use-Python-as-a-glorified-calculator)  \n",
    "[download a file](1_data/Data.ipynb#1.5.2-For-experts-1---download-from-the-web)"
   ]
  },
  {
   "cell_type": "markdown",
   "metadata": {},
   "source": [
    "[errors](0_python101/python101.ipynb#0.2-Whoops!)\n",
    "\n",
    "- [handling](0_python101/python101.ipynb#<neat>-try/except)\n",
    "\n",
    "[Excel spreadsheet](1_data/Data.ipynb#1.5.3-Pull-data-out-of-Excel-&#40;Pandas&#41;)  \n",
    "[exponentiation](0_python101/python101.ipynb#0.1-We-can-use-Python-as-a-glorified-calculator)"
   ]
  },
  {
   "cell_type": "markdown",
   "metadata": {},
   "source": [
    "[figure](2_visualisation/Visualisation.ipynb#2.1.1-The-basics)  \n",
    "files\n",
    "\n",
    "- [copying](1_data/Data.ipynb#Entry-level-copyright-violation)\n",
    "- [deleting](1_data/Data.ipynb#Entry-level-copyright-violation)\n",
    "- [moving](1_data/Data.ipynb#Stealing-stuff)\n",
    "- [reading](1_data/Data.ipynb#1.1-Reading-your-books)\n",
    "- [renaming](1_data/Data.ipynb#Stealing-stuff-AND-pretending-its-yours-(exercise))\n",
    "- [writing](1_data/Data.ipynb#1.3-Writing-your-own-books)\n",
    "\n",
    "[for loop](0_python101/python101.ipynb#0.4-Doing-things-over-and-over)  \n",
    "[function](3_models/Models.ipynb#3.1.1-A-super-simple-example)"
   ]
  },
  {
   "cell_type": "markdown",
   "metadata": {},
   "source": [
    "[genfromtxt](1_data/Data.ipynb#1.5.1-Easy-reading-of-text-column-data)"
   ]
  },
  {
   "cell_type": "markdown",
   "metadata": {},
   "source": [
    "[histogram](2_visualisation/Visualisation.ipynb#2.1.3-Histograms)"
   ]
  },
  {
   "cell_type": "markdown",
   "metadata": {},
   "source": [
    "[if/elif/else](0_python101/python101.ipynb#0.5-Making-the-computer-program-a-little-bit-smart)  \n",
    "[indexing](0_python101/python101.ipynb#0.3-Lists-and-arrays)  \n",
    "[interactive plot](2_visualisation/Visualisation.ipynb#2.4.1-Interact)\n",
    "[interpolation](3_models/Models.ipynb#<neat>-Interpolation)"
   ]
  },
  {
   "cell_type": "markdown",
   "metadata": {},
   "source": [
    "[kernel density estimator (KDE)](2_visualisation/Visualisation.ipynb#2.2.2-Contour-plots)"
   ]
  },
  {
   "cell_type": "markdown",
   "metadata": {},
   "source": [
    "[least squares residual](3_models/Models.ipynb#Least-squares-residual)  \n",
    "[legend](2_visualisation/Visualisation.ipynb#2.1.2-Line-plots)  \n",
    "[Line plot](2_visualisation/Visualisation.ipynb#2.1.2-Line-plots)  \n",
    "[lists](0_python101/python101.ipynb#0.3-Lists-and-arrays)\n",
    "\n",
    "- [comprehension](0_python101/python101.ipynb#<neat>-List-Comprehension)\n",
    "\n",
    "[logarithm](0_python101/python101.ipynb#0.1-We-can-use-Python-as-a-glorified-calculator)  \n",
    "loops\n",
    "\n",
    "- [for](0_python101/python101.ipynb#0.4-Doing-things-over-and-over)\n",
    "- [while](0_python101/python101.ipynb#0.5.1-Making-a-loop-a-little-bit-smart)"
   ]
  },
  {
   "cell_type": "markdown",
   "metadata": {},
   "source": [
    "[matplotlib](2_visualisation/Visualisation.ipynb#2.1D---line-plots,-histograms,-subplots)  \n",
    "[maximum](2_visualisation/Visualisation.ipynb#2.1.3-Histograms)  \n",
    "[mean](2_visualisation/Visualisation.ipynb#2.1.3-Histograms)   \n",
    "[mesh plot](2_visualisation/Visualisation.ipynb#2.3D---interactive-view,-meshed-surfaces)  \n",
    "[methods](0_python101/python101.ipynb#0.6-Classes,-objects,-attributes-and-methods) \n",
    "[minimum](2_visualisation/Visualisation.ipynb#2.1.3-Histograms)\n",
    "\n",
    "model\n",
    "\n",
    "- [definition](3_models/Models.ipynb#3.1.1-A-super-simple-example)\n",
    "- [analytic solution](3_models/Models.ipynb#3.2.1-Analytically)\n",
    "- [numerical solution](3_models/Models.ipynb#3.2.2-Numerically)\n",
    "- [calibration](3_models/Models.ipynb#3.3-Calibrating-a-model)\n",
    "- [automatic calibration](3_models/Models.ipynb#3.3.4-Automatic-model-calibration)\n",
    "- [inverse](3_models/Models.ipynb#3.4-Inverse-modelling)\n",
    "- [prediction](3_models/Models.ipynb#3.5-Prediction-with-a-model)\n",
    "- [uncertainty](3_models/Models.ipynb#<neat>-Uncertainty-in-models)\n",
    "\n",
    "[movie](2_visualisation/Visualisation.ipynb#2.4.2-Movies)  \n",
    "[multiplication](0_python101/python101.ipynb#0.1-We-can-use-Python-as-a-glorified-calculator)"
   ]
  },
  {
   "cell_type": "markdown",
   "metadata": {},
   "source": [
    "[objects](0_python101/python101.ipynb#0.6-Classes,-objects,-attributes-and-methods)  \n",
    "[ODE solver](3_models/Models.ipynb#3.2.2-Numerically)"
   ]
  },
  {
   "cell_type": "markdown",
   "metadata": {},
   "source": [
    "[Pandas](1_data/Data.ipynb#1.5.3-Pull-data-out-of-Excel-&#40;Pandas&#41;)  \n",
    "[percentile](2_visualisation/Visualisation.ipynb#2.1.3-Histograms)  \n",
    "[plot annotations](2_visualisation/Visualisation.ipynb#2.1.2-Line-plots)  \n",
    "[plot image](2_visualisation/Visualisation.ipynb#2.2.1-Scatter-plots)  \n",
    "[plot transparency](2_visualisation/Visualisation.ipynb#2.2.2-Contour-plots)"
   ]
  },
  {
   "cell_type": "markdown",
   "metadata": {},
   "source": [
    "[random numbers](2_visualisation/Visualisation.ipynb#2.1.3-Histograms)"
   ]
  },
  {
   "cell_type": "markdown",
   "metadata": {},
   "source": [
    "[scatter plot](2_visualisation/Visualisation.ipynb#2.2.1-Scatter-plots)  \n",
    "[sine](0_python101/python101.ipynb#0.1-We-can-use-Python-as-a-glorified-calculator)  \n",
    "[standard deviation](2_visualisation/Visualisation.ipynb#2.1.3-Histograms)  \n",
    "[string formatting](1_data/Data.ipynb#What's-this-code-doing?)  \n",
    "[subtraction](0_python101/python101.ipynb#0.1-We-can-use-Python-as-a-glorified-calculator)  \n",
    "[sum](2_visualisation/Visualisation.ipynb#2.1.3-Histograms)"
   ]
  },
  {
   "cell_type": "markdown",
   "metadata": {},
   "source": [
    "[try/except](0_python101/python101.ipynb#<neat>-try/except)"
   ]
  },
  {
   "cell_type": "markdown",
   "metadata": {},
   "source": [
    "[Wairakei lumped parameter model](3_models/Models.ipynb#3.3.1-A-model-of-Wairakei-geothermal-system)  \n",
    "[while loop](0_python101/python101.ipynb#0.5.1-Making-a-loop-a-little-bit-smart)  \n",
    "[wildcards](1_data/Data.ipynb#1.4.2-Working-with-large-groups-of-files)"
   ]
  },
  {
   "cell_type": "markdown",
   "metadata": {},
   "source": [
    "[XKCD](3_models/Models.ipynb#What-now?)"
   ]
  },
  {
   "cell_type": "markdown",
   "metadata": {},
   "source": [
    "[zip files](1_data/Data.ipynb#1.4.3-Keeping-everything-in-overly-large-zip-files)"
   ]
  }
 ],
 "metadata": {
  "kernelspec": {
   "display_name": "Python 3",
   "language": "python",
   "name": "python3"
  },
  "language_info": {
   "codemirror_mode": {
    "name": "ipython",
    "version": 3
   },
   "file_extension": ".py",
   "mimetype": "text/x-python",
   "name": "python",
   "nbconvert_exporter": "python",
   "pygments_lexer": "ipython3",
   "version": "3.6.4"
  }
 },
 "nbformat": 4,
 "nbformat_minor": 2
}
