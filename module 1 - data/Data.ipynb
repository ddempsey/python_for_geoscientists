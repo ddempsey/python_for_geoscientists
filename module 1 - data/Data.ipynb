{
 "cells": [
  {
   "cell_type": "markdown",
   "metadata": {},
   "source": [
    "# 1 Managing your Data"
   ]
  },
  {
   "cell_type": "markdown",
   "metadata": {},
   "source": [
    "Data is the big one - there aren't many geosciences that make sense without it. \n",
    "\n",
    "Increasingly, your data will exist on a computer. And as soon as its there - text file, binary, Excel, other bespoke format, doesn't matter - we can start to use Python on it.\n",
    "\n",
    "***What on Earth would we want to do our data though?***\n",
    "\n",
    "Here are some of the things I am routinely doing with data (or, more often, the output of a computer simulation):\n",
    "\n",
    "- Opening data files and computing summary statistics.\n",
    "- Opening data files, grabbing a subset of the relevant data, and writing this out to a new file.\n",
    "- Opening hundreds of separate data files, each in separate folders, and summarising their data in a single file.\n",
    "- Creating new files and folders, deleting old ones.\n",
    "- Zipping and unzipping files.\n",
    "- Downloading files from the Internet (this one I don't do much, I can see how it could be quite useful though).\n",
    "\n",
    "Basically, everything you can **already do** by clicking and dragging, interacting with the file system. However, once you need to do the same task more than 30 times or so, it might be quicker to write a Python program to do it for you.\n",
    "\n",
    "***In the five tasks below, I rely on a series of tired and increasingly stretched real-life analogies, as a means of thinking about Data Management.***"
   ]
  },
  {
   "cell_type": "markdown",
   "metadata": {},
   "source": [
    "## 1.1 Reading your books"
   ]
  },
  {
   "cell_type": "markdown",
   "metadata": {},
   "source": [
    "Interacting with data on a computer is much like using a book. HOWEVER, the second-nature things you do without thinking about, we have to program those explicitly.\n",
    "\n",
    "***How do you read a book?*** (this is how I do it anyway)\n",
    "\n",
    "1. Read the title and determine, yes, this is the book I want to read.\n",
    "2. Open the front cover.\n",
    "3. Read the first sentence.\n",
    "4. Read the second sentence.\n",
    "5. Finish reading and close the book. (short attention span)\n",
    "\n",
    "We will write a short computer code to do the same thing."
   ]
  },
  {
   "cell_type": "markdown",
   "metadata": {},
   "source": [
    "### Demo: Reading a book"
   ]
  },
  {
   "cell_type": "markdown",
   "metadata": {},
   "source": [
    "Have a look in the folder this notebook is in. There is a file called 'book.txt'. Open it with a text editor. Looks legit right?\n",
    "\n",
    "In the cell below, I have written a series of Python commands to open 'book.txt', read its contents, and then close it again. (Note, I have been rather lavish with the comments.) \n",
    "\n",
    "**Execute the cell below by clicking in it, then hitting Ctrl+Enter**"
   ]
  },
  {
   "cell_type": "code",
   "execution_count": null,
   "metadata": {},
   "outputs": [],
   "source": [
    "title = 'book.txt'          # name of the file we want to open\n",
    "\n",
    "fp = open(title, 'r')       # 'open' is a command to open files \n",
    "                            # the 'r' means \"just read it, don't start writing your own things\"\n",
    "                            # fp is called a \"file pointer\" - its the computer equivalent of \n",
    "                            # \"where is the book? oh, here it is, still open, in my hands\"\n",
    "\n",
    "ln = fp.readline()          # read the first line of the book - \"readline\" is a method of a file pointer\n",
    "                            # ln is a \"string\" variable - the variable \"title\" above is a string as well\n",
    "    \n",
    "print(ln)                   # reads the line \"out loud\" (prints it to the screen)\n",
    "\n",
    "ln2 = fp.readline()         # read the next line, assign it to a different variable\n",
    "\n",
    "print(ln2)                  # read the second line \"out loud\"\n",
    "\n",
    "fp.close()                  # all done, make sure to close the book \n",
    "                            # (what kind of savage leaves a book lying around open...) "
   ]
  },
  {
   "cell_type": "markdown",
   "metadata": {},
   "source": [
    "### Modify to: Read another book"
   ]
  },
  {
   "cell_type": "markdown",
   "metadata": {},
   "source": [
    "Not too bad, right? You could do that, right?\n",
    "\n",
    "Okay, have a go changing the code below. Read a different book. And read the first three lines."
   ]
  },
  {
   "cell_type": "code",
   "execution_count": null,
   "metadata": {},
   "outputs": [],
   "source": [
    "title = 'book.txt'           # <- change this to a different book (the file 'different_book.txt')\n",
    "fp = open(title, 'r')\n",
    "ln = fp.readline()   \n",
    "print(ln)            \n",
    "ln2 = fp.readline()          # <- copy-paste this line and the one below to read three lines\n",
    "print(ln2)     \n",
    "fp.close()           "
   ]
  },
  {
   "cell_type": "markdown",
   "metadata": {},
   "source": [
    "***What happens if you try to read six lines? Why?***"
   ]
  },
  {
   "cell_type": "markdown",
   "metadata": {},
   "source": [
    "### DIY: Read your favourite book, its in the cupboard"
   ]
  },
  {
   "cell_type": "markdown",
   "metadata": {},
   "source": [
    "When you're comfortable with the two tasks above, try writing your own commands below to read one last book.\n",
    "\n",
    "It's in a subdirectory called 'cupboard' so you will need to use a file path separator (a '/' on Mac/Linux or '\\\\\\\\' on Windows)."
   ]
  },
  {
   "cell_type": "code",
   "execution_count": null,
   "metadata": {},
   "outputs": [],
   "source": [
    "# write your code in here\n",
    "# for extra credit, write your commands so that they will read ALL of the lines from 'favourite_book.txt'\n",
    "# without knowing ahead of time how many there are\n",
    "\n",
    "# hint - you can use either a while loop OR research the method 'fp.readlines()'"
   ]
  },
  {
   "cell_type": "markdown",
   "metadata": {},
   "source": [
    "## 1.2 Moving your book from point A to point B"
   ]
  },
  {
   "cell_type": "markdown",
   "metadata": {},
   "source": [
    "When you're working with thousands of files, it is important to organise them in a coherent structure - don't rely on your brain to remember where everything is!\n",
    "\n",
    "Python can assist with this organisation by copying, moving, renaming and deleting files"
   ]
  },
  {
   "cell_type": "markdown",
   "metadata": {},
   "source": [
    "### Demo: Light copyright violation"
   ]
  },
  {
   "cell_type": "markdown",
   "metadata": {},
   "source": [
    "We can create an exact duplicate of an existing file by using the `copyfile` command. It comes as part of the `shutil` Python module.\n",
    "\n",
    "***Execute the cell below and verify that a new file has been created, with the same contents.***"
   ]
  },
  {
   "cell_type": "code",
   "execution_count": null,
   "metadata": {},
   "outputs": [],
   "source": [
    "import shutil                           # 'shutil' is a Python module - a collection of commands for a particular purpose,\n",
    "                                        # in this case, high-level file operations. 'import' makes these commands available\n",
    "\n",
    "paper = 'knopoff_gardner1974.txt'       # name of the file we wish to copy\n",
    "\n",
    "paper2 = 'knopoff_gardner1974_v2.txt'   # name of the new copy we will create\n",
    "\n",
    "shutil.copyfile(paper, paper2)          # copy the file FROM paper TO paper2\n",
    "\n",
    "import os\n",
    "os.listdir('.')                         # print the contents of the current directory"
   ]
  },
  {
   "cell_type": "markdown",
   "metadata": {},
   "source": [
    "Don't get caught stealing files - delete the copy!\n",
    "\n",
    "***Execute the cell below and verify that the file is gone.***"
   ]
  },
  {
   "cell_type": "code",
   "execution_count": null,
   "metadata": {},
   "outputs": [],
   "source": [
    "os.remove('knopoff_gardner1974_v2.txt') # the 'remove' function deletes a file\n",
    "                                        # use 'shutil.rmdir' to delete a folder and all its contents (be careful!)\n",
    "\n",
    "os.listdir('.')                         # print the directory contents again"
   ]
  },
  {
   "cell_type": "markdown",
   "metadata": {},
   "source": [
    "***If you run the cell above twice in a row, it produces an error. Why?***"
   ]
  },
  {
   "cell_type": "markdown",
   "metadata": {},
   "source": [
    "### Modify to: Flagrant theft"
   ]
  },
  {
   "cell_type": "markdown",
   "metadata": {},
   "source": [
    "Once you understand how copying a file works, try *moving* it instead. You will need to use `shutil.move`. Can't figure out how to do it? Grab the top link [here](http://lmgtfy.com/?q=python+move+file)."
   ]
  },
  {
   "cell_type": "code",
   "execution_count": null,
   "metadata": {},
   "outputs": [],
   "source": [
    "import shutil                           # (you only have to import this module once, so technically this line redundant)\n",
    "\n",
    "paper = 'knopoff_gardner1974.txt'       # name of the original file\n",
    "\n",
    "paper2 = 'knopoff_gardner1974.txt'      # <- this should be the same file name but modified to include a subdirectory \n",
    "                                        # <- (put the file in 'cupboard')\n",
    "\n",
    "shutil.copyfile(paper, paper2)          # <- change this to shutil.move\n",
    "\n",
    "import os\n",
    "os.listdir('.')                         # print the contents of the current directory\n",
    "os.listdir('cupboard')                  # print the contents of cupboard"
   ]
  },
  {
   "cell_type": "markdown",
   "metadata": {},
   "source": [
    "***\"Uh oh, I lost/deleted the original file `knopoff_gardner1974.txt`\"***\n",
    "\n",
    "*There is a backup copy: *\\**.bkp*"
   ]
  },
  {
   "cell_type": "markdown",
   "metadata": {},
   "source": [
    "***Notes on StackOverflow***\n",
    "\n",
    "This is a wonderful resource for learning Python, particularly when combined with some sharp Google keyword searching. The quality of this resource is due to the very large online community of Python helpers and their nifty upvote system that ensures the best answer rises to the top.\n",
    "\n",
    "I often copy code from a StackOverflow solution verbatim and then modify it to suit my needs. Of course, you should be careful with this approach and always make sure you understand what the code is doing."
   ]
  },
  {
   "cell_type": "markdown",
   "metadata": {},
   "source": [
    "### DIY: Outright plagiarism"
   ]
  },
  {
   "cell_type": "markdown",
   "metadata": {},
   "source": [
    "You can copy and move files. Last useful task is renaming (which is quite similar in concept to moving a file). Use `os.rename` to copy `knopoff_gardner1974.txt` to `your_surname2017.txt` and watch the citations role in."
   ]
  },
  {
   "cell_type": "code",
   "execution_count": null,
   "metadata": {},
   "outputs": [],
   "source": [
    "# your code here\n",
    "# for extra credit, read the contents of your new paper and print it to the screen"
   ]
  },
  {
   "cell_type": "markdown",
   "metadata": {},
   "source": [
    "## 1.3 Writing your own books"
   ]
  },
  {
   "cell_type": "markdown",
   "metadata": {},
   "source": [
    "You can create your own text files and fill them with:\n",
    "\n",
    "- text\n",
    "- numbers\n",
    "\n",
    "Sounds not that special right? It's actually super handy and the possibilities are endless. Let's dive in!"
   ]
  },
  {
   "cell_type": "markdown",
   "metadata": {},
   "source": [
    "### Demo: Creative writing 101"
   ]
  },
  {
   "cell_type": "markdown",
   "metadata": {},
   "source": [
    "The cell creates a new file, writes a few lines of text to it, then closes it. Verify that this file did not exist before you ran the cell and *does exist* after you have run it."
   ]
  },
  {
   "cell_type": "code",
   "execution_count": null,
   "metadata": {},
   "outputs": [],
   "source": [
    "fp = open('my_first_novel.txt','w')                # open a file - the 'w' means \"you can write stuff to this file\"\n",
    "                                                   # if the file does not exist, it will be created\n",
    "                                                   # if the file DOES exist, it will be OVERWRITTEN (so, be careful)\n",
    "\n",
    "fp.write('Python Odyssey')                         # write a line of text\n",
    "fp.write('\\n')                                     # write a special character that says \"go to the next line\"\n",
    "fp.write('\\t by David Dempsey')                    # write another line of text\n",
    "\n",
    "fp.close()                                         # close the file"
   ]
  },
  {
   "cell_type": "markdown",
   "metadata": {},
   "source": [
    "***What happens when you comment the line `fp.write('\\n')` and run the cell? Therefore, what is the function of this line?***\n",
    "\n",
    "***What does the escaped character `\\t` do? (try removing it and see what happens)***"
   ]
  },
  {
   "cell_type": "markdown",
   "metadata": {},
   "source": [
    "### Decipher: Marking someone else's work is not wildly fun"
   ]
  },
  {
   "cell_type": "markdown",
   "metadata": {},
   "source": [
    "The code below creates a new file in the subdirectory `cupboard` and then uses `format` to write numbers to it."
   ]
  },
  {
   "cell_type": "code",
   "execution_count": null,
   "metadata": {},
   "outputs": [],
   "source": [
    "import numpy as np                                # this module does a bunch of handy numerical stuff - more later! \n",
    "\n",
    "fp = open('cupboard'+os.sep+'my_first_sequel.txt','w')     # *your comment*\n",
    "\n",
    "fp.write('{}\\n'.format('a line of text'))                  # *your comment*\n",
    "\n",
    "fp.write('{}: {:d}\\n'.format('an integer', 10))            # *your comment*\n",
    "\n",
    "fp.write('{}: {:3.2f} {:8.7e}\\n'.format('the same float, two ways', np.pi, np.pi))          # *your comment*\n",
    "\n",
    "fp.close()"
   ]
  },
  {
   "cell_type": "markdown",
   "metadata": {},
   "source": [
    "***What do the following commands do in the cell above? (one way to figure it out is by removing them and rerunning the cell)***\n",
    "\n",
    "- `os.sep`\n",
    "- `'{}\\n'.format`\n",
    "- `{:d}`\n",
    "- `{:3.2f}`\n",
    "- `{:8.7e}`\n",
    "- `np.pi`\n",
    "\n",
    "***Change some of the numbers above and confirm corresponding changes in the file.***\n",
    "\n",
    "***Change `:d` to `:04d` - what happens?***\n",
    "\n",
    "***Change `:3.2f` to `:6.4f` - what happens?***"
   ]
  },
  {
   "cell_type": "markdown",
   "metadata": {},
   "source": [
    "### DIY: Data fabrication 101"
   ]
  },
  {
   "cell_type": "markdown",
   "metadata": {},
   "source": [
    "The for loop below generates data that **looks like** a physical process.\n",
    "\n",
    "***What is a \"for loop\"?***\n",
    "\n",
    "An essential computing structure that basically automates completion of a similar task over and over and over again."
   ]
  },
  {
   "cell_type": "code",
   "execution_count": null,
   "metadata": {},
   "outputs": [],
   "source": [
    "# a function to represent the physical process\n",
    "def physical_process(time):\n",
    "    return 2*time**2 + 1             # * = multiply, ** = \"to the power of\"\n",
    "\n",
    "ts = np.linspace(0,10,11)            # a vector of times, starting at 0, ending at 10, eleven values in total\n",
    "print(ts)                            # print out the vector\n",
    "\n",
    "for t in ts:                         # for each value in the vector time (temporarily assigned to the variable t)\n",
    "    x = physical_process(t)          # get the physical process value by using the function above\n",
    "    x = x + (np.random.rand()-0.5)*10      # add on some measurement noise (a random number between -5 and 5)\n",
    "    print(x)                         # print out the \"data\"\n",
    "\n",
    "# your code here\n",
    "# (hint: the loop above 'deletes' the value of x each time it comes around - how can you save it? write it out?)"
   ]
  },
  {
   "cell_type": "markdown",
   "metadata": {},
   "source": [
    "***Save the \"data\" above to a text file called \"legit_data.txt\". Save in CSV format (comma separated values) where the first line is a \"header\" that tells what is in the columns below.***"
   ]
  },
  {
   "cell_type": "markdown",
   "metadata": {},
   "source": [
    "## 1.4 Tidying your room"
   ]
  },
  {
   "cell_type": "markdown",
   "metadata": {},
   "source": [
    "I use Python to organise my life (and by \"my life\" I mean the files on my computer, which are my life so...)\n",
    "\n",
    "It might seem trivial, but directory management (creation and deletion of folders) is central to automating the organisation of your data."
   ]
  },
  {
   "cell_type": "markdown",
   "metadata": {},
   "source": [
    "### Demo: Because your Mum told you to"
   ]
  },
  {
   "cell_type": "markdown",
   "metadata": {},
   "source": [
    "The code below does several things:\n",
    "\n",
    "- it creates a new folder\n",
    "- it moves several files into the new folder\n",
    "\n",
    "It also makes use of the \"if\" statement to control what is happening in the code.\n",
    "\n",
    "**What is an \"if\" statement?***\n",
    "\n",
    "Sometimes you want your computer code to exhibit a little common sense. Like only perform a task ***if*** it hasn't already been done. Only delete a file ***if*** it happens to be in an off-limits location."
   ]
  },
  {
   "cell_type": "code",
   "execution_count": null,
   "metadata": {},
   "outputs": [],
   "source": [
    "# create a folder\n",
    "if not os.path.isdir('pile_of_books'):                    # check if there is a directory called \"pile_of_books\"\n",
    "    os.makedirs('pile_of_books')                          # if not - make that directory\n",
    "\n",
    "# move a file\n",
    "if os.path.isfile('book1.txt'):                           # check if a file called 'book1.txt' exists\n",
    "    shutil.move('book1.txt', 'pile_of_books'+os.sep+'book1.txt')   # if it does - move it to the new directory\n",
    "\n",
    "# move another file\n",
    "flname = 'book2.txt'                                      # same as above, only now the book title is stored as a string\n",
    "if os.path.isfile(flname):                                # in the variable 'flname'\n",
    "    shutil.move(flname, 'pile_of_books'+os.sep+flname)"
   ]
  },
  {
   "cell_type": "markdown",
   "metadata": {},
   "source": [
    "***Run the cell below to undo the changes above.*** "
   ]
  },
  {
   "cell_type": "code",
   "execution_count": null,
   "metadata": {},
   "outputs": [],
   "source": [
    "if os.path.isfile('pile_of_books'+os.sep+'book1.txt'):                # *your comment here*\n",
    "    shutil.move('pile_of_books'+os.sep+'book1.txt','book1.txt')       # *your comment here*\n",
    "    \n",
    "flname = 'book2.txt'                                                  # *your comment here*\n",
    "if os.path.isfile('pile_of_books'+os.sep+flname):                     # *your comment here*\n",
    "    shutil.move('pile_of_books'+os.sep+flname,flname)                 # *your comment here*\n",
    "\n",
    "if os.path.isdir('pile_of_books'):                                    # *your comment here*\n",
    "    os.rmdir('pile_of_books')                                         # *your comment here*"
   ]
  },
  {
   "cell_type": "markdown",
   "metadata": {},
   "source": [
    "How does that work? Complete the comments above."
   ]
  },
  {
   "cell_type": "markdown",
   "metadata": {},
   "source": [
    "### Modify to: Because you're an adult and adults have tidy rooms"
   ]
  },
  {
   "cell_type": "markdown",
   "metadata": {},
   "source": [
    "What if you want to copy all the files ending in `.txt` to a special folder, but you don't know how many there are (if any) or their names?\n",
    "\n",
    "Glob is a wonderful little tool that makes use of **wildcards** to catch all files conforming to a particular name pattern. For example, `*.txt` will grab all files endings in `.txt`, where as `*data*.pdf` will grab all pdf files containing the word `data` anywhere in their name."
   ]
  },
  {
   "cell_type": "code",
   "execution_count": null,
   "metadata": {},
   "outputs": [],
   "source": [
    "from glob import glob\n",
    "\n",
    "if not os.path.isdir('txt_files'):\n",
    "    os.rmdir('txt_files')\n",
    "    \n",
    "fls = glob('*.txt')\n",
    "for fl in fls:\n",
    "    shutil.copyfile(fl, 'txt_files'+os.sep+fl)\n",
    "    \n",
    "# what does this code do?\n",
    "# modify it so that a new subdirectory 'book_files' is created - copy into it files containing the word 'book' in their title"
   ]
  },
  {
   "cell_type": "markdown",
   "metadata": {},
   "source": [
    "### Decipher: Professional room-tidying consultant (it's a thing, look it up)"
   ]
  },
  {
   "cell_type": "markdown",
   "metadata": {},
   "source": [
    "Sometimes the data files are all bundled together in a single zipped archive. How to get them out? Or, how to read files while they're in there?\n",
    "\n",
    "The code below is complete - execute it and try to determine which lines are achieving which outcomes (i.e., add your own comments)."
   ]
  },
  {
   "cell_type": "code",
   "execution_count": null,
   "metadata": {},
   "outputs": [],
   "source": [
    "from zipfile import ZipFile\n",
    "\n",
    "zfl = ZipFile('archive.zip')\n",
    "print(zfl.namelist())\n",
    "fp = zfl.open(zfl.namelist()[0])\n",
    "ln = fp.readline()\n",
    "print(ln)\n",
    "zfl.extract(zfl.namelist()[1])\n",
    "fp = open(zfl.namelist()[1])\n",
    "ln = fp.readline()\n",
    "print(ln)\n",
    "fp.close()\n",
    "\n",
    "zfl.close()"
   ]
  },
  {
   "cell_type": "markdown",
   "metadata": {},
   "source": [
    "***Which line(s)...***\n",
    "\n",
    "- opens the zip file\n",
    "- gets a list of the files contained in the zip file\n",
    "- opens and reads text from the first file\n",
    "- extracts the second file"
   ]
  },
  {
   "cell_type": "markdown",
   "metadata": {},
   "source": [
    "## 1.5 The lastest E-readers"
   ]
  },
  {
   "cell_type": "markdown",
   "metadata": {},
   "source": [
    "Opening files and reading data from them line by line is a little cumbersome. Fortunately, Python packages some handy tools to automate this process for some common files types. We will look at two: comma-separated value (CSV, this format was touched on above), and Excel spreadsheet (this format can be opened by Pandas)."
   ]
  },
  {
   "cell_type": "markdown",
   "metadata": {},
   "source": [
    "### 1.5.1 Demo: Kindle 1.0"
   ]
  },
  {
   "cell_type": "markdown",
   "metadata": {},
   "source": [
    "I use the function `genfromtxt` *a lot*. It's great for data in simple formats sitting in text files. The example below reads comma separated values from the file `temperature_data.csv` and prints it to the screen."
   ]
  },
  {
   "cell_type": "code",
   "execution_count": null,
   "metadata": {},
   "outputs": [],
   "source": [
    "# read the data\n",
    "data = np.genfromtxt('temperature_data.csv', delimiter = ',', skip_header = 1)\n",
    "     # the first input is the name of the text file\n",
    "     # the second input says \"columns of data are separated by a comma\"\n",
    "     # the third input says \"ignore the first row, it is just information about the columns, not actually data\"\n",
    "\n",
    "print(data)\n",
    "\n",
    "# read the data again, but separate the columns into separate variables\n",
    "z,T = np.genfromtxt('temperature_data.csv', delimiter = ',', skip_header = 1, unpack=True)\n",
    "     # the first three inputs are the same as above\n",
    "     # the fourth input transposes the output matrix so that Python can unpack it to separate variables\n",
    "print(z)\n",
    "print(T)"
   ]
  },
  {
   "cell_type": "markdown",
   "metadata": {},
   "source": [
    "***Verify for yourself that the numbers Python is printing out here match up with those contained in the file `temperature_data.csv`*** "
   ]
  },
  {
   "cell_type": "markdown",
   "metadata": {},
   "source": [
    "### 1.5.2 For experts 1 - download from the web"
   ]
  },
  {
   "cell_type": "markdown",
   "metadata": {},
   "source": [
    "Often data are being constantly updated and posted to the web by government agencies. Instead of manually downloading these data, we can write a few lines of code to pull them down. The example below captures induced earthquakes recorded by KNMI in the Netherlands.\n",
    "\n",
    "First, grab the data and save it as a `.txt` file."
   ]
  },
  {
   "cell_type": "code",
   "execution_count": null,
   "metadata": {},
   "outputs": [],
   "source": [
    "import urllib.request                       # the module we'll need\n",
    "import shutil\n",
    "url = 'http://cdn.knmi.nl/knmi/map/page/seismologie/all_induced.csv'        # the url where the data is located (look it up!)\n",
    "file_name = 'nd_eqs.txt'                                                    # name of the file to save the data into\n",
    "with urllib.request.urlopen(url) as response, open(file_name, 'wb') as out_file: # not super important you understand this line\n",
    "    shutil.copyfileobj(response, out_file)               # pull down and save the data"
   ]
  },
  {
   "cell_type": "markdown",
   "metadata": {},
   "source": [
    "Verify for yourself that the text file created - `nd_eqs.txt` - matches up with the data at the url http://cdn.knmi.nl/knmi/map/page/seismologie/all_induced.csv"
   ]
  },
  {
   "cell_type": "markdown",
   "metadata": {},
   "source": [
    "### For experts 2 - Pandas"
   ]
  },
  {
   "cell_type": "markdown",
   "metadata": {},
   "source": [
    "Pandas is a popular package for interacting with *time series data*. Rather than demonstrating it myself, I'll instead direct you to Nikolay Koldunov's excellent [Python for Geosciences](http://earthpy.org/tag/python-for-geosciences.html) course, which I have included in the zip file for this course.  \n",
    "\n",
    "In particular, look at this [notebook](../koldunovn/python_for_geosciences-master/06%20-%20Time%20series%20analysis%20&#40;Pandas&#41;.ipynb)."
   ]
  },
  {
   "cell_type": "markdown",
   "metadata": {
    "heading_collapsed": true
   },
   "source": [
    "# What now?"
   ]
  },
  {
   "cell_type": "markdown",
   "metadata": {
    "hidden": true
   },
   "source": [
    "That's a crash course in automating some of the more mundane file system tasks you'd otherwise have to do by hand.\n",
    "\n",
    "Time to get onto the more exciting stuff - making sparkly pictures of your data!\n",
    "\n",
    "**Open the [Visualisation](../module 2 - visualisation/Visualisation.ipynb) notebook in the module 2 folder.** "
   ]
  }
 ],
 "metadata": {
  "kernelspec": {
   "display_name": "Python 3",
   "language": "python",
   "name": "python3"
  },
  "language_info": {
   "codemirror_mode": {
    "name": "ipython",
    "version": 3
   },
   "file_extension": ".py",
   "mimetype": "text/x-python",
   "name": "python",
   "nbconvert_exporter": "python",
   "pygments_lexer": "ipython3",
   "version": "3.6.0"
  }
 },
 "nbformat": 4,
 "nbformat_minor": 2
}
