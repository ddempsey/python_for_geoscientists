{
 "cells": [
  {
   "cell_type": "markdown",
   "metadata": {},
   "source": [
    "# 2 Visualising your data"
   ]
  },
  {
   "cell_type": "markdown",
   "metadata": {},
   "source": [
    "Scientific undertakings are rather pointless if your findings are not communicated to someone else (a colleague, the scientific community, the public, etc.)\n",
    "\n",
    "The gold standard of scientific communication is the ***figure*** - a presentation of your findings in pictorial form that maximizes reader comprehension of your ideas. \n",
    "\n",
    "In this notebook, we will consider a range of Python visualisations, from simple line plots, to complex dynamic figures. I will attempt (and fail) to be exhaustive, as I hope this notebook can serve as a sort of reference when you come to do your own figures (*\"what was the command for a scatter plot again?\"*)\n",
    "\n",
    "\"***Why have you tried to cram so much into this notebook?***\"\n",
    "\n",
    "*Think about learning Python as like learning a new language. Once you have complete mastery of the vocabulary (and the rules for using it) you have total flexibility in how you express yourself... BUT you have to **know** a word exists before you can **use** it. *\n",
    "\n",
    "*Python is similar - you have total control over all aspects of plotting, but first you need to know the commands that do the different things. Hence, my attempt to be exhaustive here.*"
   ]
  },
  {
   "cell_type": "markdown",
   "metadata": {},
   "source": [
    "## 2.1D (line plots, histograms, subplots)\n"
   ]
  },
  {
   "cell_type": "markdown",
   "metadata": {},
   "source": [
    "The workhorse of Python plotting is the [matplotlib](https://matplotlib.org/index.html) module (a particularly good reference is the [gallery](https://matplotlib.org/gallery.html) - choose your plot type by **thumbnail** sample and click to get the **source code**).\n",
    "\n",
    "We can make Python plots **display** in the notebook by calling a special IPython [magic](http://ipython.readthedocs.io/en/stable/interactive/python-ipython-diff.html?highlight=magics#magics) function."
   ]
  },
  {
   "cell_type": "code",
   "execution_count": null,
   "metadata": {},
   "outputs": [],
   "source": [
    "%matplotlib inline"
   ]
  },
  {
   "cell_type": "markdown",
   "metadata": {},
   "source": [
    "### 2.1.1 The basics"
   ]
  },
  {
   "cell_type": "markdown",
   "metadata": {},
   "source": [
    "Now, let's **import** the matplotlib module and create an **empty figure and axes**."
   ]
  },
  {
   "cell_type": "code",
   "execution_count": null,
   "metadata": {},
   "outputs": [],
   "source": [
    "from matplotlib import pyplot as plt      \n",
    "f,ax = plt.subplots(1,1)                  # creates a 'matrix' of subplots, in this case, 1 row and 1 column\n",
    "\n",
    "# CHANGE THIS PLOT to create two subplots, one on top of the other"
   ]
  },
  {
   "cell_type": "markdown",
   "metadata": {},
   "source": [
    "The `subplots` function returns two outputs: a 'figure' object, which we have assigned to the variable `f` and a set of 'axes' objects (in this case, just one), which we have assigned to the variable `ax`.\n",
    "\n",
    "By default, both axes plot from 0 to 1, although this will be automatically adjusted as we add lines, points, data, etc."
   ]
  },
  {
   "cell_type": "markdown",
   "metadata": {},
   "source": [
    "We can **resize** the figure and **save a copy** of it to the file system."
   ]
  },
  {
   "cell_type": "code",
   "execution_count": null,
   "metadata": {},
   "outputs": [],
   "source": [
    "f,ax = plt.subplots(1,1)                           # 1 row of subplots, 1 column of subplots\n",
    "f.set_size_inches(3,8)                             # 3 inches wide, 8 inches high\n",
    "plt.savefig('my_empty_figure.png', dpi = 300)      # dpi is the resolution, 300 is good for many applications\n",
    "\n",
    "# CHANGE THIS PLOT so that the figure is short and wide "
   ]
  },
  {
   "cell_type": "markdown",
   "metadata": {},
   "source": [
    "***Verify that the file `my_empty_figure.png` has been created and corresponds to the awkwardly tall axis above.***\n",
    "\n",
    "***Modify the code above to produce two SQUARE subplots, side-by-side.*** You will need to modify BOTH the lines `f,ax = plt.subplots(1,1)` and `f.set_size_inches(3,8)`."
   ]
  },
  {
   "cell_type": "markdown",
   "metadata": {},
   "source": [
    "### 2.1.2 Line plots"
   ]
  },
  {
   "cell_type": "markdown",
   "metadata": {},
   "source": [
    "Let's make some simple line plots."
   ]
  },
  {
   "cell_type": "code",
   "execution_count": null,
   "metadata": {},
   "outputs": [],
   "source": [
    "import numpy as np \n",
    "f,ax = plt.subplots(1,1)\n",
    "x = np.linspace(0, 2*np.pi, 21)                   # this function creates an array of 21 evenly spaced points, between 0 and\n",
    "                                                  # 2*pi\n",
    "y = np.sin(x)                                     # generate some y data to plot against x\n",
    "ax.plot(x,y)                                      # the 'plot' command is actually a 'method' called on the 'ax' object \n",
    "\n",
    "# CHANGE THIS PLOT to plot y = x + 1"
   ]
  },
  {
   "cell_type": "markdown",
   "metadata": {},
   "source": [
    "Want to change the ***color*** of the line?"
   ]
  },
  {
   "cell_type": "code",
   "execution_count": null,
   "metadata": {},
   "outputs": [],
   "source": [
    "f,ax = plt.subplots(1,1)\n",
    "ax.plot(x,y,'r')                                 # r = red, k = black, b = blue, g = green, c = cyan, m = magenta, y = ??  \n",
    "\n",
    "# CHANGE THIS PLOT to plot a green line"
   ]
  },
  {
   "cell_type": "markdown",
   "metadata": {},
   "source": [
    "Want to change the ***style*** of the line? And add a marker?"
   ]
  },
  {
   "cell_type": "code",
   "execution_count": null,
   "metadata": {},
   "outputs": [],
   "source": [
    "f,ax = plt.subplots(1,1)\n",
    "ax.plot(x,y,'r--s')                             # -- = dashed, : = dotted, -. = dash-dot, - = solid\n",
    "                                                # s = square, ^ = up triangle, o = circle, . = dot, * = star, p = pentagon\n",
    "# CHANGE THIS PLOT to plot a blue dotted line with circle markers"
   ]
  },
  {
   "cell_type": "markdown",
   "metadata": {},
   "source": [
    "*\"That plot: 3/10. It doesn't have axes labels or a title.\"*"
   ]
  },
  {
   "cell_type": "code",
   "execution_count": null,
   "metadata": {},
   "outputs": [],
   "source": [
    "f,ax = plt.subplots(1,1)\n",
    "ax.plot(x,y,'r--s')  \n",
    "\n",
    "ax.set_xlabel('x')                                # add a basic label to the x-axis\n",
    "ax.set_ylabel('y = sin(x)', size = 12)            # add a large label to the y-axis\n",
    "ax.set_title('plotting $sin(x)$', size = 14)      # add a title using LaTeX math mode\n",
    "\n",
    "# CHANGE THIS PLOT so that:\n",
    "# - the xlabel reads \"time / years\"\n",
    "# - the ylabel reads \"temperature / degC\"\n",
    "# - the title reads \"oceanic thermal deviation\" "
   ]
  },
  {
   "cell_type": "markdown",
   "metadata": {},
   "source": [
    "*\"6/10, the plot shouldn't exceed the limits of x axis, it's unseemly.\"*"
   ]
  },
  {
   "cell_type": "code",
   "execution_count": null,
   "metadata": {},
   "outputs": [],
   "source": [
    "f,ax = plt.subplots(1,1)\n",
    "ax.plot(x,y,'r--s')      \n",
    "ax.set_xlabel('x')                                \n",
    "ax.set_ylabel('y = sin(x)', size = 12)            \n",
    "ax.set_title('plotting $sin(x)$', size = 14)      \n",
    "\n",
    "# set plot limits in x direction to '0' on the left and 'the last element of the array x' on the right\n",
    "ax.set_xlim([0, x[-1]])      \n",
    "\n",
    "# CHANGE THIS PLOT so that the ylimits are set to -0.5 and 1.5"
   ]
  },
  {
   "cell_type": "markdown",
   "metadata": {},
   "source": [
    "*\"8/10 - I'd like a legend and a text annotation for the subplot.\"* \n",
    "\n",
    "Of course!"
   ]
  },
  {
   "cell_type": "code",
   "execution_count": null,
   "metadata": {},
   "outputs": [],
   "source": [
    "f,ax = plt.subplots(1,1)\n",
    "ax.plot(x,y,'r--s', label = 'some data')                # add a label when you call the plot command      \n",
    "ax.set_xlabel('x')                                \n",
    "ax.set_ylabel('y = sin(x)', size = 12)            \n",
    "ax.set_title('plotting $sin(x)$', size = 14)      \n",
    "ax.set_xlim([0, x[-1]])     \n",
    "\n",
    "# add a legend\n",
    "ax.legend(loc = 1)                                     # 1 = top right, 2 = top left, 0 = default, etc ...\n",
    "# add a text annotation in the bottom left (this is great when you're doing subfigures)\n",
    "ax.text(0.05, 0.05, \"A\", ha = 'left', va = 'bottom', transform=ax.transAxes, size = 15)\n",
    "\n",
    "# CHANGE THIS PLOT so that:\n",
    "# - the legend label reads \"model 1\"\n",
    "# - the legend appears in the bottom righthand corner\n",
    "# - the text annotation is in the top lefthand corner and reads 'I' "
   ]
  },
  {
   "cell_type": "markdown",
   "metadata": {},
   "source": [
    "*\"9/10 - Can you put more data on there? And another subplot?\"*"
   ]
  },
  {
   "cell_type": "code",
   "execution_count": null,
   "metadata": {},
   "outputs": [],
   "source": [
    "# we'll add a second subplot (1 row, 2 columns) and 'unpack' the axes as 'ax1' and 'ax2'\n",
    "f,(ax1,ax2) = plt.subplots(1,2)                    \n",
    "f.set_size_inches(10,4)\n",
    "ax1.plot(x,y,'r--s', label = 'some data')                    \n",
    "ax1.plot(x, 1.5*y-0.5,'g:p', label = 'transformed data')       # transform and plot the data on the first axis    \n",
    "\n",
    "ax2.plot(2*x, -y, 'k-')       # plot a different transformation on the second axis\n",
    "\n",
    "# let's set the labels for all axes simultaneously using a FOR loop\n",
    "for ax in [ax1,ax2]:\n",
    "    ax.set_xlabel('x')                                \n",
    "    ax.set_ylabel('y', size = 12)            \n",
    "\n",
    "# add a legend for the first axis \n",
    "ax1.legend(loc = 1)       \n",
    "# add a text annotation in the two plots\n",
    "ax1.text(0.05, 0.05, \"A\", ha = 'left', va = 'bottom', transform=ax1.transAxes, size = 15)\n",
    "ax2.text(0.05, 0.05, \"B\", ha = 'left', va = 'bottom', transform=ax2.transAxes, size = 15)\n",
    "\n",
    "# CHANGE THIS PLOT so that:\n",
    "# - the 2nd axis plots the line y = cos(x)\n",
    "# - the 2nd axis has a legend, your choice of labels for the two lines"
   ]
  },
  {
   "cell_type": "markdown",
   "metadata": {},
   "source": [
    "***10/10***\n",
    "\n",
    "As you can see, plotting commands are additive and, depending on the complexity of your figure, will rapidly compound into a quite sizeable Python script.\n",
    "\n",
    "(*This code also implemented in script: [module 2 - visualisation/line_plot.py](line_plot.py) - try running it at the command line* `ipython line_plot.py`)"
   ]
  },
  {
   "cell_type": "markdown",
   "metadata": {},
   "source": [
    "### DIY: write commands to replicate the plot below"
   ]
  },
  {
   "cell_type": "markdown",
   "metadata": {},
   "source": [
    "<img src=\"img/example1.png\" alt=\"Drawing\" style=\"width: 280px;\"/>"
   ]
  },
  {
   "cell_type": "code",
   "execution_count": null,
   "metadata": {},
   "outputs": [],
   "source": [
    "# ** your Python commands here **"
   ]
  },
  {
   "cell_type": "markdown",
   "metadata": {},
   "source": [
    "### 2.1.3 Histograms"
   ]
  },
  {
   "cell_type": "markdown",
   "metadata": {},
   "source": [
    "These are an okay way to present the **'frequency'** of binned values within a dataset. \n",
    "\n",
    "First, let's generate some **random** 'data'."
   ]
  },
  {
   "cell_type": "code",
   "execution_count": null,
   "metadata": {},
   "outputs": [],
   "source": [
    "N = 100                       # number of data points to create\n",
    "obs = np.random.randn(N)      # generate normally distributed data\n",
    "mean, std = [2.5, 0.3]        # mean and standard deviation to transform the data\n",
    "obs = obs*std + mean          # transform the data\n",
    "print(obs)"
   ]
  },
  {
   "cell_type": "markdown",
   "metadata": {},
   "source": [
    "Before we plot a histogram, let's look at some useful functions for ***summarising*** the data."
   ]
  },
  {
   "cell_type": "code",
   "execution_count": null,
   "metadata": {},
   "outputs": [],
   "source": [
    "# the basics\n",
    "print('min =', np.min(obs))\n",
    "print('max =', np.max(obs))\n",
    "print('mean =', np.mean(obs))\n",
    "print('std =', np.std(obs))\n",
    "\n",
    "# more fancy\n",
    "print('LQ =', np.percentile(obs,25))\n",
    "print('median =', np.percentile(obs,50))\n",
    "print('UQ =', np.percentile(obs,75))\n",
    "print('count = ', len(obs))\n",
    "print('sum =', np.sum(obs))"
   ]
  },
  {
   "cell_type": "markdown",
   "metadata": {},
   "source": [
    "Let's plot a **histogram**: there are two steps and some **decision-making**.\n",
    "\n",
    "1. Place the data into **bins**. This requires an **expert decision** on how many bins to use (rule-of-thumb, for $N$ data, use $\\sqrt{N}/2$ bins)\n",
    "2. Plot the histogram using the `bar` method."
   ]
  },
  {
   "cell_type": "code",
   "execution_count": null,
   "metadata": {},
   "outputs": [],
   "source": [
    "# create the \"bin\" as a vector of evenly spaced points\n",
    "Nbins = 8                                                         # alternatively, Nbins = int(np.sqrt(N)/2)\n",
    "bin_edges = np.linspace(np.min(obs), np.max(obs), Nbins+1)        # create the bins, a vector of bin edges\n",
    "h,e = np.histogram(obs, bin_edges)                                # sort the data into their bins\n",
    "print(e)                                                          # bin edges\n",
    "print(h)                                                          # bin heights\n",
    "\n",
    "# create the histogram\n",
    "f,ax = plt.subplots(1,1)\n",
    "ax.bar(left = e[:-1], height = h, width = e[1]-e[0], color = [0, 0.5, 0], edgecolor = 'k')\n",
    "# Above, I have specified the bar 'color' as an [r g b] vector - this gives more flexibility in the type of colors that can\n",
    "# be used. Experiment with changing the three values (make sure your values are between 0 and 1 though!)\n",
    "\n",
    "# CHANGE THIS PLOT so that:\n",
    "# - there are 20 bins\n",
    "# - there are 1000 data points"
   ]
  },
  {
   "cell_type": "markdown",
   "metadata": {},
   "source": [
    "***Is the shape of the plot as you expect? Why is it not perfectly normally distributed?***\n",
    "\n",
    "***What happens as you increase the number of bins up or down? Describe the trade-offs.***\n",
    "\n",
    "(*This code also implemented in script: [module 2 - visualisation/histogram.py](histogram.py) - try running it at the command line* `ipython histogram.py`)"
   ]
  },
  {
   "cell_type": "markdown",
   "metadata": {},
   "source": [
    "## 2.2D (scatter plots, contour plots, colour maps, cartopy, KDE, images)"
   ]
  },
  {
   "cell_type": "markdown",
   "metadata": {},
   "source": [
    "Much of what we covered in the previous section - axis labels, legends, line styles - applies to the plots in this section. For brevity though, I won't include these commands."
   ]
  },
  {
   "cell_type": "markdown",
   "metadata": {},
   "source": [
    "### 2.2.1 Scatter plots"
   ]
  },
  {
   "cell_type": "markdown",
   "metadata": {},
   "source": [
    "This is a favourite of mine for plotting earthquake locations, because we can modify the **size** and **colour** of the marker to reflect earthquake magnitude and time.\n",
    "\n",
    "Let's have a look .\n",
    "\n",
    "***First, ensure you have executed the code below Cell 1.5.2 in the previous notebook - this will download some earthquake data***."
   ]
  },
  {
   "cell_type": "code",
   "execution_count": null,
   "metadata": {},
   "outputs": [],
   "source": [
    "# load the earthquake data downloaded previously\n",
    "data = np.genfromtxt('../module 1 - data/nd_eqs.txt', delimiter = ',', skip_header=1)\n",
    "\n",
    "# we will pick out four columns: date (col 1), lat (col 4), lon (col 5), magnitude (col 7)\n",
    "date = data[:,0]                # extract all the rows, first column\n",
    "lat = data[:,3]/180.*np.pi      # same, fourth column (coverted from degrees to radians)\n",
    "lon = data[:,4]/180.*np.pi      # etc\n",
    "mag = data[:,6]\n",
    "\n",
    "# convert lat-lon to approximate x-y\n",
    "r = 6371                        # radius of earth (km)\n",
    "lat_avg = np.mean(lat)\n",
    "x = r*lon*np.cos(lat_avg)\n",
    "y = r*lat"
   ]
  },
  {
   "cell_type": "markdown",
   "metadata": {},
   "source": [
    "Let's just do a really basic x-y scatter plot."
   ]
  },
  {
   "cell_type": "code",
   "execution_count": null,
   "metadata": {},
   "outputs": [],
   "source": [
    "f,ax = plt.subplots(1,1)                # this command should be familiar by now...\n",
    "ax.scatter(x,y)"
   ]
  },
  {
   "cell_type": "markdown",
   "metadata": {},
   "source": [
    "Looks like most of the events are clustered in a single region $410<x<470$ and $5800<y<5950$. Let's just focus on those events.\n",
    "\n",
    "To do that, we're going to need to **filter** our four data arrays - `date`, `x`, `y`, and `mag` - to retain *only events in the range we're interested in*."
   ]
  },
  {
   "cell_type": "code",
   "execution_count": null,
   "metadata": {},
   "outputs": [],
   "source": [
    "# use the 'where' function and conditions to find the data indices we're interested in \n",
    "    # (while we're at it, get rid of the events smaller than M 0)\n",
    "inds = np.where((435 < x) & (x < 475) & (5900 < y) & (y < 5950) & (mag > 0.0))      # & = 'and' but when comparing arrays\n",
    "\n",
    "# 'slice' the arrays to keep only the values satisfying the conditions above\n",
    "date = date[inds]\n",
    "x = x[inds]\n",
    "y = y[inds]\n",
    "mag = mag[inds]\n",
    "\n",
    "# plot the clipped data\n",
    "f,ax = plt.subplots(1,1)                \n",
    "f.set_size_inches(10,10)\n",
    "ax.scatter(x,y)\n",
    "ax.set_aspect('equal', adjustable='box')    # this command avoids weird stretching of the axes which distorts the data\n",
    "\n",
    "# CHANGE THIS PLOT so that only earthquakes larger than magnitude 1.0 are shown"
   ]
  },
  {
   "cell_type": "markdown",
   "metadata": {},
   "source": [
    "Let's now modify the **size** of the markers so that they reflect the magnitude of the earthquake."
   ]
  },
  {
   "cell_type": "code",
   "execution_count": null,
   "metadata": {},
   "outputs": [],
   "source": [
    "f,ax = plt.subplots(1,1)                \n",
    "f.set_size_inches(10,10)\n",
    "\n",
    "# convert magnitude to a size between 1 and 100 (largest event is a 100 point circle)\n",
    "    # first, rescale magnitudes to range between 0 and 1\n",
    "s = (mag - np.min(mag))/(np.max(mag) - np.min(mag))\n",
    "    # second, rescale to range between 1 and 100 (this will be the size of the marker)\n",
    "s = s*(100-2)+1\n",
    "ax.scatter(x,y,s)         # passing a third argument now, marker size\n",
    "ax.set_aspect('equal', adjustable='box')    \n",
    "\n",
    "# CHANGE THIS PLOT to implement a different scaling of the sizes"
   ]
  },
  {
   "cell_type": "markdown",
   "metadata": {},
   "source": [
    "Finally, let's distinguish the events based on the time they occurred. \n",
    "\n",
    "However, before we can do that, we'll need to **convert** the 'datetime' - YYYYMMDD - that we read from the text file from a float to a string, and then **reinterpret** this as a 'decimal year'. For this task, we will use the Python [datetime](https://docs.python.org/3/library/datetime.html) module."
   ]
  },
  {
   "cell_type": "code",
   "execution_count": null,
   "metadata": {},
   "outputs": [],
   "source": [
    "# import the datetime module\n",
    "from datetime import datetime\n",
    "\n",
    "# convert the dates from float -> integer -> string\n",
    "t0 = datetime.strptime('19910101', '%Y%m%d')           # reference time 1 Jan 1991\n",
    "times = []                                             # an empty list for storing each date as it is calculated\n",
    "for each_date in date:\n",
    "    # first, convert from float -> integer -> string    (converting straight to a string leaves an awkward decimal point)\n",
    "    str_date = str(int(each_date))\n",
    "    # interpret each datestring \n",
    "    t = datetime.strptime(str_date, '%Y%m%d')\n",
    "    # take the difference between the datestring and the reference time\n",
    "    dt = t - t0\n",
    "    # find the total seconds and convert the date to decimal years\n",
    "    times.append(dt.total_seconds()/(3600*24*365.25)+1991)"
   ]
  },
  {
   "cell_type": "markdown",
   "metadata": {},
   "source": [
    "Now let's plot events with colours **corresponding** with earthquake time (and add a colour bar for good measure)"
   ]
  },
  {
   "cell_type": "code",
   "execution_count": null,
   "metadata": {},
   "outputs": [],
   "source": [
    "f,ax = plt.subplots(1,1)                \n",
    "f.set_size_inches(10,10)\n",
    "\n",
    "CS = ax.scatter(x,y,s, c = times)            # use the new 'times' array to indicate to scale a color map\n",
    "ax.set_aspect('equal', adjustable='box')    \n",
    "plt.colorbar(CS, ax = ax)                   # create a colorbar and attach it to the 'ax' axis"
   ]
  },
  {
   "cell_type": "markdown",
   "metadata": {},
   "source": [
    "Not happy with this particular colour scheme? Let's change it (here is the [full selection](https://matplotlib.org/examples/color/colormaps_reference.html)).\n",
    "\n",
    "***For super-users, consider using a [colour-blind friendly colourmap](http://colorbrewer2.org/#type=sequential&scheme=BuGn&n=3).***"
   ]
  },
  {
   "cell_type": "code",
   "execution_count": null,
   "metadata": {},
   "outputs": [],
   "source": [
    "f,ax = plt.subplots(1,1)                \n",
    "f.set_size_inches(10,10)\n",
    "import matplotlib\n",
    "coolwarm = matplotlib.cm.get_cmap('coolwarm_r')     # import a new colormap - this one is 'coolwarm', reversed it with '_r'\n",
    "\n",
    "CS = ax.scatter(x,y,s, c= times, cmap=coolwarm)     # pass the colormap in here\n",
    "ax.set_aspect('equal', adjustable='box')    \n",
    "plt.colorbar(CS, ax = ax)               \n",
    "\n",
    "# CHANGE THIS PLOT to use a sequential colormap (your choice)"
   ]
  },
  {
   "cell_type": "markdown",
   "metadata": {},
   "source": [
    "Phew - you're getting pretty expert at this!\n",
    "\n",
    "**But we can do more...**\n",
    "\n",
    "Let's say we have an **image** that outlines the reservoir in which these events are occurring (we do, this image is in the same folder as this notebook, `groningen_reservoir.png`). We can load the image into Python, plot it, and then superimpose the earthquakes over the top."
   ]
  },
  {
   "cell_type": "code",
   "execution_count": null,
   "metadata": {},
   "outputs": [],
   "source": [
    "f,ax = plt.subplots(1,1)                \n",
    "f.set_size_inches(10,10)\n",
    "\n",
    "im = plt.imread('groningen_reservoir.png')                  # use the imread function to read an image file\n",
    "                                                            # 'im' is a MxNx3 array of image data (each pixel has three \n",
    "                                                            # components, corresponding to an RGB color) \n",
    "\n",
    "implot = ax.imshow(im, extent=[430, 475, 5902, 5950])     # plot the image and 'stretch' it to the given x and y limits\n",
    "\n",
    "# then, let's plot the earthquakes over the top\n",
    "CS = ax.scatter(x,y,s, c= times, cmap=coolwarm)     \n",
    "ax.set_aspect('equal', adjustable='box')    \n",
    "plt.colorbar(CS, ax = ax)       "
   ]
  },
  {
   "cell_type": "markdown",
   "metadata": {},
   "source": [
    "Starting to look pretty good right? You get the idea how a complex figure can be **built up** by just starting with some simple commands and then introducing **incremental improvements**.\n",
    "\n",
    "(*This code also implemented in script: [module 2 - visualisation/scatter_plot.py](scatter_plot.py) - try running it at the command line* `ipython scatter_plot.py`)\n",
    "\n",
    "In the next section, we'll consider a **variation** on this figure, mainly as a vehicle to introduce a few concepts that are important for 2D plotting."
   ]
  },
  {
   "cell_type": "markdown",
   "metadata": {},
   "source": [
    "### 2.2.2 Contour plots"
   ]
  },
  {
   "cell_type": "markdown",
   "metadata": {},
   "source": [
    "Let's say that instead of plotting the **individual** earthquakes themselves, we'd rather some visualisation of earthquake **density**. \n",
    "\n",
    "One way to go about this is the **histogram route** - divide the area (this time 2D instead of 1D) into **rectangular bins**, **count** the earthquakes in each, and then **assign a colour** corresponding to the number of earthquakes.\n",
    "\n",
    "I have done this in the cell below"
   ]
  },
  {
   "cell_type": "code",
   "execution_count": null,
   "metadata": {},
   "outputs": [],
   "source": [
    "f,ax = plt.subplots(1,1)                \n",
    "f.set_size_inches(10,10)\n",
    "im = plt.imread('groningen_reservoir.png')                  \n",
    "implot = ax.imshow(im, extent=[430, 475, 5902, 5950])     \n",
    "\n",
    "# use histogram2d to add up EQs in discrete bins\n",
    "xbin_edges = np.linspace(430,475,int((475-430)/1)+1)                    # divide x limits into 1 km bins\n",
    "ybin_edges = np.linspace(5899, 5950, int((5950-5899)/1)+1)              # same for y\n",
    "dens, xe, ye = np.histogram2d(x,y, [xbin_edges,ybin_edges])        # create the counting array\n",
    "dens = np.fliplr(dens)                                             # flip the matrix columns, left to right\n",
    "\n",
    "# create an empty RGBA figure (3 color components, 1 'alpha' component = transparency)\n",
    "    # create the 'transparency layer'\n",
    "alpha_dens = 0.*dens                       # all bins initially transparent\n",
    "alpha_dens[np.where(dens>0)] = 1     # any bin with data is not transparent\n",
    "dens_scale = dens/np.max(dens)*255         # scale to range [0,255] required for images\n",
    "im_dens = np.array([dens_scale, dens_scale, dens_scale, alpha_dens])\n",
    "implot = ax.imshow(im_dens.T, extent=[430, 475, 5899, 5950])    \n",
    "\n",
    "ax.set_aspect('equal', adjustable='box')     "
   ]
  },
  {
   "cell_type": "markdown",
   "metadata": {},
   "source": [
    "However, we can **do better** using something called a [Kernel Density Estimator](http://www.mglerner.com/blog/?p=28). This applies some smoothing to the histogram in an effort to combat arbitrary bin choice.\n",
    "\n",
    "I will use an implementation of [KDE](http://scikit-learn.org/stable/modules/density.html#kernel-density-estimation) provided in a module called [scikit-learn](http://scikit-learn.org/stable/). This module provides a bunch of machine learning tools."
   ]
  },
  {
   "cell_type": "code",
   "execution_count": null,
   "metadata": {},
   "outputs": [],
   "source": [
    "f,ax = plt.subplots(1,1)                \n",
    "f.set_size_inches(10,10)            \n",
    "YlOrBr = matplotlib.cm.get_cmap('CMRmap_r')\n",
    "\n",
    "# import the KDE\n",
    "from sklearn.neighbors import KernelDensity\n",
    "data = np.vstack([x,y]).T                    # format the data that we will use to train the KDE (the EQ locations)\n",
    "\n",
    "# Set up a grid for eventual CONTOUR PLOTTING of the KDE\n",
    "x0,x1,y0,y1 = [430, 475, 5899, 5950]                   # grid limits\n",
    "xg = np.linspace(x0,x1,101)                            # 101 points in the x dir\n",
    "yg = np.linspace(y0,y1,101)                            # same in the y\n",
    "X, Y = np.meshgrid(xg,yg)                              # create a meshgrid, 2D arrays of x and y coords\n",
    "xy = np.vstack([X.ravel(), Y.ravel()]).T               # combine the grid data together\n",
    "\n",
    "# create the KDE - I will use a Gaussian kernal (that is, normally distributed location errors) with a bandwidth\n",
    "# of 1 km (roughly the event location error)\n",
    "kde = KernelDensity(bandwidth=1, kernel='gaussian', algorithm='ball_tree')   # set KDE properties\n",
    "kde.fit(data)                                                                # train it with the EQ data\n",
    "# now we need to evaluate the KDE at our grid locations\n",
    "Z = np.exp(kde.score_samples(xy))\n",
    "Z = Z.reshape(X.shape)\n",
    "# plot contours of the density\n",
    "levels = np.linspace(0, Z.max(), 11)                # the levels at which contours will be drawn\n",
    "CS = ax.contourf(X, Y, Z, levels=levels, cmap=YlOrBr, zorder = 1)     # the (filled) contour method\n",
    "plt.colorbar(CS,ax=ax)\n",
    "\n",
    "# plot the reservoir outline over the top\n",
    "im = plt.imread('groningen_reservoir.png')  \n",
    "im[:,:,-1] = 1.*(im[:,:,0]<1.e-6)\n",
    "implot = ax.imshow(im, extent=[430, 475, 5899, 5950], zorder=2) "
   ]
  },
  {
   "cell_type": "markdown",
   "metadata": {
    "heading_collapsed": true
   },
   "source": [
    "#### &lt;neato&gt; Cartopy"
   ]
  },
  {
   "cell_type": "markdown",
   "metadata": {
    "hidden": true
   },
   "source": [
    "\n",
    "The final aspect of 2D plotting to show is a handy little package called [cartopy](http://scitools.org.uk/cartopy/docs/latest/index.html#). You'll have to install this package yourself (a good skill to have).\n",
    "\n",
    "Assuming you have installed Anaconda, go to the command line and type `conda install -c conda-forge cartopy`. Anaconda will automatically download and install cartopy and any packages it relies on. \n",
    "\n",
    "**Once you have done this, execute the cell below to plot a map of the world.**"
   ]
  },
  {
   "cell_type": "code",
   "execution_count": null,
   "metadata": {
    "hidden": true
   },
   "outputs": [],
   "source": [
    "# make cartopy available\n",
    "import cartopy.crs as ccrs\n",
    "\n",
    "# here, I am positioning the axes myself - this gives you much more flexibility in constructing figures with multiple subplots\n",
    "ax1 = plt.axes([0.10, 0.15, 0.35, 0.7], projection = ccrs.PlateCarree())    # note the different projections      \n",
    "ax2 = plt.axes([0.50, 0.15, 0.35, 0.7], projection = ccrs.Mollweide())          \n",
    "    \n",
    "# adding simple coastlines to each plot\n",
    "for ax in [ax1,ax2]:\n",
    "    ax.coastlines()\n",
    "\n",
    "f = plt.gcf()\n",
    "f.set_size_inches(20,20)"
   ]
  },
  {
   "cell_type": "markdown",
   "metadata": {
    "hidden": true
   },
   "source": [
    "<img src=\"img/cartopy1.png\" alt=\"Drawing\" style=\"width: 800px;\"/>"
   ]
  },
  {
   "cell_type": "markdown",
   "metadata": {
    "hidden": true
   },
   "source": [
    "I can zoom the plot in to show everyone's **second favourite** continent after [Zealandia](https://en.wikipedia.org/wiki/Zealandia), adding a little colour for splash."
   ]
  },
  {
   "cell_type": "code",
   "execution_count": null,
   "metadata": {
    "hidden": true
   },
   "outputs": [],
   "source": [
    "# code credit: Jeremy Riffault\n",
    "import cartopy.feature as cfeature\n",
    "from cartopy.mpl.gridliner import LONGITUDE_FORMATTER, LATITUDE_FORMATTER\n",
    "\n",
    "figsize = [7.48, 9.06]             # sets the dimensions of the figure to a full page\n",
    "text_size = 10.                    # text size for axis ticks and annotations\n",
    "\n",
    "# here we create the figure and set some its dimensions\n",
    "    # fiddling with margins, extent is not strictly necessary, but does demonstrate the control you have\n",
    "fig = plt.figure(figsize=figsize)\n",
    "margin_x = [0.1, 0.02]\n",
    "margin_y = [0.05, 0.02]\n",
    "ax = plt.axes([margin_x[0], margin_y[0], 1-sum(margin_x), 1-sum(margin_y)], projection=ccrs.PlateCarree())\n",
    "x_extent = [112, 154]              # longitude plot limits\n",
    "y_center = -25                     # center of lattitude axis (limits computed to be consistent with lon extent) \n",
    "y_delta = figsize[1]/figsize[0]*(x_extent[1]-x_extent[0])\n",
    "y_extent = [y_center-y_delta/2, y_center+y_delta/2]\n",
    "ax.set_extent([*x_extent, *y_extent], ccrs.PlateCarree())\n",
    "\n",
    "# add lines\n",
    "ax.coastlines(resolution='50m')\n",
    "\n",
    "# add coloured land and ocean\n",
    "land_50m = cfeature.NaturalEarthFeature('physical', 'land', '50m', edgecolor='k',facecolor=cfeature.COLORS['land'])\n",
    "ax.add_feature(land_50m, linewidth=.01)\n",
    "ocean_50m = cfeature.NaturalEarthFeature('physical', 'ocean', '50m', edgecolor='face',facecolor=cfeature.COLORS['water'])\n",
    "ax.add_feature(ocean_50m);"
   ]
  },
  {
   "cell_type": "markdown",
   "metadata": {
    "hidden": true
   },
   "source": [
    "<img src=\"img/cartopy2.png\" alt=\"Drawing\" style=\"width: 500px;\"/>"
   ]
  },
  {
   "cell_type": "markdown",
   "metadata": {
    "hidden": true
   },
   "source": [
    "We can do more!"
   ]
  },
  {
   "cell_type": "code",
   "execution_count": null,
   "metadata": {
    "hidden": true
   },
   "outputs": [],
   "source": [
    "# code credit: Jeremy Riffault\n",
    "fig = plt.figure(figsize=figsize)\n",
    "ax = plt.axes([margin_x[0], margin_y[0], 1-sum(margin_x), 1-sum(margin_y)], projection=ccrs.PlateCarree())\n",
    "ax.set_extent([*x_extent, *y_extent], ccrs.PlateCarree())\n",
    "ax.coastlines(resolution='50m')\n",
    "ax.add_feature(ocean_50m)\n",
    "ax.add_feature(land_50m, linewidth=.01)\n",
    "\n",
    "# add state provinces \n",
    "states_provinces = cfeature.NaturalEarthFeature(category='cultural', name='admin_1_states_provinces_lines', scale='50m', facecolor='none', edgecolor='k')\n",
    "ax.add_feature(states_provinces, linewidth=.5)\n",
    "\n",
    "# add locations of two Enhanced Geothermal System projects\n",
    "hb = {'lon': 140.45, 'lat':-27.495, 'txt':'Habanero'}\n",
    "pl = {'lon': 139.7, 'lat':-30.2, 'txt':'Paralana'}\n",
    "for EGS in [hb, pl]:\n",
    "    # we'll use 'scatter' to add the points\n",
    "    ax.scatter(EGS['lon'], EGS['lat'], marker = 's', c='r', zorder = 5, s = 3, lw=.1, edgecolors='k')\n",
    "    # and 'text' to annotate them\n",
    "    ax.text(EGS['lon']-0.5, EGS['lat'], EGS['txt'], fontsize = text_size, va='center', ha='right')\n",
    "\n",
    "# here are some things we can do to pretty up the axes (again, nice to have control of, but not strictly necessary)\n",
    "for axis in ['top','bottom','left','right']:\n",
    "    ax.spines[axis].set_linewidth(0.5)\n",
    "gl = ax.gridlines(crs=ccrs.PlateCarree(), draw_labels=True, alpha=0., linestyle = '--')\n",
    "gl.xlabels_top = False\n",
    "gl.ylabels_right = False\n",
    "gl.xlines = False\n",
    "gl.xformatter = LONGITUDE_FORMATTER\n",
    "gl.yformatter = LATITUDE_FORMATTER\n",
    "gl.xlabel_style = {'size': text_size}\n",
    "gl.ylabel_style = {'size': text_size}\n",
    "ax.tick_params(direction='out', length=6, width=2)"
   ]
  },
  {
   "cell_type": "markdown",
   "metadata": {
    "hidden": true
   },
   "source": [
    "<img src=\"img/cartopy3.png\" alt=\"Drawing\" style=\"width: 500px;\"/>"
   ]
  },
  {
   "cell_type": "markdown",
   "metadata": {
    "hidden": true
   },
   "source": [
    "For more resources on the use of Cartopy, refer to the [gallery](http://scitools.org.uk/cartopy/docs/latest/gallery.html) and the [Natural Earth](http://www.naturalearthdata.com/) database."
   ]
  },
  {
   "cell_type": "markdown",
   "metadata": {},
   "source": [
    "#### &lt;/neato&gt; "
   ]
  },
  {
   "cell_type": "markdown",
   "metadata": {},
   "source": [
    "## 2.3D (interactive view, meshed surfaces)"
   ]
  },
  {
   "cell_type": "markdown",
   "metadata": {},
   "source": [
    "Plotting in 3D comes up less often than the plot types we've looked at so far. Perhaps that is due to difficulties finding a good **view angle** when looking at 3D data.\n",
    "\n",
    "However, there are times when 3D plots provide a really powerful visual aide. I'll just show some simple examples here. "
   ]
  },
  {
   "cell_type": "code",
   "execution_count": null,
   "metadata": {},
   "outputs": [],
   "source": [
    "# import tools for 3D axes\n",
    "from mpl_toolkits.mplot3d import Axes3D\n",
    "from matplotlib import cm\n",
    "from matplotlib import pyplot as plt\n",
    "import numpy as np\n",
    "\n",
    "# create a grid\n",
    "xg = np.linspace(0,1,31)              # evenly spaced grid points\n",
    "yg = np.linspace(0,1,31)\n",
    "ymin,ymax = [0.15,0.85]               # create a smaller subgrid in the y-dir for coloring\n",
    "i1 = np.argmin(abs(yg-ymin))\n",
    "i2 = np.argmin(abs(yg-ymax))\n",
    "yg2 = yg[i1:i2+1]                     # subsample y coords\n",
    "[X,Y] = np.meshgrid(xg,yg)            # create the two mesh grids\n",
    "[X2,Y2] = np.meshgrid(xg,yg2)\n",
    "\n",
    "# create a custom surface\n",
    "    # parameters\n",
    "xm = np.mean(xg)*0.8\n",
    "ym = np.mean(yg)*1.2\n",
    "sx = 0.02*3.\n",
    "sy = 0.04*3.\n",
    "    # function defining the surface in terms of x, y and parameters\n",
    "def r(X,Y): \n",
    "    return (5-np.exp(-((X-xm)**2/sx+(Y-ym)**2/sy)))*(1-(X/4)**2)*(1+(Y/4)**2)\n",
    "\n",
    "# create a figure with a 3D projection\n",
    "fig = plt.figure(figsize=[15,8])\n",
    "ax = fig.add_subplot(111, projection='3d')\n",
    "\n",
    "# plot the function as a wireframe over the large grid\n",
    "ax.plot_wireframe(X, Y, r(X,Y), lw = 0.5, color = 'k')\n",
    "    # shade part of the wireframe according to the function value\n",
    "CS = ax.plot_surface(X2, Y2, r(X2,Y2), rstride=1, cstride=1,cmap=cm.Oranges, lw = 0.5)\n",
    "plt.colorbar(CS, ax=ax)"
   ]
  },
  {
   "cell_type": "markdown",
   "metadata": {},
   "source": [
    "It looks fine, but are we happy with that **view angle**? It's the **default** that Python chose - out of all possible angles, how can we expect Python to choose the **best**?\n",
    "\n",
    "It would be nicer if we could **modify it in real-time**..."
   ]
  },
  {
   "cell_type": "code",
   "execution_count": null,
   "metadata": {},
   "outputs": [],
   "source": [
    "# we'll add this IPython magic command\n",
    "%matplotlib notebook\n",
    "\n",
    "fig = plt.figure(figsize=[10,5])\n",
    "ax = fig.add_subplot(111, projection='3d')\n",
    "\n",
    "ax.plot_wireframe(X, Y, r(X,Y), lw = 0.5, color = 'k')\n",
    "CS = ax.plot_surface(X2, Y2, r(X2,Y2), rstride=1, cstride=1,cmap=cm.Oranges, lw = 0.5)\n",
    "plt.colorbar(CS, ax=ax)\n",
    "\n",
    "# and also a show() command\n",
    "plt.show()\n",
    "\n",
    "# execute this cell and click and drag the subplot below until you find a view you are happy with\n",
    "# HINT: sometimes you need to execute the cell twice (or restart the Python kernel and execute the cell above,  \n",
    "# then this one) to make the figure appear (I don't know why...)"
   ]
  },
  {
   "cell_type": "markdown",
   "metadata": {},
   "source": [
    "(*This code also implemented in script: [module 2 - visualisation/mesh_plot.py](mesh_plot.py) - try running it at the command line* `ipython mesh_plot.py`)"
   ]
  },
  {
   "cell_type": "markdown",
   "metadata": {},
   "source": [
    "## 2.4D (interactive plots, movies)"
   ]
  },
  {
   "cell_type": "markdown",
   "metadata": {},
   "source": [
    "Because the fourth dimension is **time**, right?\n",
    "\n",
    "Anyway, this section is about **moving** plots. There are two flavours we'll cover here:\n",
    "\n",
    "1. Interactive plots.\n",
    "2. Movies."
   ]
  },
  {
   "cell_type": "markdown",
   "metadata": {
    "heading_collapsed": true
   },
   "source": [
    "### 2.4.1 Interact"
   ]
  },
  {
   "cell_type": "markdown",
   "metadata": {
    "hidden": true
   },
   "source": [
    "Interactive plots are **excellent** in Jupyter notebooks. The `interact` method essentially **wraps around** any plot written as a **function**, adding slider bars, radio buttons, etc., that can be used to **update** plotting parameters in **real-time**. \n",
    "\n",
    "Let's look at the example of contamination due to a chemical spill into a groundwater aquifer with local flow velocity, $v$.\n",
    "\n",
    "\\begin{equation}\n",
    "C(x,t) = \\frac{M}{2\\sqrt{\\pi D t}}\\exp\\left(-\\frac{(x-vt)^2}{4Dt}\\right),\n",
    "\\end{equation}\n",
    "\n",
    "where $C$ is concentration, $M$ is the mass of spilled contaminant, and $D$ is the diffusion coefficient."
   ]
  },
  {
   "cell_type": "code",
   "execution_count": null,
   "metadata": {
    "hidden": true
   },
   "outputs": [],
   "source": [
    "%matplotlib inline\n",
    "# plot contamination down stream after two years\n",
    "f,ax = plt.subplots(1,1)\n",
    "x = np.linspace(0,10,101)                       # a vector of distance values to plot over\n",
    "M = 1000.                                       # mass of chemical spilled\n",
    "D = 0.1                                         # aquifer diffusivity\n",
    "v = 1.                                          # groundwater velocity\n",
    "t = 2.                                          # time at which to plot solution\n",
    "\n",
    "# compute chemical concentration\n",
    "C = M/(2*np.sqrt(np.pi*D*t))*np.exp(-(x-v*t)**2/(4*D*t))\n",
    "ax.plot(x,C, 'r-')\n",
    "ax.set_xlim([0, 10])\n",
    "ax.set_ylim([0, 1.e3])\n",
    "ax.set_xlabel('distance downstream [km]')\n",
    "ax.set_ylabel('concentration [kg/m^3]')"
   ]
  },
  {
   "cell_type": "markdown",
   "metadata": {
    "hidden": true
   },
   "source": [
    "Let's turn it into a **function**. This is less difficult that you might think."
   ]
  },
  {
   "cell_type": "code",
   "execution_count": null,
   "metadata": {
    "hidden": true
   },
   "outputs": [],
   "source": [
    "# a function that plots downstream contamination after two years, with flow velocity v as an input\n",
    "def plot_contamination(v):\n",
    "    f,ax = plt.subplots(1,1)\n",
    "    x = np.linspace(0,10,101)\n",
    "    M = 1000.\n",
    "    D = 0.1\n",
    "    t = 2.\n",
    "    C = M/(2*np.sqrt(np.pi*D*t))*np.exp(-(x-v*t)**2/(4*D*t))\n",
    "    ax.plot(x,C, 'r-')\n",
    "    ax.set_xlim([0, 10])\n",
    "    ax.set_ylim([0, 1.e3])\n",
    "    ax.set_xlabel('distance downstream [km]')\n",
    "    ax.set_ylabel('concentration [kg/m^3]')\n",
    "    \n",
    "# call the function with v = 1.5 to produce the same plot as above\n",
    "plot_contamination(v=1.5)\n",
    "\n",
    "# change the value of v and rerun the cell - does the plot update in a manner that you expect?"
   ]
  },
  {
   "cell_type": "markdown",
   "metadata": {
    "hidden": true
   },
   "source": [
    "Okay, now for the **magic**. We'll use `interact` from the ipywidgets module to turn this into an **interactive graph**."
   ]
  },
  {
   "cell_type": "code",
   "execution_count": null,
   "metadata": {
    "hidden": true
   },
   "outputs": [],
   "source": [
    "# first, let's get the interact function\n",
    "from ipywidgets import interact\n",
    "\n",
    "# then its as simple as one line\n",
    "interact(plot_contamination, v = (0.2, 4.8, 0.2));\n",
    "\n",
    "# play with the slider bar below and see how the graph is redrawn in real time, each time with an updated value v\n",
    "# the first input to 'interact' is the function to be executed\n",
    "# the second input says 'create a slider for the parameter v, let it vary between 0.2 and 4.8 in increments of 0.2)"
   ]
  },
  {
   "cell_type": "markdown",
   "metadata": {
    "heading_collapsed": true,
    "hidden": true
   },
   "source": [
    "#### &lt;homework&gt;"
   ]
  },
  {
   "cell_type": "code",
   "execution_count": null,
   "metadata": {
    "hidden": true
   },
   "outputs": [],
   "source": [
    "# CHANGE THE INTERACTIVE PLOT ABOVE to make D the slider parameter, varying between 0.02 and 0.98 in increments of 0.06\n",
    "\n",
    "# **change the function so D is the input**\n",
    "def plot_contamination(v):\n",
    "    f,ax = plt.subplots(1,1)\n",
    "    x = np.linspace(0,10,101)\n",
    "    M = 1000.\n",
    "    D = 0.1\n",
    "    t = 2.\n",
    "    C = M/(2*np.sqrt(np.pi*D*t))*np.exp(-(x-v*t)**2/(4*D*t))\n",
    "    ax.plot(x,C, 'r-')\n",
    "    ax.set_xlim([0, 10])\n",
    "    ax.set_ylim([0, 1.e3])\n",
    "    ax.set_xlabel('distance downstream [km]')\n",
    "    ax.set_ylabel('concentration [kg/m^3]')\n",
    "    \n",
    "# **change the interact call**\n",
    "interact();"
   ]
  },
  {
   "cell_type": "code",
   "execution_count": null,
   "metadata": {
    "hidden": true
   },
   "outputs": [],
   "source": [
    "# MAKE ANOTHER CHANGE so that BOTH v and D are slider parameters\n",
    "\n",
    "# **your code here**"
   ]
  },
  {
   "cell_type": "markdown",
   "metadata": {
    "hidden": true
   },
   "source": [
    "#### &lt;/homework&gt;"
   ]
  },
  {
   "cell_type": "markdown",
   "metadata": {
    "hidden": true
   },
   "source": [
    "We'll come back to the interact function in the **next notebook** when we look at fitting and calibrating models."
   ]
  },
  {
   "cell_type": "markdown",
   "metadata": {},
   "source": [
    "### 2.4.2 Movies"
   ]
  },
  {
   "cell_type": "markdown",
   "metadata": {},
   "source": [
    "When you watch a movie, what does it actually comprise? A **sequence of still images**, flashed in front of you in sequence (usually about 24 each second).\n",
    "\n",
    "We shall take a similar approach to creating movies in Python. You can already create still images (that's what this whole notebook is about) so now we just need to extend this idea to creating a **series** of still images, each one different from the previous.\n",
    "\n",
    "Finally, we will need a way to **turn those images into a movie**."
   ]
  },
  {
   "cell_type": "markdown",
   "metadata": {},
   "source": [
    "The example I'll show is for stress changes on a fault as a rupture propagates along it (an earthquake). Let's create a 5 second movie, in which the position of the rupture front, `a`, goes from 0.25 to 10 km.\n",
    "\n",
    "First, create a function that draws and saves a copy of the image."
   ]
  },
  {
   "cell_type": "code",
   "execution_count": null,
   "metadata": {},
   "outputs": [],
   "source": [
    "def plot_frame(i,a):\n",
    "    ''' Plots a single frame of the fault rupture, at position a.\n",
    "    \n",
    "        i = frame number\n",
    "        a = position of rupture front\n",
    "        \n",
    "        Stress changes are computed according to linear elastic fracture mechanics.\n",
    "        s = s0 for x>>a         (far field stress)\n",
    "        s = s0-ds for x<a       (stress drop inside rupture)\n",
    "        s ~ K/sqrt(x) for x>a   (decaying stresses with singularity at crack tip)\n",
    "    '''\n",
    "    f,ax = plt.subplots(1,1)\n",
    "    x = np.linspace(0,10.,1001)\n",
    "    \n",
    "    # calculate the stress field\n",
    "    s0 = 25.                      # pre-earthquake stress\n",
    "    ds = 3.                       # stress drop\n",
    "    K = s0*np.sqrt(np.pi*a)       # stress intensity factor\n",
    "    y = s0*np.ones(len(x))        # background stress vector\n",
    "    y[np.where(x<a)] = s0-ds      # stress behind the rupture\n",
    "    # stress increase in front of the rupture\n",
    "    y[np.where(x>=a)] = s0+K/np.sqrt(2*np.pi*(x[np.where(x>=a)]-a)*1.e3) \n",
    "    \n",
    "    # plot the stress changes\n",
    "    ax.plot(x,y,'k-')                  # plot stress changes\n",
    "    ax.plot([a,a], [s0-ds, 30], 'k:')  # stress singularity\n",
    "    ax.set_xlim([x[0], x[-1]])\n",
    "    ax.set_ylim([21, 30])\n",
    "    ax.set_xlabel('position along fault / km')\n",
    "    ax.set_ylabel('stress / MPa')\n",
    "    \n",
    "    # save the frame in a separate folder and name it using the index i\n",
    "    plt.savefig('all_frames/frame{:04d}.png'.format(i), dpi=300)\n",
    "    plt.close(f)                   # it will be important to close all these figures when we're looping\n",
    "    \n",
    "# this part should be familiar!\n",
    "import os\n",
    "if not os.path.isdir('all_frames'):\n",
    "    os.makedirs('all_frames')\n",
    "\n",
    "plot_frame(0,1.5)"
   ]
  },
  {
   "cell_type": "markdown",
   "metadata": {},
   "source": [
    "**Verify that a file called `frame0000.png` has been created in a directory `all_frames`.**  "
   ]
  },
  {
   "cell_type": "markdown",
   "metadata": {},
   "source": [
    "Now, let's create all the frames we'll need. We'll use a for loop to call `plot_frame` a bunch of times."
   ]
  },
  {
   "cell_type": "code",
   "execution_count": null,
   "metadata": {},
   "outputs": [],
   "source": [
    "FPS = 10           # ten frames per second, let's not be greedy\n",
    "secs = 5           # total seconds\n",
    "Nframes = secs*FPS  # total frames\n",
    "\n",
    "# each frame has a different value a, lets create a vector of a values\n",
    "avals = np.linspace(0.25, 10.0, Nframes)\n",
    "\n",
    "# then loop over each avalue and create the frame\n",
    "for i,a in enumerate(avals):               # enumerate is a handy function that both loops over the values in an array\n",
    "    plot_frame(i,a)                        # AND gives you a corresponding index"
   ]
  },
  {
   "cell_type": "markdown",
   "metadata": {},
   "source": [
    "Once this cell has finished running, there should be a large number of figures in the directory `all_frames`. Last step is to 'glue' them all together. We'll use an external command line tool called [ffmpeg](https://www.ffmpeg.org/documentation.html). (Note, if you downloaded this course from GitHub, you'll need to download a copy of ffmpeg.exe and drop it into the `module 2 - visualisation` folder.)\n",
    "\n",
    "This isn't a course on use of ffmpeg. I have provided the Python code to call out to ffmpeg to create a video, but if you want to get fancy you'll need to do your own Googling.\n",
    "\n",
    "**Execute the cell below to create a short movie. (This won't work if you're on Microsoft Azure)**"
   ]
  },
  {
   "cell_type": "code",
   "execution_count": null,
   "metadata": {},
   "outputs": [],
   "source": [
    "# we'll use os.system - a handy command that let's us implement command line calls without returning to the command line\n",
    "os.system('ffmpeg -framerate {:d} -i all_frames/frame%04d.png earthquake_movie.mp4'.format(FPS))"
   ]
  },
  {
   "cell_type": "markdown",
   "metadata": {},
   "source": [
    "**Verify that the movie you've created corresponds to the plotted frames.**"
   ]
  },
  {
   "cell_type": "markdown",
   "metadata": {},
   "source": [
    "Last job - tidy your bedroom!"
   ]
  },
  {
   "cell_type": "code",
   "execution_count": null,
   "metadata": {},
   "outputs": [],
   "source": [
    "from glob import glob\n",
    "fls = glob('all_frames/*.png')\n",
    "for fl in fls: os.remove(fl)\n",
    "os.rmdir('all_frames')"
   ]
  },
  {
   "cell_type": "markdown",
   "metadata": {},
   "source": [
    "(*This code also implemented in script: [module 2 - visualisation/eq_movie.py](eq_movie.py) - try running it at the command line* `ipython eq_movie.py`)"
   ]
  },
  {
   "cell_type": "markdown",
   "metadata": {},
   "source": [
    "# What now?"
   ]
  },
  {
   "cell_type": "markdown",
   "metadata": {},
   "source": [
    "You now have the basic tools to create all sorts of figures. Most papers I write these days, I have a separate Python script to create each figure. Rerunning simulations and getting new output? No problem, just run each figure's Python script and it is automatically updated!\n",
    "\n",
    "We've seen now how Python can (1) manage your data and (2) pretty it up for you. The final task is to look at **Modelling in Python**. \n",
    "\n",
    "**Open the [Models](../module 3 - models/Models.ipynb) notebook in the module 3 folder.**"
   ]
  }
 ],
 "metadata": {
  "kernelspec": {
   "display_name": "Python 3",
   "language": "python",
   "name": "python3"
  },
  "language_info": {
   "codemirror_mode": {
    "name": "ipython",
    "version": 3
   },
   "file_extension": ".py",
   "mimetype": "text/x-python",
   "name": "python",
   "nbconvert_exporter": "python",
   "pygments_lexer": "ipython3",
   "version": "3.6.0"
  }
 },
 "nbformat": 4,
 "nbformat_minor": 2
}
